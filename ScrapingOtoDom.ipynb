{
 "cells": [
  {
   "cell_type": "code",
   "execution_count": 171,
   "id": "176cdf60",
   "metadata": {},
   "outputs": [],
   "source": [
    "import selenium\n",
    "from selenium.webdriver import Firefox\n",
    "import time\n",
    "from selenium import webdriver\n",
    "from webdriver_manager.firefox import GeckoDriverManager"
   ]
  },
  {
   "cell_type": "code",
   "execution_count": 172,
   "id": "45e17426",
   "metadata": {},
   "outputs": [
    {
     "name": "stdout",
     "output_type": "stream",
     "text": [
      "\n"
     ]
    },
    {
     "name": "stderr",
     "output_type": "stream",
     "text": [
      "[WDM] - ====== WebDriver manager ======\n",
      "[WDM] - Current firefox version is 104.0\n",
      "[WDM] - Get LATEST geckodriver version for 104.0 firefox\n",
      "[WDM] - Driver [/home/krzysiek/.wdm/drivers/geckodriver/linux32/v0.33.0/geckodriver] found in cache\n"
     ]
    }
   ],
   "source": [
    "browser = webdriver.Firefox(executable_path=GeckoDriverManager().install())"
   ]
  },
  {
   "cell_type": "code",
   "execution_count": 173,
   "id": "1997c730",
   "metadata": {},
   "outputs": [],
   "source": [
    "browser.get('https://www.otodom.pl/')"
   ]
  },
  {
   "cell_type": "markdown",
   "id": "6086a83b",
   "metadata": {},
   "source": [
    "Baner z info o plikach cookie może zasłaniać elementy strony z interesującymi nas danymi, więc trzeba go zamknąć."
   ]
  },
  {
   "cell_type": "code",
   "execution_count": 174,
   "id": "493bde50",
   "metadata": {},
   "outputs": [],
   "source": [
    "time.sleep(1.5)"
   ]
  },
  {
   "cell_type": "code",
   "execution_count": 175,
   "id": "9907751c",
   "metadata": {},
   "outputs": [],
   "source": [
    "button = browser.find_element_by_id(\"onetrust-accept-btn-handler\")"
   ]
  },
  {
   "cell_type": "code",
   "execution_count": 176,
   "id": "96b3c122",
   "metadata": {},
   "outputs": [],
   "source": [
    "button.click()"
   ]
  },
  {
   "cell_type": "markdown",
   "id": "898acb24",
   "metadata": {},
   "source": [
    "Aby ustawić \"geograficzne\" filtry wyszukiwania musimy aktywować okno lokalizacji."
   ]
  },
  {
   "cell_type": "code",
   "execution_count": 177,
   "id": "ff2b91fc",
   "metadata": {},
   "outputs": [],
   "source": [
    "location_field = browser.find_element_by_xpath('//button[@id=\"location\"]')"
   ]
  },
  {
   "cell_type": "code",
   "execution_count": 178,
   "id": "9f6ede65",
   "metadata": {},
   "outputs": [],
   "source": [
    "time.sleep(1.5)"
   ]
  },
  {
   "cell_type": "code",
   "execution_count": 179,
   "id": "675433d1",
   "metadata": {},
   "outputs": [],
   "source": [
    "location_field.click()"
   ]
  },
  {
   "cell_type": "markdown",
   "id": "71213f5b",
   "metadata": {},
   "source": [
    "Wtedy możemy wyszukać konkretną lokalizację. Bez wcześniejszego kroku to by nie zadziałało."
   ]
  },
  {
   "cell_type": "code",
   "execution_count": 180,
   "id": "791e12ed",
   "metadata": {},
   "outputs": [],
   "source": [
    "low_silesia = browser.find_element_by_xpath('//label[@for=\"location-checkbox-dolnoslaskie\"]')"
   ]
  },
  {
   "cell_type": "code",
   "execution_count": 181,
   "id": "df9a9767",
   "metadata": {},
   "outputs": [],
   "source": [
    "time.sleep(1.5)"
   ]
  },
  {
   "cell_type": "code",
   "execution_count": 182,
   "id": "36d144fd",
   "metadata": {},
   "outputs": [],
   "source": [
    "low_silesia.click()"
   ]
  },
  {
   "cell_type": "code",
   "execution_count": 183,
   "id": "82ebc0f2",
   "metadata": {},
   "outputs": [],
   "source": [
    "results = browser.find_element_by_id(\"search-form-submit\")"
   ]
  },
  {
   "cell_type": "code",
   "execution_count": 184,
   "id": "12a8bdeb",
   "metadata": {},
   "outputs": [],
   "source": [
    "time.sleep(1.5)"
   ]
  },
  {
   "cell_type": "code",
   "execution_count": 185,
   "id": "8ee99cf0",
   "metadata": {},
   "outputs": [],
   "source": [
    "results.click()"
   ]
  },
  {
   "cell_type": "code",
   "execution_count": 186,
   "id": "e62cda15",
   "metadata": {},
   "outputs": [],
   "source": [
    "time.sleep(1.5)"
   ]
  },
  {
   "cell_type": "code",
   "execution_count": 187,
   "id": "90f8d511",
   "metadata": {},
   "outputs": [],
   "source": [
    "flats = browser.find_elements_by_xpath('//article/div/span')"
   ]
  },
  {
   "cell_type": "code",
   "execution_count": 188,
   "id": "f66f72a0",
   "metadata": {},
   "outputs": [],
   "source": [
    "time.sleep(1.5)"
   ]
  },
  {
   "cell_type": "code",
   "execution_count": 189,
   "id": "4fe814ed",
   "metadata": {},
   "outputs": [
    {
     "data": {
      "text/plain": [
       "195"
      ]
     },
     "execution_count": 189,
     "metadata": {},
     "output_type": "execute_result"
    }
   ],
   "source": [
    "len(flats)"
   ]
  },
  {
   "cell_type": "code",
   "execution_count": 190,
   "id": "d5f3600e",
   "metadata": {},
   "outputs": [
    {
     "name": "stdout",
     "output_type": "stream",
     "text": [
      "The length of refreshed_flats is 195\n",
      "The length of refreshed_flats is 195\n",
      "The length of refreshed_flats is 195\n",
      "The length of refreshed_flats is 195\n",
      "The length of refreshed_flats is 195\n",
      "The length of refreshed_flats is 195\n",
      "The length of refreshed_flats is 195\n"
     ]
    },
    {
     "ename": "KeyboardInterrupt",
     "evalue": "",
     "output_type": "error",
     "traceback": [
      "\u001b[0;31m---------------------------------------------------------------------------\u001b[0m",
      "\u001b[0;31mKeyboardInterrupt\u001b[0m                         Traceback (most recent call last)",
      "\u001b[0;32m<ipython-input-190-ffed7de79126>\u001b[0m in \u001b[0;36m<module>\u001b[0;34m()\u001b[0m\n\u001b[1;32m      1\u001b[0m \u001b[0;32mfor\u001b[0m \u001b[0mi\u001b[0m\u001b[0;34m,\u001b[0m \u001b[0mf\u001b[0m \u001b[0;32min\u001b[0m \u001b[0menumerate\u001b[0m\u001b[0;34m(\u001b[0m\u001b[0mflats\u001b[0m\u001b[0;34m)\u001b[0m \u001b[0;34m:\u001b[0m\u001b[0;34m\u001b[0m\u001b[0;34m\u001b[0m\u001b[0m\n\u001b[0;32m----> 2\u001b[0;31m     \u001b[0mtime\u001b[0m\u001b[0;34m.\u001b[0m\u001b[0msleep\u001b[0m\u001b[0;34m(\u001b[0m\u001b[0;36m2.5\u001b[0m\u001b[0;34m)\u001b[0m\u001b[0;34m\u001b[0m\u001b[0;34m\u001b[0m\u001b[0m\n\u001b[0m\u001b[1;32m      3\u001b[0m     \u001b[0mrefreshed_flats\u001b[0m \u001b[0;34m=\u001b[0m \u001b[0mbrowser\u001b[0m\u001b[0;34m.\u001b[0m\u001b[0mfind_elements_by_xpath\u001b[0m\u001b[0;34m(\u001b[0m\u001b[0;34m'//article/div/span'\u001b[0m\u001b[0;34m)\u001b[0m\u001b[0;34m\u001b[0m\u001b[0;34m\u001b[0m\u001b[0m\n\u001b[1;32m      4\u001b[0m     \u001b[0mtime\u001b[0m\u001b[0;34m.\u001b[0m\u001b[0msleep\u001b[0m\u001b[0;34m(\u001b[0m\u001b[0;36m2.5\u001b[0m\u001b[0;34m)\u001b[0m\u001b[0;34m\u001b[0m\u001b[0;34m\u001b[0m\u001b[0m\n\u001b[1;32m      5\u001b[0m     \u001b[0mprint\u001b[0m\u001b[0;34m(\u001b[0m\u001b[0;34m'The length of refreshed_flats is {}'\u001b[0m\u001b[0;34m.\u001b[0m\u001b[0mformat\u001b[0m\u001b[0;34m(\u001b[0m\u001b[0mlen\u001b[0m\u001b[0;34m(\u001b[0m\u001b[0mrefreshed_flats\u001b[0m\u001b[0;34m)\u001b[0m\u001b[0;34m)\u001b[0m\u001b[0;34m)\u001b[0m\u001b[0;34m\u001b[0m\u001b[0;34m\u001b[0m\u001b[0m\n",
      "\u001b[0;31mKeyboardInterrupt\u001b[0m: "
     ]
    }
   ],
   "source": [
    "for i, f in enumerate(flats) :\n",
    "    time.sleep(2.5)\n",
    "    refreshed_flats = browser.find_elements_by_xpath('//article/div/span')\n",
    "    time.sleep(2.5)\n",
    "    print('The length of refreshed_flats is {}'.format(len(refreshed_flats)))\n",
    "    refreshed_flats[i].click()\n",
    "    time.sleep(2.5)\n",
    "    browser.back()\n",
    "    time.sleep(2.5)\n",
    "    "
   ]
  },
  {
   "cell_type": "code",
   "execution_count": null,
   "id": "e2464a9b",
   "metadata": {},
   "outputs": [],
   "source": [
    "price = browser.find_element_by_xpath('//strong[@aria-label=\"Cena\"]').text\n",
    "highlights = browser.find_element_by_xpath('//header/h1').text\n",
    "address = browser.find_element_by_xpath('//a[@aria-label=\"Adres\"]').text"
   ]
  },
  {
   "cell_type": "code",
   "execution_count": 17,
   "id": "b2abf21f",
   "metadata": {},
   "outputs": [],
   "source": [
    "area = browser.find_element_by_xpath('//div[@aria-label=\"Powierzchnia\"]').text\n",
    "num_rooms = browser.find_element_by_xpath('//div[@aria-label=\"Liczba pokoi\"]').text\n",
    "floor = browser.find_element_by_xpath('//div[@aria-label=\"Piętro\"]').text\n",
    "rent = browser.find_element_by_xpath('//div[@aria-label=\"Czynsz\"]').text\n",
    "online_property_inspection = browser.find_element_by_xpath('//div[@aria-label=\"Obsługa zdalna\"]').text\n",
    "ownership_status = browser.find_element_by_xpath('//div[@aria-label=\"Forma własności\"]').text\n",
    "flat_condition = browser.find_element_by_xpath('//div[@aria-label=\"Stan wykończenia\"]').text\n",
    "perks = browser.find_element_by_xpath('//div[@aria-label=\"Balkon / ogród / taras\"]').text\n",
    "parking = browser.find_element_by_xpath('//div[@aria-label=\"Miejsce parkingowe\"]').text\n",
    "heating = browser.find_element_by_xpath('//div[@aria-label=\"Ogrzewanie\"]').text"
   ]
  },
  {
   "cell_type": "code",
   "execution_count": 18,
   "id": "9e87799d",
   "metadata": {},
   "outputs": [],
   "source": [
    "potential_flat_descr_bullets = browser.find_elements_by_xpath('//section/div/div/div/ul[1]/li')\n",
    "\n",
    "if potential_flat_descr_bullets != [] :\n",
    "    flat_description_bullets = [b.text for b in potential_flat_descr_bullets if b.text != '']\n",
    "\n",
    "potential_neighborhood_bullets = browser.find_elements_by_xpath('//section/div/div/div/ul[2]/li')\n",
    "\n",
    "if potential_neighborhood_bullets != [] :\n",
    "    neighborhood_bullets = [b.text for b in potential_neighborhood_bullets if b.text != '']"
   ]
  },
  {
   "cell_type": "code",
   "execution_count": 19,
   "id": "9a97d18c",
   "metadata": {},
   "outputs": [],
   "source": [
    "neighborhood_long_descr = ' '.join(\\\n",
    "                                   [b.text for b in\\\n",
    "                                    browser.find_elements_by_xpath('//section/div/div/div/p')]\\\n",
    "                                  ).strip()"
   ]
  },
  {
   "cell_type": "code",
   "execution_count": 20,
   "id": "24f808bb",
   "metadata": {},
   "outputs": [
    {
     "data": {
      "text/plain": [
       "'Sprzedam mieszkanie w stanie deweloperskim na osiedlu Browary Wrocławskie  przy ulicy Jedności Narodowej, w  budynku oddanym do użytku w 2021 r. Nieruchomość jest położona na 5. piętrze budynku pięciopiętrowego, z ekspozycją okien na północny wschód i wschód południowy, co przy upalnych latach jest wielkim atutem. Mieszkanie o powierzchni 75,48 m2 i wysokości 270 cm składa się salonu o pow. 17,2 m2 z salonu z wyjściem na balkon o powierzchni 4,75 m2 , wydzielonej kuchni  o powierzchni 8,27 m3 z oknem, z sypialni z miejscem na dużą szafę wnękową , dwóch mniejszych pokoi , łazienki, WC, pomieszczenia gospodarczego( pralni) i holu z miejscami na 5 szaf wnękowych.. Do lokalu przynależy komórka lokatorska o powierzchni 5,25 m2 położona  na tej samej kondygnacji.'"
      ]
     },
     "execution_count": 20,
     "metadata": {},
     "output_type": "execute_result"
    }
   ],
   "source": [
    "neighborhood_long_descr"
   ]
  },
  {
   "cell_type": "code",
   "execution_count": null,
   "id": "4c8906fc",
   "metadata": {},
   "outputs": [],
   "source": []
  }
 ],
 "metadata": {
  "hide_input": false,
  "kernelspec": {
   "display_name": "Python 3",
   "language": "python",
   "name": "python3"
  },
  "language_info": {
   "codemirror_mode": {
    "name": "ipython",
    "version": 3
   },
   "file_extension": ".py",
   "mimetype": "text/x-python",
   "name": "python",
   "nbconvert_exporter": "python",
   "pygments_lexer": "ipython3",
   "version": "3.6.9"
  }
 },
 "nbformat": 4,
 "nbformat_minor": 5
}
