{
 "cells": [
  {
   "cell_type": "code",
   "execution_count": 1,
   "id": "176cdf60",
   "metadata": {},
   "outputs": [],
   "source": [
    "import selenium\n",
    "from selenium.webdriver import Firefox\n",
    "import time\n",
    "from selenium import webdriver\n",
    "from webdriver_manager.firefox import GeckoDriverManager"
   ]
  },
  {
   "cell_type": "code",
   "execution_count": 3,
   "id": "45e17426",
   "metadata": {},
   "outputs": [
    {
     "name": "stdout",
     "output_type": "stream",
     "text": [
      "\n"
     ]
    },
    {
     "name": "stderr",
     "output_type": "stream",
     "text": [
      "[WDM] - ====== WebDriver manager ======\n",
      "[WDM] - Current firefox version is 104.0\n",
      "[WDM] - Get LATEST geckodriver version for 104.0 firefox\n",
      "[WDM] - Driver [/home/krzysiek/.wdm/drivers/geckodriver/linux32/v0.33.0/geckodriver] found in cache\n"
     ]
    }
   ],
   "source": [
    "browser = webdriver.Firefox(executable_path=GeckoDriverManager().install())"
   ]
  },
  {
   "cell_type": "code",
   "execution_count": 3,
   "id": "1997c730",
   "metadata": {},
   "outputs": [],
   "source": [
    "browser.get('https://www.otodom.pl/')"
   ]
  },
  {
   "cell_type": "markdown",
   "id": "6086a83b",
   "metadata": {},
   "source": [
    "Baner z info o plikach cookie może zasłaniać elementy strony z interesującymi nas danymi, więc trzeba go zamknąć."
   ]
  },
  {
   "cell_type": "code",
   "execution_count": 4,
   "id": "9907751c",
   "metadata": {},
   "outputs": [],
   "source": [
    "button = browser.find_element_by_id(\"onetrust-accept-btn-handler\")"
   ]
  },
  {
   "cell_type": "code",
   "execution_count": 5,
   "id": "96b3c122",
   "metadata": {},
   "outputs": [],
   "source": [
    "button.click()"
   ]
  },
  {
   "cell_type": "markdown",
   "id": "898acb24",
   "metadata": {},
   "source": [
    "Aby ustawić \"geograficzne\" filtry wyszukiwania musimy aktywować okno lokalizacji."
   ]
  },
  {
   "cell_type": "code",
   "execution_count": 6,
   "id": "ff2b91fc",
   "metadata": {},
   "outputs": [],
   "source": [
    "location_field = browser.find_element_by_xpath('//button[@id=\"location\"]')"
   ]
  },
  {
   "cell_type": "code",
   "execution_count": 7,
   "id": "675433d1",
   "metadata": {},
   "outputs": [],
   "source": [
    "location_field.click()"
   ]
  },
  {
   "cell_type": "markdown",
   "id": "71213f5b",
   "metadata": {},
   "source": [
    "Wtedy możemy wyszukać konkretną lokalizację. Bez wcześniejszego kroku to by nie zadziałało."
   ]
  },
  {
   "cell_type": "code",
   "execution_count": 8,
   "id": "791e12ed",
   "metadata": {},
   "outputs": [],
   "source": [
    "low_silesia = browser.find_element_by_xpath('//label[@for=\"location-checkbox-dolnoslaskie\"]')"
   ]
  },
  {
   "cell_type": "code",
   "execution_count": 9,
   "id": "36d144fd",
   "metadata": {},
   "outputs": [],
   "source": [
    "low_silesia.click()"
   ]
  },
  {
   "cell_type": "code",
   "execution_count": 10,
   "id": "82ebc0f2",
   "metadata": {},
   "outputs": [],
   "source": [
    "results = browser.find_element_by_id(\"search-form-submit\")"
   ]
  },
  {
   "cell_type": "code",
   "execution_count": 11,
   "id": "8ee99cf0",
   "metadata": {},
   "outputs": [],
   "source": [
    "results.click()"
   ]
  },
  {
   "cell_type": "code",
   "execution_count": 12,
   "id": "90f8d511",
   "metadata": {},
   "outputs": [],
   "source": [
    "flats = browser.find_elements_by_xpath('//article/div/span')"
   ]
  },
  {
   "cell_type": "code",
   "execution_count": 13,
   "id": "d5f3600e",
   "metadata": {},
   "outputs": [],
   "source": [
    "flats[0].click()"
   ]
  },
  {
   "cell_type": "code",
   "execution_count": 21,
   "id": "e2464a9b",
   "metadata": {},
   "outputs": [],
   "source": [
    "price = browser.find_element_by_xpath('//strong[@aria-label=\"Cena\"]').text\n",
    "highlights = browser.find_element_by_xpath('//header/h1').text\n",
    "address = browser.find_element_by_xpath('//a[@aria-label=\"Adres\"]').text"
   ]
  },
  {
   "cell_type": "code",
   "execution_count": null,
   "id": "b2abf21f",
   "metadata": {},
   "outputs": [],
   "source": [
    "area = browser.find_element_by_xpath('//div[@aria-label=\"Powierzchnia\"]').text\n",
    "num_rooms = browser.find_element_by_xpath('//div[@aria-label=\"Liczba pokoi\"]').text\n",
    "floor = browser.find_element_by_xpath('//div[@aria-label=\"Piętro\"]').text\n",
    "rent = browser.find_element_by_xpath('//div[@aria-label=\"Czynsz\"]').text\n",
    "online_property_inspection = browser.find_element_by_xpath('//div[@aria-label=\"Obsługa zdalna\"]').text\n",
    "ownership_status = browser.find_element_by_xpath('//div[@aria-label=\"Forma własności\"]').text\n",
    "flat_condition = browser.find_element_by_xpath('//div[@aria-label=\"Stan wykończenia\"]').text\n",
    "perks = browser.find_element_by_xpath('//div[@aria-label=\"Balkon / ogród / taras\"]').text\n",
    "parking = browser.find_element_by_xpath('//div[@aria-label=\"Miejsce parkingowe\"]').text\n",
    "heating = browser.find_element_by_xpath('//div[@aria-label=\"Ogrzewanie\"]').text"
   ]
  },
  {
   "cell_type": "code",
   "execution_count": 36,
   "id": "9e87799d",
   "metadata": {},
   "outputs": [],
   "source": [
    "potential_flat_descr_bullets = browser.find_elements_by_xpath('//section/div/div/div/ul[1]/li')\n",
    "\n",
    "if potential_flat_descr_bullets != [] :\n",
    "    flat_description_bullets = [b.text for b in potential_flat_descr_bullets if b.text != '']\n",
    "\n",
    "potential_neighborhood_bullets = browser.find_elements_by_xpath('//section/div/div/div/ul[2]/li')\n",
    "\n",
    "if potential_neighborhood_bullets != [] :\n",
    "    neighborhood_bullets = [b.text for b in potential_neighborhood_bullets if b.text != '']"
   ]
  },
  {
   "cell_type": "code",
   "execution_count": 42,
   "id": "9a97d18c",
   "metadata": {},
   "outputs": [],
   "source": [
    "neighborhood_long_descr = ' '.join(\\\n",
    "                                   [b.text for b in\\\n",
    "                                    browser.find_elements_by_xpath('//section/div/div/div/p')]\\\n",
    "                                  ).strip()"
   ]
  },
  {
   "cell_type": "code",
   "execution_count": 43,
   "id": "24f808bb",
   "metadata": {},
   "outputs": [
    {
     "data": {
      "text/plain": [
       "'Lokum Verde, powstające na wrocławskim Zakrzowie, to osiedle-ogród, dedykowane każdemu kto ceni naturę, spokój, wolność i harmonie. Inwestycja obejmuje budowę zróżnicowanych kondygnacyjnie obiektów o prostych, ponadczasowych formach. Nowoczesna estetyka budynków zostanie podkreślona dużymi oknami oraz szklanymi balustradami balkonów i loggii. Na terenie osiedla dominują budynki 5-kondygnacyjne, obok których stanęły trzy kameralne, 2-piętrowe wille miejskie mieszczące po 10-11 lokali. Rozbudowana oferta mieszkaniowa zawiera mieszkania od 1- do 5-pokojowych o metrażach od 31 do ponad 90 mkw. Część mieszkań oferuje możliwość zmiany układu z dwóch lub trzech pokoi z osobną kuchnią na trzy lub cztery pokoje z aneksem kuchennym. Do większości parterowych mieszkań przynależą prywatne ogródki – oddzielone żywopłotami od przestrzeni dziedzińców – natomiast lokale usytuowane na wyższych kondygnacjach posiadają dodatkową przestrzeń w postaci balkonów lub loggii. Dodatkowo okna w mieszkaniach na parterze posiadają rolety zewnętrzne. W inwestycji zadbano nie tylko o doskonałe mieszkania, ale również świetnie zagospodarowany teren wspólny. Na osiedlu znajdują się miejsca do aktywnego wypoczynku i plac zabaw. Wśród atrakcji przewidziano: sprzęty do ćwiczeń na powierzchni, miejsca idealne do gry i zabawy, ścieżki spacerowo-rowerowe, zielone przestrzenie wypełnione krzewami i klombami kwiatów. Dla wygody zmotoryzowanych mieszkańców przygotowano również miejsca postojowe naziemne i w garażach podziemnych.'"
      ]
     },
     "execution_count": 43,
     "metadata": {},
     "output_type": "execute_result"
    }
   ],
   "source": [
    "neighborhood_long_descr"
   ]
  },
  {
   "cell_type": "code",
   "execution_count": null,
   "id": "4c8906fc",
   "metadata": {},
   "outputs": [],
   "source": []
  }
 ],
 "metadata": {
  "hide_input": false,
  "kernelspec": {
   "display_name": "Python 3",
   "language": "python",
   "name": "python3"
  },
  "language_info": {
   "codemirror_mode": {
    "name": "ipython",
    "version": 3
   },
   "file_extension": ".py",
   "mimetype": "text/x-python",
   "name": "python",
   "nbconvert_exporter": "python",
   "pygments_lexer": "ipython3",
   "version": "3.6.9"
  }
 },
 "nbformat": 4,
 "nbformat_minor": 5
}
