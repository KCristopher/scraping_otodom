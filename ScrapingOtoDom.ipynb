{
 "cells": [
  {
   "cell_type": "code",
   "execution_count": 1,
   "id": "176cdf60",
   "metadata": {},
   "outputs": [],
   "source": [
    "import selenium\n",
    "from selenium.webdriver import Firefox\n",
    "import time\n",
    "from selenium import webdriver\n",
    "from webdriver_manager.firefox import GeckoDriverManager\n",
    "import pandas as pd\n",
    "from selenium.webdriver.common.action_chains import ActionChains\n",
    "from selenium.webdriver.common.keys import Keys"
   ]
  },
  {
   "cell_type": "code",
   "execution_count": 2,
   "id": "45e17426",
   "metadata": {},
   "outputs": [
    {
     "name": "stdout",
     "output_type": "stream",
     "text": [
      "\n"
     ]
    },
    {
     "name": "stderr",
     "output_type": "stream",
     "text": [
      "[WDM] - ====== WebDriver manager ======\n",
      "[WDM] - Current firefox version is 104.0\n",
      "[WDM] - Get LATEST geckodriver version for 104.0 firefox\n",
      "[WDM] - Driver [/home/krzysiek/.wdm/drivers/geckodriver/linux32/v0.33.0/geckodriver] found in cache\n"
     ]
    }
   ],
   "source": [
    "browser = webdriver.Firefox(executable_path=GeckoDriverManager().install())"
   ]
  },
  {
   "cell_type": "code",
   "execution_count": 3,
   "id": "1997c730",
   "metadata": {},
   "outputs": [],
   "source": [
    "browser.get('https://www.otodom.pl/')"
   ]
  },
  {
   "cell_type": "markdown",
   "id": "6086a83b",
   "metadata": {},
   "source": [
    "Baner z info o plikach cookie może zasłaniać elementy strony z interesującymi nas danymi, więc trzeba go zamknąć."
   ]
  },
  {
   "cell_type": "code",
   "execution_count": 4,
   "id": "493bde50",
   "metadata": {},
   "outputs": [],
   "source": [
    "time.sleep(1.5)"
   ]
  },
  {
   "cell_type": "code",
   "execution_count": 5,
   "id": "9907751c",
   "metadata": {},
   "outputs": [],
   "source": [
    "button = browser.find_element_by_id(\"onetrust-accept-btn-handler\")"
   ]
  },
  {
   "cell_type": "code",
   "execution_count": 6,
   "id": "96b3c122",
   "metadata": {},
   "outputs": [],
   "source": [
    "button.click()"
   ]
  },
  {
   "cell_type": "markdown",
   "id": "898acb24",
   "metadata": {},
   "source": [
    "Aby ustawić \"geograficzne\" filtry wyszukiwania musimy aktywować okno lokalizacji."
   ]
  },
  {
   "cell_type": "code",
   "execution_count": 7,
   "id": "ff2b91fc",
   "metadata": {},
   "outputs": [],
   "source": [
    "location_field = browser.find_element_by_xpath('//button[@id=\"location\"]')"
   ]
  },
  {
   "cell_type": "code",
   "execution_count": 8,
   "id": "9f6ede65",
   "metadata": {},
   "outputs": [],
   "source": [
    "time.sleep(1.5)"
   ]
  },
  {
   "cell_type": "code",
   "execution_count": 9,
   "id": "675433d1",
   "metadata": {},
   "outputs": [],
   "source": [
    "location_field.click()"
   ]
  },
  {
   "cell_type": "markdown",
   "id": "71213f5b",
   "metadata": {},
   "source": [
    "Wtedy możemy wyszukać konkretną lokalizację. Bez wcześniejszego kroku to by nie zadziałało."
   ]
  },
  {
   "cell_type": "code",
   "execution_count": 10,
   "id": "791e12ed",
   "metadata": {},
   "outputs": [],
   "source": [
    "low_silesia = browser.find_element_by_xpath('//label[@for=\"location-checkbox-dolnoslaskie\"]')"
   ]
  },
  {
   "cell_type": "code",
   "execution_count": 11,
   "id": "df9a9767",
   "metadata": {},
   "outputs": [],
   "source": [
    "time.sleep(1.5)"
   ]
  },
  {
   "cell_type": "code",
   "execution_count": 12,
   "id": "36d144fd",
   "metadata": {},
   "outputs": [],
   "source": [
    "low_silesia.click()"
   ]
  },
  {
   "cell_type": "code",
   "execution_count": 13,
   "id": "82ebc0f2",
   "metadata": {},
   "outputs": [],
   "source": [
    "results = browser.find_element_by_id(\"search-form-submit\")"
   ]
  },
  {
   "cell_type": "code",
   "execution_count": 14,
   "id": "12a8bdeb",
   "metadata": {},
   "outputs": [],
   "source": [
    "time.sleep(1.5)"
   ]
  },
  {
   "cell_type": "code",
   "execution_count": 15,
   "id": "8ee99cf0",
   "metadata": {},
   "outputs": [],
   "source": [
    "results.click()"
   ]
  },
  {
   "cell_type": "code",
   "execution_count": 16,
   "id": "e62cda15",
   "metadata": {},
   "outputs": [],
   "source": [
    "time.sleep(1.5)"
   ]
  },
  {
   "cell_type": "code",
   "execution_count": 37,
   "id": "f66f72a0",
   "metadata": {},
   "outputs": [],
   "source": [
    "time.sleep(1.5)"
   ]
  },
  {
   "cell_type": "code",
   "execution_count": 17,
   "id": "39984bad",
   "metadata": {},
   "outputs": [],
   "source": [
    "browser.maximize_window()"
   ]
  },
  {
   "cell_type": "code",
   "execution_count": 44,
   "id": "6217e9b0",
   "metadata": {},
   "outputs": [
    {
     "data": {
      "text/plain": [
       "[<selenium.webdriver.firefox.webelement.FirefoxWebElement (session=\"00b82e95-8da3-4c4f-b8af-49f463b70a97\", element=\"2e04ef74-4781-444e-9cf9-31e77c6021c3\")>]"
      ]
     },
     "execution_count": 44,
     "metadata": {},
     "output_type": "execute_result"
    }
   ],
   "source": [
    "browser.find_elements_by_xpath(\"//*[contains(@*, 'div')]\")"
   ]
  },
  {
   "cell_type": "code",
   "execution_count": 30,
   "id": "10694585",
   "metadata": {},
   "outputs": [],
   "source": [
    "actions = ActionChains(browser)\n",
    "browser.execute_script(\"arguments[0].scrollIntoView();\", flats[0])\n",
    "time.sleep(0)\n",
    "actions.context_click(flats[4]).perform()\n",
    "#actions.send_keys('w').perform()"
   ]
  },
  {
   "cell_type": "code",
   "execution_count": 27,
   "id": "774223cc",
   "metadata": {},
   "outputs": [],
   "source": [
    "flats = browser.find_elements_by_xpath('//li/a/article/div')"
   ]
  },
  {
   "cell_type": "code",
   "execution_count": 28,
   "id": "62ed3e31",
   "metadata": {},
   "outputs": [
    {
     "data": {
      "text/plain": [
       "'OLIMPIA PORT 3-pokoje, 66mkw, budynek przy Odrze.'"
      ]
     },
     "execution_count": 28,
     "metadata": {},
     "output_type": "execute_result"
    }
   ],
   "source": [
    "flats[0].text"
   ]
  },
  {
   "cell_type": "code",
   "execution_count": 350,
   "id": "49f39c57",
   "metadata": {},
   "outputs": [
    {
     "name": "stdout",
     "output_type": "stream",
     "text": [
      "2pok.50m. nowe, urządzone ul. Chorwacka, Wrocław\n",
      "720 000 zł\n",
      "14 400 zł/m²\n",
      "2 pokoje\n",
      "50 m²\n",
      "Przestronne i klimatyzowane mieszkanie na Gądowie\n",
      "874 000 zł\n",
      "10 646 zł/m²\n",
      "3 pokoje\n",
      "82.1 m²\n",
      "2 pokoje, balkon, garaż dwumiejscowy, ul.Chorwacka\n",
      "799 000 zł\n",
      "13 465 zł/m²\n",
      "2 pokoje\n",
      "59.34 m²\n",
      "3 Pokoje | 2 Balkony | Kredyt 2%| Bez Pcc!\n",
      "672 719 zł\n",
      "11 090 zł/m²\n",
      "3 pokoje\n",
      "60.66 m²\n",
      "M3 | 2 Balkony | Oddzielna Kuchnia | Kredyt 2!\n",
      "671 785 zł\n",
      "10 790 zł/m²\n",
      "3 pokoje\n",
      "62.26 m²\n",
      "Mieszkanie 2 pokojowe w bloku\n",
      "220 000 zł\n",
      "5882 zł/m²\n",
      "2 pokoje\n",
      "37.4 m²\n",
      "2 pokoje/Stare Miasto/BEZCZYNSZOWE\n",
      "439 000 zł\n",
      "9476 zł/m²\n",
      "2 pokoje\n",
      "46.33 m²\n",
      "3-pokoje, wynajem pod studentów, ul. Energetyczna\n",
      "459 000 zł\n",
      "10 075 zł/m²\n",
      "3 pokoje\n",
      "45.56 m²\n",
      "Brochów, 4 pok, 67 m2, ul. Centralna, okazja\n",
      "625 000 zł\n",
      "8256 zł/m²\n",
      "4 pokoje\n",
      "75.7 m²\n",
      "Słoneczne M3 • Niska cena za m2 • Zadzwoń!\n",
      "447 615 zł\n",
      "8700 zł/m²\n",
      "3 pokoje\n",
      "51.45 m²\n",
      "Dwupokojowe mieszkanie przy Rynku\n",
      "832 000 zł\n",
      "13 000 zł/m²\n",
      "2 pokoje\n",
      "64 m²\n",
      "Komfortowy apartament na Tarnogaju\n",
      "980 000 zł\n",
      "14 605 zł/m²\n",
      "3 pokoje\n",
      "67.1 m²\n",
      "Pogodna ,parter, 55m2 ,balkon, miejsce parkingowe.\n",
      "396 000 zł\n",
      "7200 zł/m²\n",
      "2 pokoje\n",
      "55 m²\n",
      "Nowe 64 Mkw / 3 Pokoje / Duży Taras i Loggia\n",
      "789 000 zł\n",
      "12 313 zł/m²\n",
      "3 pokoje\n",
      "64.08 m²\n",
      "Mieszkanie 4pokojowe, os.Asnyka,balkon,co miejskie\n",
      "295 000 zł\n",
      "5221 zł/m²\n",
      "4 pokoje\n",
      "56.5 m²\n",
      "Przytulne Mieszkanie Dla Pary - 36 Mkw\n",
      "519 000 zł\n",
      "14 409 zł/m²\n",
      "2 pokoje\n",
      "36.02 m²\n",
      "Nowe 61 Mkw / 3 Pokoje / Duży Balkon\n",
      "709 000 zł\n",
      "11 551 zł/m²\n",
      "3 pokoje\n",
      "61.38 m²\n",
      "2-poziomowe mieszkanie, teren zamknięty!\n",
      "430 000 zł\n",
      "7084 zł/m²\n",
      "3 pokoje\n",
      "60.7 m²\n",
      "Atrakcyjny Apartament 2 pokojowy + Ogródek\n",
      "376 559 zł\n",
      "8900 zł/m²\n",
      "2 pokoje\n",
      "42.31 m²\n",
      "Inwestycyjnie - 4 kawalerki na jednej KW!\n",
      "560 000 zł\n",
      "5517 zł/m²\n",
      "4 pokoje\n",
      "101.5 m²\n",
      "Piękne mieszkanie w górach\n",
      "680 000 zł\n",
      "8057 zł/m²\n",
      "3 pokoje\n",
      "84.4 m²\n",
      "Nowe mieszkanie 50 m2 z ogródkiem i parkingiem\n",
      "370 000 zł\n",
      "7400 zł/m²\n",
      "3 pokoje\n",
      "50 m²\n",
      "Okolice ul. Pomorskiej Nowe/Balkon/Graż/Lux\n",
      "795 000 zł\n",
      "13 660 zł/m²\n",
      "3 pokoje\n",
      "58.2 m²\n",
      "Wielofunkcyjna kawalerka w centrum Wrocławia\n",
      "420 000 zł\n",
      "16 800 zł/m²\n",
      "1 pokój\n",
      "25 m²\n",
      "Przestronne mieszkanie 3pok/63m+ogród Bulw. Dedala\n",
      "960 000 zł\n",
      "15 238 zł/m²\n",
      "3 pokoje\n",
      "63 m²\n",
      "mieszkanie 4 pok Brzeg Dolny/Fabryczne\n",
      "285 000 zł\n",
      "4842 zł/m²\n",
      "4 pokoje\n",
      "58.86 m²\n",
      "Mieszkanie 4 pokojowe przy rynku\n",
      "255 000 zł\n",
      "2751 zł/m²\n",
      "4 pokoje\n",
      "92.7 m²\n",
      "mieszkanie na Osiedlu Sudeckim w Świebodzicach\n",
      "246 000 zł\n",
      "5729 zł/m²\n",
      "3 pokoje\n",
      "42.94 m²\n",
      "Poddasze - adaptacja na cele mieszkaniowe\n",
      "250 000 zł\n",
      "3898 zł/m²\n",
      "1 pokój\n",
      "64.14 m²\n",
      "Mieszkanie 4 pokojowe w centrum Jeleniej Góry\n",
      "558 200 zł\n",
      "4000 zł/m²\n",
      "4 pokoje\n",
      "139.56 m²\n",
      "Mieszkanie - Wrocław Stare Miasto\n",
      "7000 zł\n",
      "80 zł/m²\n",
      "4 pokoje\n",
      "87 m²\n",
      "Różanka, 3 pokoje, rozkład, balkon, piwnica\n",
      "569 000 zł\n",
      "9468 zł/m²\n",
      "3 pokoje\n",
      "60.1 m²\n",
      "Mieszkanie na 1 Piętrze\n",
      "285 000 zł\n",
      "5502 zł/m²\n",
      "2 pokoje\n",
      "51.8 m²\n",
      "Trzypokojowe mieszkanie Świebodzice Rynek\n",
      "219 000 zł\n",
      "3911 zł/m²\n",
      "3 pokoje\n",
      "56 m²\n",
      "Apartament - Miejsce Postojowe I Komórka W Cenie\n",
      "633 000 zł\n",
      "13 188 zł/m²\n",
      "2 pokoje\n",
      "48 m²\n",
      "Nadodrze/4 pokoje/2 poziomy/piwnica\n",
      "799 000 zł\n",
      "8573 zł/m²\n",
      "4 pokoje\n",
      "93.2 m²\n",
      "Śródmieście/Piwnica/Kamienica/Duże mieszkanie\n",
      "750 000 zł\n",
      "8897 zł/m²\n",
      "3 pokoje\n",
      "84.3 m²\n",
      "2-pokojowe mieszkanie w okolicach Centrum!\n",
      "310 000 zł\n",
      "6739 zł/m²\n",
      "2 pokoje\n",
      "46 m²\n",
      "Kawalerka z możliwością antresoli 39m2+15m2, Rynek\n",
      "1 100 000 zł\n",
      "28 394 zł/m²\n",
      "1 pokój\n",
      "38.74 m²\n"
     ]
    }
   ],
   "source": [
    "for f in flats :\n",
    "    print(f.text)"
   ]
  },
  {
   "cell_type": "code",
   "execution_count": 385,
   "id": "4fe814ed",
   "metadata": {},
   "outputs": [
    {
     "data": {
      "text/plain": [
       "195"
      ]
     },
     "execution_count": 385,
     "metadata": {},
     "output_type": "execute_result"
    }
   ],
   "source": [
    "len(flats)"
   ]
  },
  {
   "cell_type": "code",
   "execution_count": 135,
   "id": "4bb4ff62",
   "metadata": {},
   "outputs": [
    {
     "name": "stdout",
     "output_type": "stream",
     "text": [
      "{'price': '245 000 zł', 'highlights': 'Świętoszów lokal na mieszkanie', 'address': 'ul. Świerkowa 10a, Świętoszów, Osiecznica, bolesławiecki, dolnośląskie', 'area': 'Powierzchnia\\n230 m²', 'num_rooms': 'Liczba pokoi\\n6', 'floor': 'Piętro\\nparter/1', 'rent': 'Czynsz\\n100 zł', 'online_property_inspection': 'Obsługa zdalna\\ntak', 'ownership_status': 'Forma własności\\npełna własność', 'flat_condition': 'Stan wykończenia\\ndo remontu', 'perks': 'Balkon / ogród / taras\\nogródek', 'parking': 'Miejsce parkingowe\\ngaraż/miejsce parkingowe', 'heating': 'Ogrzewanie\\nelektryczne', 'flat_description_bullets': [], 'neighborhood_bullets': []}\n",
      "{'price': '389 000 zł', 'highlights': 'Mieszkanie 70 m2 Chojnów', 'address': 'ul. Bolesława Chrobrego, Chojnów, legnicki, dolnośląskie', 'area': 'Powierzchnia\\n70 m²', 'num_rooms': 'Liczba pokoi\\n4', 'floor': 'Piętro\\n3/4', 'rent': 'Czynsz\\nZapytaj', 'online_property_inspection': 'Obsługa zdalna\\nZapytaj', 'ownership_status': 'Forma własności\\npełna własność', 'flat_condition': 'Stan wykończenia\\ndo zamieszkania', 'perks': 'Balkon / ogród / taras\\nbalkon', 'parking': 'Miejsce parkingowe\\nZapytaj', 'heating': 'Ogrzewanie\\nmiejskie', 'flat_description_bullets': [], 'neighborhood_bullets': []}\n",
      "{'price': '335 000 zł', 'highlights': 'Mieszkanie na osiedlu Piast', 'address': 'ul. Władysława Hermana, Lubań, lubański, dolnośląskie', 'area': 'Powierzchnia\\n61 m²', 'num_rooms': 'Liczba pokoi\\n3', 'floor': 'Piętro\\n4/4', 'rent': 'Czynsz\\nZapytaj', 'online_property_inspection': 'Obsługa zdalna\\nZapytaj', 'ownership_status': 'Forma własności\\npełna własność', 'flat_condition': 'Stan wykończenia\\ndo zamieszkania', 'perks': 'Balkon / ogród / taras\\nbalkon', 'parking': 'Miejsce parkingowe\\nZapytaj', 'heating': 'Ogrzewanie\\nZapytaj', 'flat_description_bullets': [], 'neighborhood_bullets': []}\n",
      "{'price': '600 000 zł', 'highlights': 'Mieszkanie 3-pok - Bielany Wrocławskie', 'address': 'ul. Konwaliowa, Bielany Wrocławskie, Kobierzyce, wrocławski, dolnośląskie', 'area': 'Powierzchnia\\n48,78 m²', 'num_rooms': 'Liczba pokoi\\n3', 'floor': 'Piętro\\n2/2', 'rent': 'Czynsz\\n450 zł', 'online_property_inspection': 'Obsługa zdalna\\nZapytaj', 'ownership_status': 'Forma własności\\npełna własność', 'flat_condition': 'Stan wykończenia\\ndo zamieszkania', 'perks': 'Balkon / ogród / taras\\nbalkon', 'parking': 'Miejsce parkingowe\\ngaraż/miejsce parkingowe', 'heating': 'Ogrzewanie\\ngazowe', 'flat_description_bullets': [], 'neighborhood_bullets': []}\n",
      "{'price': '474 012 zł', 'highlights': '☀️Słoneczny Nowy Otok☀️6/B1 - Mieszkanie z ogrodem', 'address': 'ul. Wesoła, Oława, oławski, dolnośląskie', 'area': 'Powierzchnia\\n56,43 m²', 'num_rooms': 'Liczba pokoi\\n3', 'floor': 'Piętro\\nparter/1', 'rent': 'Czynsz\\nZapytaj', 'online_property_inspection': 'Obsługa zdalna\\nZapytaj', 'ownership_status': 'Forma własności\\npełna własność', 'flat_condition': 'Stan wykończenia\\ndo wykończenia', 'perks': 'Balkon / ogród / taras\\nogródek, taras', 'parking': 'Miejsce parkingowe\\ngaraż/miejsce parkingowe', 'heating': 'Ogrzewanie\\ninne', 'flat_description_bullets': [], 'neighborhood_bullets': []}\n",
      "{'price': '339 000 zł', 'highlights': 'Bezpośrednio kawalerka wyposażona z sypialnią balk', 'address': 'ul. Boiskowa, Bieńkowice, Krzyki, Wrocław, dolnośląskie', 'area': 'Powierzchnia\\n24,34 m²', 'num_rooms': 'Liczba pokoi\\n1', 'floor': 'Piętro\\n2', 'rent': 'Czynsz\\nZapytaj', 'online_property_inspection': 'Obsługa zdalna\\nZapytaj', 'ownership_status': 'Forma własności\\nZapytaj', 'flat_condition': 'Stan wykończenia\\nZapytaj', 'perks': 'Balkon / ogród / taras\\nZapytaj', 'parking': 'Miejsce parkingowe\\nZapytaj', 'heating': 'Ogrzewanie\\nZapytaj', 'flat_description_bullets': [], 'neighborhood_bullets': []}\n",
      "{'price': '1 599 000 zł', 'highlights': 'Piękny apartament z widokiem na park, ogród, taras', 'address': 'Żerniki, Fabryczna, Wrocław, dolnośląskie', 'area': 'Powierzchnia\\n93,5 m²', 'num_rooms': 'Liczba pokoi\\n3', 'floor': 'Piętro\\n1/3', 'rent': 'Czynsz\\n700 zł', 'online_property_inspection': 'Obsługa zdalna\\ntak', 'ownership_status': 'Forma własności\\nZapytaj', 'flat_condition': 'Stan wykończenia\\nZapytaj', 'perks': 'Balkon / ogród / taras\\nbalkon, ogródek, taras', 'parking': 'Miejsce parkingowe\\nZapytaj', 'heating': 'Ogrzewanie\\ngazowe', 'flat_description_bullets': [], 'neighborhood_bullets': []}\n",
      "{'price': '999 000 zł', 'highlights': 'Inwestycyjne mieszkanie ul. Żelazna ROI 11,3%', 'address': 'Gajowice, Fabryczna, Wrocław, dolnośląskie', 'area': 'Powierzchnia\\n74,66 m²', 'num_rooms': 'Liczba pokoi\\n7', 'floor': 'Piętro\\n2/5', 'rent': 'Czynsz\\nZapytaj', 'online_property_inspection': 'Obsługa zdalna\\nZapytaj', 'ownership_status': 'Forma własności\\npełna własność', 'flat_condition': 'Stan wykończenia\\ndo zamieszkania', 'perks': 'Balkon / ogród / taras\\nbalkon', 'parking': 'Miejsce parkingowe\\nZapytaj', 'heating': 'Ogrzewanie\\nmiejskie', 'flat_description_bullets': [], 'neighborhood_bullets': []}\n",
      "{'price': '445 000 zł', 'highlights': 'Przytulne mieszkanie 2-pokojowe ul. Słowiańska', 'address': 'ul. Słowiańska, Nadodrze, Śródmieście, Wrocław, dolnośląskie', 'area': 'Powierzchnia\\n38,41 m²', 'num_rooms': 'Liczba pokoi\\n2', 'floor': 'Piętro\\n5/6', 'rent': 'Czynsz\\nZapytaj', 'online_property_inspection': 'Obsługa zdalna\\nZapytaj', 'ownership_status': 'Forma własności\\npełna własność', 'flat_condition': 'Stan wykończenia\\ndo zamieszkania', 'perks': 'Balkon / ogród / taras\\nZapytaj', 'parking': 'Miejsce parkingowe\\nZapytaj', 'heating': 'Ogrzewanie\\nelektryczne', 'flat_description_bullets': [], 'neighborhood_bullets': []}\n",
      "{'price': '899 000 zł', 'highlights': 'Mieszkanie 3 p balkon loggia Promenady Wrocławskie', 'address': 'Promenady Wrocławskie, Kleczków, Psie Pole, Wrocław, dolnośląskie', 'area': 'Powierzchnia\\n63,44 m²', 'num_rooms': 'Liczba pokoi\\n3', 'floor': 'Piętro\\n3/5', 'rent': 'Czynsz\\nZapytaj', 'online_property_inspection': 'Obsługa zdalna\\nZapytaj', 'ownership_status': 'Forma własności\\npełna własność', 'flat_condition': 'Stan wykończenia\\ndo zamieszkania', 'perks': 'Balkon / ogród / taras\\nbalkon', 'parking': 'Miejsce parkingowe\\nZapytaj', 'heating': 'Ogrzewanie\\nmiejskie', 'flat_description_bullets': [], 'neighborhood_bullets': []}\n",
      "{'price': '599 900 zł', 'highlights': 'Budynek mieszkalny 7 mieszkan z projektem na 12', 'address': 'Boguszów, Boguszów-Gorce, wałbrzyski, dolnośląskie', 'area': 'Powierzchnia\\n330 m²', 'num_rooms': 'Liczba pokoi\\nwięcej niż 10', 'floor': 'Piętro\\nZapytaj', 'rent': 'Czynsz\\n200 zł', 'online_property_inspection': 'Obsługa zdalna\\nZapytaj', 'ownership_status': 'Forma własności\\nZapytaj', 'flat_condition': 'Stan wykończenia\\ndo remontu', 'perks': 'Balkon / ogród / taras\\nZapytaj', 'parking': 'Miejsce parkingowe\\nZapytaj', 'heating': 'Ogrzewanie\\npiece kaflowe', 'flat_description_bullets': [], 'neighborhood_bullets': []}\n",
      "{'price': '190 000 zł', 'highlights': 'Na sprzedaż mieszkanie w Mrowinach, blisko Żarowa', 'address': 'ul. Wojska Polskiego, Mrowiny, Żarów, świdnicki, dolnośląskie', 'area': 'Powierzchnia\\n45,45 m²', 'num_rooms': 'Liczba pokoi\\n2', 'floor': 'Piętro\\n1', 'rent': 'Czynsz\\n250 zł', 'online_property_inspection': 'Obsługa zdalna\\nZapytaj', 'ownership_status': 'Forma własności\\npełna własność', 'flat_condition': 'Stan wykończenia\\ndo remontu', 'perks': 'Balkon / ogród / taras\\nogródek', 'parking': 'Miejsce parkingowe\\nZapytaj', 'heating': 'Ogrzewanie\\ngazowe', 'flat_description_bullets': [], 'neighborhood_bullets': []}\n",
      "{'price': '640 000 zł', 'highlights': 'Mieszkanie 3 pok. z osobną kuchnią, ul. Popowicka', 'address': 'ul. Popowicka 122, Popowice Północne, Fabryczna, Wrocław, dolnośląskie', 'area': 'Powierzchnia\\n54,1 m²', 'num_rooms': 'Liczba pokoi\\n3', 'floor': 'Piętro\\n3/4', 'rent': 'Czynsz\\n530 zł', 'online_property_inspection': 'Obsługa zdalna\\nZapytaj', 'ownership_status': 'Forma własności\\npełna własność', 'flat_condition': 'Stan wykończenia\\nZapytaj', 'perks': 'Balkon / ogród / taras\\nbalkon', 'parking': 'Miejsce parkingowe\\nZapytaj', 'heating': 'Ogrzewanie\\nmiejskie', 'flat_description_bullets': [], 'neighborhood_bullets': []}\n",
      "{'price': '720 000 zł', 'highlights': '2pok. 50 m, urządzone, 10 min od centrum Wrocław', 'address': 'ul. Chorwacka, Różanka, Psie Pole, Wrocław, dolnośląskie', 'area': 'Powierzchnia\\n50 m²', 'num_rooms': 'Liczba pokoi\\n2', 'floor': 'Piętro\\n1/4', 'rent': 'Czynsz\\n520 zł', 'online_property_inspection': 'Obsługa zdalna\\ntak', 'ownership_status': 'Forma własności\\npełna własność', 'flat_condition': 'Stan wykończenia\\ndo zamieszkania', 'perks': 'Balkon / ogród / taras\\nbalkon, taras', 'parking': 'Miejsce parkingowe\\nZapytaj', 'heating': 'Ogrzewanie\\nmiejskie', 'flat_description_bullets': [], 'neighborhood_bullets': []}\n",
      "{'price': '735 000 zł', 'highlights': '3 pok., 70 m2 Gądów Mały', 'address': 'Gądów, Fabryczna, Wrocław, dolnośląskie', 'area': 'Powierzchnia\\n70,2 m²', 'num_rooms': 'Liczba pokoi\\n3', 'floor': 'Piętro\\n2/10', 'rent': 'Czynsz\\n1 200 zł', 'online_property_inspection': 'Obsługa zdalna\\nZapytaj', 'ownership_status': 'Forma własności\\nspółdzielcze wł. prawo do lokalu', 'flat_condition': 'Stan wykończenia\\ndo zamieszkania', 'perks': 'Balkon / ogród / taras\\nbalkon', 'parking': 'Miejsce parkingowe\\nZapytaj', 'heating': 'Ogrzewanie\\nmiejskie', 'flat_description_bullets': [], 'neighborhood_bullets': []}\n",
      "{'price': '3 205 980 zł', 'highlights': 'Ovo, taras, widok, top wykończenie- spacer 3D', 'address': 'ul. Podwale, Przedmieście Oławskie, Krzyki, Wrocław, dolnośląskie', 'area': 'Powierzchnia\\n118,77 m²', 'num_rooms': 'Liczba pokoi\\n4', 'floor': 'Piętro\\n6/6', 'rent': 'Czynsz\\n1 500 zł', 'online_property_inspection': 'Obsługa zdalna\\nWirtualny spacer', 'ownership_status': 'Forma własności\\npełna własność', 'flat_condition': 'Stan wykończenia\\nZapytaj', 'perks': 'Balkon / ogród / taras\\ntaras', 'parking': 'Miejsce parkingowe\\ngaraż/miejsce parkingowe', 'heating': 'Ogrzewanie\\nmiejskie', 'flat_description_bullets': [], 'neighborhood_bullets': []}\n",
      "{'price': '679 000 zł', 'highlights': '4pok, dwa poziomy 114m² + fotowoltaika w centrum!', 'address': 'ul. Lwowska, Oleśnica, oleśnicki, dolnośląskie', 'area': 'Powierzchnia\\n114 m²', 'num_rooms': 'Liczba pokoi\\n4', 'floor': 'Piętro\\nZapytaj', 'rent': 'Czynsz\\nZapytaj', 'online_property_inspection': 'Obsługa zdalna\\nWirtualny spacer', 'ownership_status': 'Forma własności\\npełna własność', 'flat_condition': 'Stan wykończenia\\ndo zamieszkania', 'perks': 'Balkon / ogród / taras\\nZapytaj', 'parking': 'Miejsce parkingowe\\nZapytaj', 'heating': 'Ogrzewanie\\ngazowe', 'flat_description_bullets': [], 'neighborhood_bullets': []}\n",
      "{'price': '460 000 zł', 'highlights': 'Pilnie 2 pok mieszkanie Wrocław', 'address': 'ul. Rogowska, Nowy Dwór, Fabryczna, Wrocław, dolnośląskie', 'area': 'Powierzchnia\\n50 m²', 'num_rooms': 'Liczba pokoi\\n2', 'floor': 'Piętro\\n3/4', 'rent': 'Czynsz\\nZapytaj', 'online_property_inspection': 'Obsługa zdalna\\nZapytaj', 'ownership_status': 'Forma własności\\npełna własność', 'flat_condition': 'Stan wykończenia\\nZapytaj', 'perks': 'Balkon / ogród / taras\\nbalkon', 'parking': 'Miejsce parkingowe\\ngaraż/miejsce parkingowe', 'heating': 'Ogrzewanie\\nZapytaj', 'flat_description_bullets': [], 'neighborhood_bullets': []}\n",
      "{'price': '789 000 zł', 'highlights': 'Nowoczesne dwupiętrowe mieszkanie - 80 m2', 'address': 'Siechnice, Siechnice, wrocławski, dolnośląskie', 'area': 'Powierzchnia\\n80 m²', 'num_rooms': 'Liczba pokoi\\n4', 'floor': 'Piętro\\n2/2', 'rent': 'Czynsz\\nZapytaj', 'online_property_inspection': 'Obsługa zdalna\\nZapytaj', 'ownership_status': 'Forma własności\\npełna własność', 'flat_condition': 'Stan wykończenia\\ndo zamieszkania', 'perks': 'Balkon / ogród / taras\\nbalkon', 'parking': 'Miejsce parkingowe\\nZapytaj', 'heating': 'Ogrzewanie\\nmiejskie', 'flat_description_bullets': [], 'neighborhood_bullets': []}\n",
      "{'price': '560 000 zł', 'highlights': 'Mieszkanie 2 pokoje (45m), Gaj ul. W.Rutkiewicz', 'address': 'ul. Wandy Rutkiewicz, Gaj, Krzyki, Wrocław, dolnośląskie', 'area': 'Powierzchnia\\n45,19 m²', 'num_rooms': 'Liczba pokoi\\n2', 'floor': 'Piętro\\nparter/3', 'rent': 'Czynsz\\n430 zł', 'online_property_inspection': 'Obsługa zdalna\\nZapytaj', 'ownership_status': 'Forma własności\\nspółdzielcze wł. prawo do lokalu', 'flat_condition': 'Stan wykończenia\\ndo zamieszkania', 'perks': 'Balkon / ogród / taras\\nbalkon', 'parking': 'Miejsce parkingowe\\nZapytaj', 'heating': 'Ogrzewanie\\nmiejskie', 'flat_description_bullets': [], 'neighborhood_bullets': []}\n",
      "{'price': '640 000 zł', 'highlights': 'Inwestycyjne mieszkanie w centrum Wrocławia', 'address': 'ul. Ołowiana, Gajowice, Fabryczna, Wrocław, dolnośląskie', 'area': 'Powierzchnia\\n66,7 m²', 'num_rooms': 'Liczba pokoi\\n3', 'floor': 'Piętro\\n4/4', 'rent': 'Czynsz\\n414 zł', 'online_property_inspection': 'Obsługa zdalna\\nZapytaj', 'ownership_status': 'Forma własności\\nspółdzielcze wł. prawo do lokalu', 'flat_condition': 'Stan wykończenia\\ndo zamieszkania', 'perks': 'Balkon / ogród / taras\\nbalkon', 'parking': 'Miejsce parkingowe\\nZapytaj', 'heating': 'Ogrzewanie\\nmiejskie', 'flat_description_bullets': [], 'neighborhood_bullets': []}\n",
      "{'price': '355 000 zł', 'highlights': 'Mieszkanie 2 pok. na Starym Mieście', 'address': 'ul. Kotlarska, Głogów, głogowski, dolnośląskie', 'area': 'Powierzchnia\\n40 m²', 'num_rooms': 'Liczba pokoi\\n2', 'floor': 'Piętro\\n3/4', 'rent': 'Czynsz\\n320 zł', 'online_property_inspection': 'Obsługa zdalna\\nZapytaj', 'ownership_status': 'Forma własności\\npełna własność', 'flat_condition': 'Stan wykończenia\\ndo zamieszkania', 'perks': 'Balkon / ogród / taras\\nbalkon', 'parking': 'Miejsce parkingowe\\nZapytaj', 'heating': 'Ogrzewanie\\ngazowe', 'flat_description_bullets': [], 'neighborhood_bullets': []}\n",
      "{'price': '634 000 zł', 'highlights': 'Rozkładowe 2-pokojowe GOTOWE/INWESTYCJA', 'address': 'Muchobór Mały, Fabryczna, Wrocław, dolnośląskie', 'area': 'Powierzchnia\\n52,1 m²', 'num_rooms': 'Liczba pokoi\\n2', 'floor': 'Piętro\\n3/10', 'rent': 'Czynsz\\n700 zł', 'online_property_inspection': 'Obsługa zdalna\\nZapytaj', 'ownership_status': 'Forma własności\\nspółdzielcze wł. prawo do lokalu', 'flat_condition': 'Stan wykończenia\\ndo zamieszkania', 'perks': 'Balkon / ogród / taras\\nbalkon', 'parking': 'Miejsce parkingowe\\nZapytaj', 'heating': 'Ogrzewanie\\nmiejskie', 'flat_description_bullets': [], 'neighborhood_bullets': []}\n",
      "{'price': '580 000 zł', 'highlights': 'Sprzedam 3-pokojowe mieszkanie do remontu', 'address': 'ul. Spiżowa, Gajowice, Fabryczna, Wrocław, dolnośląskie', 'area': 'Powierzchnia\\n62,43 m²', 'num_rooms': 'Liczba pokoi\\n3', 'floor': 'Piętro\\nparter/4', 'rent': 'Czynsz\\n650 zł', 'online_property_inspection': 'Obsługa zdalna\\nZapytaj', 'ownership_status': 'Forma własności\\npełna własność', 'flat_condition': 'Stan wykończenia\\ndo remontu', 'perks': 'Balkon / ogród / taras\\nZapytaj', 'parking': 'Miejsce parkingowe\\nZapytaj', 'heating': 'Ogrzewanie\\nmiejskie', 'flat_description_bullets': [], 'neighborhood_bullets': []}\n",
      "{'price': '160 000 zł', 'highlights': 'Mieszkanie 2 pokoje, 54m, 4 piętro', 'address': 'ul. Leona Wyczółkowskiego, Bogatynia, Bogatynia, zgorzelecki, dolnośląskie', 'area': 'Powierzchnia\\n54,7 m²', 'num_rooms': 'Liczba pokoi\\n2', 'floor': 'Piętro\\n4/4', 'rent': 'Czynsz\\nZapytaj', 'online_property_inspection': 'Obsługa zdalna\\nZapytaj', 'ownership_status': 'Forma własności\\nZapytaj', 'flat_condition': 'Stan wykończenia\\nZapytaj', 'perks': 'Balkon / ogród / taras\\nbalkon', 'parking': 'Miejsce parkingowe\\nZapytaj', 'heating': 'Ogrzewanie\\nmiejskie', 'flat_description_bullets': [], 'neighborhood_bullets': []}\n",
      "{'price': '180 000 zł', 'highlights': 'Sprzedam mieszkanie', 'address': 'ul. Teatralna, Nowa Ruda, kłodzki, dolnośląskie', 'area': 'Powierzchnia\\n36 m²', 'num_rooms': 'Liczba pokoi\\n2', 'floor': 'Piętro\\nparter/2', 'rent': 'Czynsz\\n441 zł', 'online_property_inspection': 'Obsługa zdalna\\nZapytaj', 'ownership_status': 'Forma własności\\nspółdzielcze wł. prawo do lokalu', 'flat_condition': 'Stan wykończenia\\nZapytaj', 'perks': 'Balkon / ogród / taras\\nbalkon', 'parking': 'Miejsce parkingowe\\nZapytaj', 'heating': 'Ogrzewanie\\nelektryczne', 'flat_description_bullets': [], 'neighborhood_bullets': []}\n",
      "{'price': '229 000 zł', 'highlights': 'Mieszkanie, 29,90 m², Legnica', 'address': 'ul. Jagiellońska 13/17, Legnica, dolnośląskie', 'area': 'Powierzchnia\\n29,9 m²', 'num_rooms': 'Liczba pokoi\\n1', 'floor': 'Piętro\\n1/4', 'rent': 'Czynsz\\n290 zł', 'online_property_inspection': 'Obsługa zdalna\\nZapytaj', 'ownership_status': 'Forma własności\\npełna własność', 'flat_condition': 'Stan wykończenia\\nZapytaj', 'perks': 'Balkon / ogród / taras\\nbalkon', 'parking': 'Miejsce parkingowe\\nZapytaj', 'heating': 'Ogrzewanie\\nmiejskie', 'flat_description_bullets': [], 'neighborhood_bullets': []}\n",
      "{'price': '899 000 zł', 'highlights': 'Nowe 2017! Śródmieście! Media miejskie!', 'address': 'ul. kard. Stefana Wyszyńskiego, Ołbin, Śródmieście, Wrocław, dolnośląskie', 'area': 'Powierzchnia\\n66,71 m²', 'num_rooms': 'Liczba pokoi\\n3', 'floor': 'Piętro\\n1/5', 'rent': 'Czynsz\\n650 zł', 'online_property_inspection': 'Obsługa zdalna\\ntak', 'ownership_status': 'Forma własności\\npełna własność', 'flat_condition': 'Stan wykończenia\\ndo zamieszkania', 'perks': 'Balkon / ogród / taras\\nZapytaj', 'parking': 'Miejsce parkingowe\\nZapytaj', 'heating': 'Ogrzewanie\\nmiejskie', 'flat_description_bullets': [], 'neighborhood_bullets': []}\n",
      "{'price': '273 000 zł', 'highlights': 'Mieszkanie 46m os. Piast, klimatyzowane', 'address': 'Lubań, lubański, dolnośląskie', 'area': 'Powierzchnia\\n46 m²', 'num_rooms': 'Liczba pokoi\\n2', 'floor': 'Piętro\\n3/4', 'rent': 'Czynsz\\nZapytaj', 'online_property_inspection': 'Obsługa zdalna\\nZapytaj', 'ownership_status': 'Forma własności\\npełna własność', 'flat_condition': 'Stan wykończenia\\ndo zamieszkania', 'perks': 'Balkon / ogród / taras\\nZapytaj', 'parking': 'Miejsce parkingowe\\nZapytaj', 'heating': 'Ogrzewanie\\nmiejskie', 'flat_description_bullets': [], 'neighborhood_bullets': []}\n",
      "{'price': '549 000 zł', 'highlights': '2-pokojowe mieszkanie 46m2 + loggia Bez Prowizji', 'address': 'Z. Gumińskiej/ul. Odolanowska, Zawidawie, Psie Pole, Wrocław, dolnośląskie', 'area': 'Powierzchnia\\n46,67 m²', 'num_rooms': 'Liczba pokoi\\n2', 'floor': 'Piętro\\n3/4', 'rent': 'Czynsz\\nZapytaj', 'online_property_inspection': 'Obsługa zdalna\\nWirtualny spacer', 'ownership_status': 'Forma własności\\npełna własność', 'flat_condition': 'Stan wykończenia\\ndo wykończenia', 'perks': 'Balkon / ogród / taras\\nZapytaj', 'parking': 'Miejsce parkingowe\\ngaraż/miejsce parkingowe', 'heating': 'Ogrzewanie\\nZapytaj', 'flat_description_bullets': ['2-pokojowe mieszkanie numer 14_3_29 na 3. piętrze w budynku 14 w Inwestycji Lokum Verde Dewelopera Lokum Deweloper', 'Strefa aktywnego wypoczynku, ścieżki spacerowo-rowerowe', 'Park Pawłowicki (11 minut spacerem)', 'Las Zakrzowski (4 minuty samochodem)', 'Lidl (4 minuty samochodem)', 'CH Korona, Cinema City (6 minut samochodem)'], 'neighborhood_bullets': []}\n",
      "{'price': '617 505 zł', 'highlights': '3-pokojowe mieszkanie 58m2 + balkon Bezpośrednio', 'address': 'ul. Suwalska, Maślice, Fabryczna, Wrocław, dolnośląskie', 'area': 'Powierzchnia\\n58,81 m²', 'num_rooms': 'Liczba pokoi\\n3', 'floor': 'Piętro\\n2/2', 'rent': 'Czynsz\\nZapytaj', 'online_property_inspection': 'Obsługa zdalna\\nWirtualny spacer', 'ownership_status': 'Forma własności\\npełna własność', 'flat_condition': 'Stan wykończenia\\ndo wykończenia', 'perks': 'Balkon / ogród / taras\\nbalkon', 'parking': 'Miejsce parkingowe\\nZapytaj', 'heating': 'Ogrzewanie\\nZapytaj', 'flat_description_bullets': ['3-pokojowe mieszkanie numer E-2-3 na 2. piętrze w budynku B1 w Inwestycji Osiedle MaŚliczne Dewelopera CTE Investments', 'Kąpielisko Królewiecka (2 minuty rowerem)', 'Park Pilczycki, Las Pilczycki (11 minut rowerem)', 'Przystanek autobusowy (1 minuta spacerem)', 'Żabka (6 minut spacerem)', 'CH N-Park (10 minut spacerem)', 'Stacja kolejowa Wrocław Stadion (4 minuty samochodem)'], 'neighborhood_bullets': []}\n",
      "{'price': '579 000 zł', 'highlights': 'Jasne, piękne mieszkanie,zielone tereny', 'address': 'ul. Gwarecka, Pilczyce, Fabryczna, Wrocław, dolnośląskie', 'area': 'Powierzchnia\\n50,7 m²', 'num_rooms': 'Liczba pokoi\\n2', 'floor': 'Piętro\\n1/4', 'rent': 'Czynsz\\n680 zł', 'online_property_inspection': 'Obsługa zdalna\\nZapytaj', 'ownership_status': 'Forma własności\\npełna własność', 'flat_condition': 'Stan wykończenia\\ndo zamieszkania', 'perks': 'Balkon / ogród / taras\\nZapytaj', 'parking': 'Miejsce parkingowe\\nZapytaj', 'heating': 'Ogrzewanie\\nkotłownia', 'flat_description_bullets': [], 'neighborhood_bullets': []}\n",
      "{'price': '679 000 zł', 'highlights': 'Po remoncie 3 POKOJE CENTRUM Uniwersytet al.Krucza', 'address': 'ul. Krucza, Gajowice, Fabryczna, Wrocław, dolnośląskie', 'area': 'Powierzchnia\\n57,79 m²', 'num_rooms': 'Liczba pokoi\\n3', 'floor': 'Piętro\\n4/4', 'rent': 'Czynsz\\n452 zł', 'online_property_inspection': 'Obsługa zdalna\\nZapytaj', 'ownership_status': 'Forma własności\\npełna własność', 'flat_condition': 'Stan wykończenia\\ndo zamieszkania', 'perks': 'Balkon / ogród / taras\\nZapytaj', 'parking': 'Miejsce parkingowe\\nZapytaj', 'heating': 'Ogrzewanie\\nmiejskie', 'flat_description_bullets': [], 'neighborhood_bullets': []}\n",
      "{'price': '99 000 zł', 'highlights': 'Mieszkanie dwupokojowe bezczynszowe Rynek', 'address': 'ul. Rynek, Kostomłoty, Kostomłoty, średzki, dolnośląskie', 'area': 'Powierzchnia\\n31,2 m²', 'num_rooms': 'Liczba pokoi\\n2', 'floor': 'Piętro\\n2/2', 'rent': 'Czynsz\\n10 zł', 'online_property_inspection': 'Obsługa zdalna\\ntak', 'ownership_status': 'Forma własności\\npełna własność', 'flat_condition': 'Stan wykończenia\\ndo remontu', 'perks': 'Balkon / ogród / taras\\nZapytaj', 'parking': 'Miejsce parkingowe\\nZapytaj', 'heating': 'Ogrzewanie\\npiece kaflowe', 'flat_description_bullets': [], 'neighborhood_bullets': []}\n",
      "{'price': '419 000 zł', 'highlights': '2 -pokojowe, umeblowane, Centrum Wrocławia', 'address': 'Tarnogaj, Krzyki, Wrocław, dolnośląskie', 'area': 'Powierzchnia\\n31,89 m²', 'num_rooms': 'Liczba pokoi\\n2', 'floor': 'Piętro\\n1/3', 'rent': 'Czynsz\\n180 zł', 'online_property_inspection': 'Obsługa zdalna\\nZapytaj', 'ownership_status': 'Forma własności\\npełna własność', 'flat_condition': 'Stan wykończenia\\ndo zamieszkania', 'perks': 'Balkon / ogród / taras\\nZapytaj', 'parking': 'Miejsce parkingowe\\nZapytaj', 'heating': 'Ogrzewanie\\ngazowe', 'flat_description_bullets': [], 'neighborhood_bullets': []}\n",
      "{'price': '499 000 zł', 'highlights': 'Sprzedam bezpośrednio 2 pokojowe mieszkanie', 'address': 'ul. Żelazna 56, Gajowice, Fabryczna, Wrocław, dolnośląskie', 'area': 'Powierzchnia\\n47,7 m²', 'num_rooms': 'Liczba pokoi\\n2', 'floor': 'Piętro\\n7/8', 'rent': 'Czynsz\\n500 zł', 'online_property_inspection': 'Obsługa zdalna\\nZapytaj', 'ownership_status': 'Forma własności\\npełna własność', 'flat_condition': 'Stan wykończenia\\ndo wykończenia', 'perks': 'Balkon / ogród / taras\\nbalkon', 'parking': 'Miejsce parkingowe\\nZapytaj', 'heating': 'Ogrzewanie\\nmiejskie', 'flat_description_bullets': [], 'neighborhood_bullets': []}\n",
      "{'price': '700 000 zł', 'highlights': 'Mieszkanie 58m2, Biskupin, okazja, remont 2022', 'address': 'ul. Bernarda Belotta Canaletta, Bartoszowice, Śródmieście, Wrocław, dolnośląskie', 'area': 'Powierzchnia\\n58 m²', 'num_rooms': 'Liczba pokoi\\n5', 'floor': 'Piętro\\n1/4', 'rent': 'Czynsz\\n800 zł', 'online_property_inspection': 'Obsługa zdalna\\ntak', 'ownership_status': 'Forma własności\\npełna własność', 'flat_condition': 'Stan wykończenia\\ndo zamieszkania', 'perks': 'Balkon / ogród / taras\\nbalkon', 'parking': 'Miejsce parkingowe\\nZapytaj', 'heating': 'Ogrzewanie\\nmiejskie', 'flat_description_bullets': [], 'neighborhood_bullets': []}\n",
      "{'price': '824 262 zł', 'highlights': '2-pokojowe mieszkanie 37m2 + balkon Bezpośrednio', 'address': 'ul. Czysta, Przedmieście Świdnickie, Stare Miasto, Wrocław, dolnośląskie', 'area': 'Powierzchnia\\n37,91 m²', 'num_rooms': 'Liczba pokoi\\n2', 'floor': 'Piętro\\n6/6', 'rent': 'Czynsz\\nZapytaj', 'online_property_inspection': 'Obsługa zdalna\\nWirtualny spacer', 'ownership_status': 'Forma własności\\npełna własność', 'flat_condition': 'Stan wykończenia\\ndo wykończenia', 'perks': 'Balkon / ogród / taras\\nbalkon', 'parking': 'Miejsce parkingowe\\ngaraż/miejsce parkingowe', 'heating': 'Ogrzewanie\\nZapytaj', 'flat_description_bullets': ['2-pokojowe mieszkanie numer 07.177 na 6. piętrze w Inwestycji Czysta 4 Dewelopera BPI Real Estate Poland', 'Taras widokowy na dachu', 'Strefa co-workingowa', 'Park Mikołaja Kopernika, promenada Staromiejska (3 minuty spacerem)', 'Rynek we Wrocławiu (10 minut spacerem)', 'Przystanek autobusowy (2 minuty spacerem), przystanek tramwajowy (4 minuty spacerem)', 'Stacja PKP \"Wrocław Główny\" (10 minut spacerem)', 'Opera Wrocławska (5 minut spacerem)', 'CH Arkady Wrocławskie (8 minut spacerem)'], 'neighborhood_bullets': []}\n",
      "{'price': '890 000 zł', 'highlights': 'Mieszkanie z ogrodem 72m2, trzy pokoje, garaż,lux', 'address': 'Iwiny, Siechnice, wrocławski, dolnośląskie', 'area': 'Powierzchnia\\n72 m²', 'num_rooms': 'Liczba pokoi\\n3', 'floor': 'Piętro\\nparter', 'rent': 'Czynsz\\nZapytaj', 'online_property_inspection': 'Obsługa zdalna\\nZapytaj', 'ownership_status': 'Forma własności\\npełna własność', 'flat_condition': 'Stan wykończenia\\ndo zamieszkania', 'perks': 'Balkon / ogród / taras\\nbalkon, ogródek, taras', 'parking': 'Miejsce parkingowe\\ngaraż/miejsce parkingowe', 'heating': 'Ogrzewanie\\ngazowe', 'flat_description_bullets': [], 'neighborhood_bullets': []}\n",
      "{'price': '510 000 zł', 'highlights': 'Mieszkanie w górach Karpacz apartament dwa pokoje', 'address': 'ul. Bolesława Prusa, Karpacz, karkonoski, dolnośląskie', 'area': 'Powierzchnia\\n41,24 m²', 'num_rooms': 'Liczba pokoi\\n4', 'floor': 'Piętro\\nparter/3', 'rent': 'Czynsz\\n300 zł', 'online_property_inspection': 'Obsługa zdalna\\nZapytaj', 'ownership_status': 'Forma własności\\npełna własność', 'flat_condition': 'Stan wykończenia\\ndo zamieszkania', 'perks': 'Balkon / ogród / taras\\nZapytaj', 'parking': 'Miejsce parkingowe\\ngaraż/miejsce parkingowe', 'heating': 'Ogrzewanie\\nmiejskie', 'flat_description_bullets': [], 'neighborhood_bullets': []}\n",
      "{'price': '174 000 zł', 'highlights': '2 pokoje 1. piętro Ogródek SUPER LOKALIZACJA', 'address': 'ul. 1 Maja, Bielawa, dzierżoniowski, dolnośląskie', 'area': 'Powierzchnia\\n38 m²', 'num_rooms': 'Liczba pokoi\\n2', 'floor': 'Piętro\\n1/3', 'rent': 'Czynsz\\nZapytaj', 'online_property_inspection': 'Obsługa zdalna\\nZapytaj', 'ownership_status': 'Forma własności\\npełna własność', 'flat_condition': 'Stan wykończenia\\ndo remontu', 'perks': 'Balkon / ogród / taras\\nogródek', 'parking': 'Miejsce parkingowe\\nZapytaj', 'heating': 'Ogrzewanie\\ninne', 'flat_description_bullets': [], 'neighborhood_bullets': []}\n",
      "{'price': '238 280 zł', 'highlights': 'Nowa inwestycja! Kawalerka na 2 piętrze!', 'address': 'Świdnica, świdnicki, dolnośląskie', 'area': 'Powierzchnia\\n29,6 m²', 'num_rooms': 'Liczba pokoi\\n1', 'floor': 'Piętro\\n2/4', 'rent': 'Czynsz\\nZapytaj', 'online_property_inspection': 'Obsługa zdalna\\nZapytaj', 'ownership_status': 'Forma własności\\npełna własność', 'flat_condition': 'Stan wykończenia\\ndo wykończenia', 'perks': 'Balkon / ogród / taras\\nZapytaj', 'parking': 'Miejsce parkingowe\\nZapytaj', 'heating': 'Ogrzewanie\\nmiejskie', 'flat_description_bullets': [], 'neighborhood_bullets': []}\n"
     ]
    }
   ],
   "source": [
    "for v in data_by_appartm_listing_url.values() :\n",
    "    print(v)"
   ]
  },
  {
   "cell_type": "code",
   "execution_count": 330,
   "id": "e0d639bc",
   "metadata": {},
   "outputs": [
    {
     "data": {
      "text/plain": [
       "59"
      ]
     },
     "execution_count": 330,
     "metadata": {},
     "output_type": "execute_result"
    }
   ],
   "source": [
    "len(data_by_appartm_listing_url)"
   ]
  },
  {
   "cell_type": "code",
   "execution_count": 329,
   "id": "d5f3600e",
   "metadata": {},
   "outputs": [
    {
     "name": "stdout",
     "output_type": "stream",
     "text": [
      "The length of refreshed_flats is 0\n",
      "The length of refreshed_flats is 185\n"
     ]
    },
    {
     "ename": "NoSuchElementException",
     "evalue": "Message: Unable to locate element: //strong[@aria-label=\"Cena\"]\n",
     "output_type": "error",
     "traceback": [
      "\u001b[0;31m---------------------------------------------------------------------------\u001b[0m",
      "\u001b[0;31mNoSuchElementException\u001b[0m                    Traceback (most recent call last)",
      "\u001b[0;32m<ipython-input-329-fb95fc5a911d>\u001b[0m in \u001b[0;36m<module>\u001b[0;34m()\u001b[0m\n\u001b[1;32m     29\u001b[0m \u001b[0;34m\u001b[0m\u001b[0m\n\u001b[1;32m     30\u001b[0m \u001b[0;34m\u001b[0m\u001b[0m\n\u001b[0;32m---> 31\u001b[0;31m     \u001b[0mprice\u001b[0m \u001b[0;34m=\u001b[0m \u001b[0mbrowser\u001b[0m\u001b[0;34m.\u001b[0m\u001b[0mfind_element_by_xpath\u001b[0m\u001b[0;34m(\u001b[0m\u001b[0;34m'//strong[@aria-label=\"Cena\"]'\u001b[0m\u001b[0;34m)\u001b[0m\u001b[0;34m.\u001b[0m\u001b[0mtext\u001b[0m\u001b[0;34m\u001b[0m\u001b[0;34m\u001b[0m\u001b[0m\n\u001b[0m\u001b[1;32m     32\u001b[0m     \u001b[0mhighlights\u001b[0m \u001b[0;34m=\u001b[0m \u001b[0mbrowser\u001b[0m\u001b[0;34m.\u001b[0m\u001b[0mfind_element_by_xpath\u001b[0m\u001b[0;34m(\u001b[0m\u001b[0;34m'//header/h1'\u001b[0m\u001b[0;34m)\u001b[0m\u001b[0;34m.\u001b[0m\u001b[0mtext\u001b[0m\u001b[0;34m\u001b[0m\u001b[0;34m\u001b[0m\u001b[0m\n\u001b[1;32m     33\u001b[0m     \u001b[0maddress\u001b[0m \u001b[0;34m=\u001b[0m \u001b[0mbrowser\u001b[0m\u001b[0;34m.\u001b[0m\u001b[0mfind_element_by_xpath\u001b[0m\u001b[0;34m(\u001b[0m\u001b[0;34m'//a[@aria-label=\"Adres\"]'\u001b[0m\u001b[0;34m)\u001b[0m\u001b[0;34m.\u001b[0m\u001b[0mtext\u001b[0m\u001b[0;34m\u001b[0m\u001b[0;34m\u001b[0m\u001b[0m\n",
      "\u001b[0;32m~/.local/lib/python3.6/site-packages/selenium/webdriver/remote/webdriver.py\u001b[0m in \u001b[0;36mfind_element_by_xpath\u001b[0;34m(self, xpath)\u001b[0m\n\u001b[1;32m    392\u001b[0m             \u001b[0melement\u001b[0m \u001b[0;34m=\u001b[0m \u001b[0mdriver\u001b[0m\u001b[0;34m.\u001b[0m\u001b[0mfind_element_by_xpath\u001b[0m\u001b[0;34m(\u001b[0m\u001b[0;34m'//div/td[1]'\u001b[0m\u001b[0;34m)\u001b[0m\u001b[0;34m\u001b[0m\u001b[0;34m\u001b[0m\u001b[0m\n\u001b[1;32m    393\u001b[0m         \"\"\"\n\u001b[0;32m--> 394\u001b[0;31m         \u001b[0;32mreturn\u001b[0m \u001b[0mself\u001b[0m\u001b[0;34m.\u001b[0m\u001b[0mfind_element\u001b[0m\u001b[0;34m(\u001b[0m\u001b[0mby\u001b[0m\u001b[0;34m=\u001b[0m\u001b[0mBy\u001b[0m\u001b[0;34m.\u001b[0m\u001b[0mXPATH\u001b[0m\u001b[0;34m,\u001b[0m \u001b[0mvalue\u001b[0m\u001b[0;34m=\u001b[0m\u001b[0mxpath\u001b[0m\u001b[0;34m)\u001b[0m\u001b[0;34m\u001b[0m\u001b[0;34m\u001b[0m\u001b[0m\n\u001b[0m\u001b[1;32m    395\u001b[0m \u001b[0;34m\u001b[0m\u001b[0m\n\u001b[1;32m    396\u001b[0m     \u001b[0;32mdef\u001b[0m \u001b[0mfind_elements_by_xpath\u001b[0m\u001b[0;34m(\u001b[0m\u001b[0mself\u001b[0m\u001b[0;34m,\u001b[0m \u001b[0mxpath\u001b[0m\u001b[0;34m)\u001b[0m\u001b[0;34m:\u001b[0m\u001b[0;34m\u001b[0m\u001b[0;34m\u001b[0m\u001b[0m\n",
      "\u001b[0;32m~/.local/lib/python3.6/site-packages/selenium/webdriver/remote/webdriver.py\u001b[0m in \u001b[0;36mfind_element\u001b[0;34m(self, by, value)\u001b[0m\n\u001b[1;32m    976\u001b[0m         return self.execute(Command.FIND_ELEMENT, {\n\u001b[1;32m    977\u001b[0m             \u001b[0;34m'using'\u001b[0m\u001b[0;34m:\u001b[0m \u001b[0mby\u001b[0m\u001b[0;34m,\u001b[0m\u001b[0;34m\u001b[0m\u001b[0;34m\u001b[0m\u001b[0m\n\u001b[0;32m--> 978\u001b[0;31m             'value': value})['value']\n\u001b[0m\u001b[1;32m    979\u001b[0m \u001b[0;34m\u001b[0m\u001b[0m\n\u001b[1;32m    980\u001b[0m     \u001b[0;32mdef\u001b[0m \u001b[0mfind_elements\u001b[0m\u001b[0;34m(\u001b[0m\u001b[0mself\u001b[0m\u001b[0;34m,\u001b[0m \u001b[0mby\u001b[0m\u001b[0;34m=\u001b[0m\u001b[0mBy\u001b[0m\u001b[0;34m.\u001b[0m\u001b[0mID\u001b[0m\u001b[0;34m,\u001b[0m \u001b[0mvalue\u001b[0m\u001b[0;34m=\u001b[0m\u001b[0;32mNone\u001b[0m\u001b[0;34m)\u001b[0m\u001b[0;34m:\u001b[0m\u001b[0;34m\u001b[0m\u001b[0;34m\u001b[0m\u001b[0m\n",
      "\u001b[0;32m~/.local/lib/python3.6/site-packages/selenium/webdriver/remote/webdriver.py\u001b[0m in \u001b[0;36mexecute\u001b[0;34m(self, driver_command, params)\u001b[0m\n\u001b[1;32m    319\u001b[0m         \u001b[0mresponse\u001b[0m \u001b[0;34m=\u001b[0m \u001b[0mself\u001b[0m\u001b[0;34m.\u001b[0m\u001b[0mcommand_executor\u001b[0m\u001b[0;34m.\u001b[0m\u001b[0mexecute\u001b[0m\u001b[0;34m(\u001b[0m\u001b[0mdriver_command\u001b[0m\u001b[0;34m,\u001b[0m \u001b[0mparams\u001b[0m\u001b[0;34m)\u001b[0m\u001b[0;34m\u001b[0m\u001b[0;34m\u001b[0m\u001b[0m\n\u001b[1;32m    320\u001b[0m         \u001b[0;32mif\u001b[0m \u001b[0mresponse\u001b[0m\u001b[0;34m:\u001b[0m\u001b[0;34m\u001b[0m\u001b[0;34m\u001b[0m\u001b[0m\n\u001b[0;32m--> 321\u001b[0;31m             \u001b[0mself\u001b[0m\u001b[0;34m.\u001b[0m\u001b[0merror_handler\u001b[0m\u001b[0;34m.\u001b[0m\u001b[0mcheck_response\u001b[0m\u001b[0;34m(\u001b[0m\u001b[0mresponse\u001b[0m\u001b[0;34m)\u001b[0m\u001b[0;34m\u001b[0m\u001b[0;34m\u001b[0m\u001b[0m\n\u001b[0m\u001b[1;32m    322\u001b[0m             response['value'] = self._unwrap_value(\n\u001b[1;32m    323\u001b[0m                 response.get('value', None))\n",
      "\u001b[0;32m~/.local/lib/python3.6/site-packages/selenium/webdriver/remote/errorhandler.py\u001b[0m in \u001b[0;36mcheck_response\u001b[0;34m(self, response)\u001b[0m\n\u001b[1;32m    240\u001b[0m                 \u001b[0malert_text\u001b[0m \u001b[0;34m=\u001b[0m \u001b[0mvalue\u001b[0m\u001b[0;34m[\u001b[0m\u001b[0;34m'alert'\u001b[0m\u001b[0;34m]\u001b[0m\u001b[0;34m.\u001b[0m\u001b[0mget\u001b[0m\u001b[0;34m(\u001b[0m\u001b[0;34m'text'\u001b[0m\u001b[0;34m)\u001b[0m\u001b[0;34m\u001b[0m\u001b[0;34m\u001b[0m\u001b[0m\n\u001b[1;32m    241\u001b[0m             \u001b[0;32mraise\u001b[0m \u001b[0mexception_class\u001b[0m\u001b[0;34m(\u001b[0m\u001b[0mmessage\u001b[0m\u001b[0;34m,\u001b[0m \u001b[0mscreen\u001b[0m\u001b[0;34m,\u001b[0m \u001b[0mstacktrace\u001b[0m\u001b[0;34m,\u001b[0m \u001b[0malert_text\u001b[0m\u001b[0;34m)\u001b[0m\u001b[0;34m\u001b[0m\u001b[0;34m\u001b[0m\u001b[0m\n\u001b[0;32m--> 242\u001b[0;31m         \u001b[0;32mraise\u001b[0m \u001b[0mexception_class\u001b[0m\u001b[0;34m(\u001b[0m\u001b[0mmessage\u001b[0m\u001b[0;34m,\u001b[0m \u001b[0mscreen\u001b[0m\u001b[0;34m,\u001b[0m \u001b[0mstacktrace\u001b[0m\u001b[0;34m)\u001b[0m\u001b[0;34m\u001b[0m\u001b[0;34m\u001b[0m\u001b[0m\n\u001b[0m\u001b[1;32m    243\u001b[0m \u001b[0;34m\u001b[0m\u001b[0m\n\u001b[1;32m    244\u001b[0m     \u001b[0;32mdef\u001b[0m \u001b[0m_value_or_default\u001b[0m\u001b[0;34m(\u001b[0m\u001b[0mself\u001b[0m\u001b[0;34m,\u001b[0m \u001b[0mobj\u001b[0m\u001b[0;34m,\u001b[0m \u001b[0mkey\u001b[0m\u001b[0;34m,\u001b[0m \u001b[0mdefault\u001b[0m\u001b[0;34m)\u001b[0m\u001b[0;34m:\u001b[0m\u001b[0;34m\u001b[0m\u001b[0;34m\u001b[0m\u001b[0m\n",
      "\u001b[0;31mNoSuchElementException\u001b[0m: Message: Unable to locate element: //strong[@aria-label=\"Cena\"]\n"
     ]
    }
   ],
   "source": [
    "#data_by_appartm_listing_url = {}\n",
    "\n",
    "for i, f in enumerate(flats) :\n",
    "    \n",
    "    appartment_data = {}\n",
    "    \n",
    "    browser.maximize_window()\n",
    "    time.sleep(5)\n",
    "    \n",
    "    time.sleep(25)\n",
    "    refreshed_flats = browser.find_elements_by_xpath('//li/a/article/div/span')\n",
    "    time.sleep(50)\n",
    "    print('The length of refreshed_flats is {}'.format(len(refreshed_flats)))\n",
    "    \n",
    "   # try :\n",
    "   #     refreshed_flats[i].click()\n",
    "   # except Exception :\n",
    "   #     print('Failed to access item number {}'.format(i))\n",
    "   #     continue\n",
    "        \n",
    "    time.sleep(30)\n",
    "    browser.maximize_window()\n",
    "    time.sleep(5)\n",
    "    url = browser.current_url\n",
    "    time.sleep(2)\n",
    "    \n",
    "    if url in data_by_appartm_listing_url :\n",
    "        continue\n",
    "    \n",
    "    \n",
    "    price = browser.find_element_by_xpath('//strong[@aria-label=\"Cena\"]').text\n",
    "    highlights = browser.find_element_by_xpath('//header/h1').text\n",
    "    address = browser.find_element_by_xpath('//a[@aria-label=\"Adres\"]').text\n",
    "    area = browser.find_element_by_xpath('//div[@aria-label=\"Powierzchnia\"]').text\n",
    "    num_rooms = browser.find_element_by_xpath('//div[@aria-label=\"Liczba pokoi\"]').text\n",
    "    floor = browser.find_element_by_xpath('//div[@aria-label=\"Piętro\"]').text\n",
    "    rent = browser.find_element_by_xpath('//div[@aria-label=\"Czynsz\"]').text\n",
    "    online_property_inspection = browser.find_element_by_xpath('//div[@aria-label=\"Obsługa zdalna\"]').text\n",
    "    ownership_status = browser.find_element_by_xpath('//div[@aria-label=\"Forma własności\"]').text\n",
    "    flat_condition = browser.find_element_by_xpath('//div[@aria-label=\"Stan wykończenia\"]').text\n",
    "    perks = browser.find_element_by_xpath('//div[@aria-label=\"Balkon / ogród / taras\"]').text\n",
    "    parking = browser.find_element_by_xpath('//div[@aria-label=\"Miejsce parkingowe\"]').text\n",
    "    heating = browser.find_element_by_xpath('//div[@aria-label=\"Ogrzewanie\"]').text\n",
    "    potential_flat_descr_bullets = browser.find_elements_by_xpath('//section/div/div/div/ul[1]/li')\n",
    "    \n",
    "    if potential_flat_descr_bullets != [] :\n",
    "        flat_description_bullets = [b.text for b in potential_flat_descr_bullets if b.text != '']\n",
    "\n",
    "    potential_neighborhood_bullets = browser.find_elements_by_xpath('//section/div/div/div/ul[2]/li')\n",
    "\n",
    "    if potential_neighborhood_bullets != [] :\n",
    "        neighborhood_bullets = [b.text for b in potential_neighborhood_bullets if b.text != '']\n",
    "    \n",
    "    pieces_info = [\n",
    "        'price',\n",
    "        'highlights',\n",
    "        'address',\n",
    "        'area',\n",
    "        'num_rooms',\n",
    "        'floor',\n",
    "        'rent',\n",
    "        'online_property_inspection',\n",
    "        'ownership_status',\n",
    "        'flat_condition',\n",
    "        'perks',\n",
    "        'parking',\n",
    "        'heating',\n",
    "        'flat_description_bullets',\n",
    "        'neighborhood_bullets',\n",
    "    ]\n",
    "    \n",
    "    for p in pieces_info :\n",
    "        try :\n",
    "            appartment_data[p] = eval(p)\n",
    "        except NameError :\n",
    "            notification = 'The info was not provided'\n",
    "            print(notification)\n",
    "            appartment_data[p] = notification\n",
    "    \n",
    "\n",
    "    data_by_appartm_listing_url[url] = appartment_data\n",
    "    \n",
    "    browser.back()\n",
    "    time.sleep(10)\n",
    "    "
   ]
  },
  {
   "cell_type": "code",
   "execution_count": 331,
   "id": "3df68b79",
   "metadata": {},
   "outputs": [],
   "source": [
    "time = pd.to_datetime(\"now\").strftime('%Y-%m-%d %X')\n",
    "\n",
    "with open(r'otodom_appartments_listings_{}_observations_{}.txt'\\\n",
    "          .format(len(data_by_appartm_listing_url), time),'w+') as f :\n",
    "    f.write(str(data_by_appartm_listing_url))"
   ]
  },
  {
   "cell_type": "code",
   "execution_count": 278,
   "id": "e2464a9b",
   "metadata": {},
   "outputs": [
    {
     "name": "stderr",
     "output_type": "stream",
     "text": [
      "WARNING:urllib3.connectionpool:Retrying (Retry(total=2, connect=None, read=None, redirect=None, status=None)) after connection broken by 'NewConnectionError('<urllib3.connection.HTTPConnection object at 0xac80ceac>: Failed to establish a new connection: [Errno 111] Connection refused',)': /session/6007d7ba-421e-4eea-8014-fd7cd068e61a/element\n",
      "WARNING:urllib3.connectionpool:Retrying (Retry(total=1, connect=None, read=None, redirect=None, status=None)) after connection broken by 'NewConnectionError('<urllib3.connection.HTTPConnection object at 0xac80cb2c>: Failed to establish a new connection: [Errno 111] Connection refused',)': /session/6007d7ba-421e-4eea-8014-fd7cd068e61a/element\n",
      "WARNING:urllib3.connectionpool:Retrying (Retry(total=0, connect=None, read=None, redirect=None, status=None)) after connection broken by 'NewConnectionError('<urllib3.connection.HTTPConnection object at 0xac7ddecc>: Failed to establish a new connection: [Errno 111] Connection refused',)': /session/6007d7ba-421e-4eea-8014-fd7cd068e61a/element\n"
     ]
    },
    {
     "ename": "MaxRetryError",
     "evalue": "HTTPConnectionPool(host='127.0.0.1', port=49551): Max retries exceeded with url: /session/6007d7ba-421e-4eea-8014-fd7cd068e61a/element (Caused by NewConnectionError('<urllib3.connection.HTTPConnection object at 0xac7ddeec>: Failed to establish a new connection: [Errno 111] Connection refused',))",
     "output_type": "error",
     "traceback": [
      "\u001b[0;31m---------------------------------------------------------------------------\u001b[0m",
      "\u001b[0;31mConnectionRefusedError\u001b[0m                    Traceback (most recent call last)",
      "\u001b[0;32m~/.local/lib/python3.6/site-packages/urllib3/connection.py\u001b[0m in \u001b[0;36m_new_conn\u001b[0;34m(self)\u001b[0m\n\u001b[1;32m    159\u001b[0m             conn = connection.create_connection(\n\u001b[0;32m--> 160\u001b[0;31m                 \u001b[0;34m(\u001b[0m\u001b[0mself\u001b[0m\u001b[0;34m.\u001b[0m\u001b[0m_dns_host\u001b[0m\u001b[0;34m,\u001b[0m \u001b[0mself\u001b[0m\u001b[0;34m.\u001b[0m\u001b[0mport\u001b[0m\u001b[0;34m)\u001b[0m\u001b[0;34m,\u001b[0m \u001b[0mself\u001b[0m\u001b[0;34m.\u001b[0m\u001b[0mtimeout\u001b[0m\u001b[0;34m,\u001b[0m \u001b[0;34m**\u001b[0m\u001b[0mextra_kw\u001b[0m\u001b[0;34m\u001b[0m\u001b[0;34m\u001b[0m\u001b[0m\n\u001b[0m\u001b[1;32m    161\u001b[0m             )\n",
      "\u001b[0;32m~/.local/lib/python3.6/site-packages/urllib3/util/connection.py\u001b[0m in \u001b[0;36mcreate_connection\u001b[0;34m(address, timeout, source_address, socket_options)\u001b[0m\n\u001b[1;32m     83\u001b[0m     \u001b[0;32mif\u001b[0m \u001b[0merr\u001b[0m \u001b[0;32mis\u001b[0m \u001b[0;32mnot\u001b[0m \u001b[0;32mNone\u001b[0m\u001b[0;34m:\u001b[0m\u001b[0;34m\u001b[0m\u001b[0;34m\u001b[0m\u001b[0m\n\u001b[0;32m---> 84\u001b[0;31m         \u001b[0;32mraise\u001b[0m \u001b[0merr\u001b[0m\u001b[0;34m\u001b[0m\u001b[0;34m\u001b[0m\u001b[0m\n\u001b[0m\u001b[1;32m     85\u001b[0m \u001b[0;34m\u001b[0m\u001b[0m\n",
      "\u001b[0;32m~/.local/lib/python3.6/site-packages/urllib3/util/connection.py\u001b[0m in \u001b[0;36mcreate_connection\u001b[0;34m(address, timeout, source_address, socket_options)\u001b[0m\n\u001b[1;32m     73\u001b[0m                 \u001b[0msock\u001b[0m\u001b[0;34m.\u001b[0m\u001b[0mbind\u001b[0m\u001b[0;34m(\u001b[0m\u001b[0msource_address\u001b[0m\u001b[0;34m)\u001b[0m\u001b[0;34m\u001b[0m\u001b[0;34m\u001b[0m\u001b[0m\n\u001b[0;32m---> 74\u001b[0;31m             \u001b[0msock\u001b[0m\u001b[0;34m.\u001b[0m\u001b[0mconnect\u001b[0m\u001b[0;34m(\u001b[0m\u001b[0msa\u001b[0m\u001b[0;34m)\u001b[0m\u001b[0;34m\u001b[0m\u001b[0;34m\u001b[0m\u001b[0m\n\u001b[0m\u001b[1;32m     75\u001b[0m             \u001b[0;32mreturn\u001b[0m \u001b[0msock\u001b[0m\u001b[0;34m\u001b[0m\u001b[0;34m\u001b[0m\u001b[0m\n",
      "\u001b[0;31mConnectionRefusedError\u001b[0m: [Errno 111] Connection refused",
      "\nDuring handling of the above exception, another exception occurred:\n",
      "\u001b[0;31mNewConnectionError\u001b[0m                        Traceback (most recent call last)",
      "\u001b[0;32m~/.local/lib/python3.6/site-packages/urllib3/connectionpool.py\u001b[0m in \u001b[0;36murlopen\u001b[0;34m(self, method, url, body, headers, retries, redirect, assert_same_host, timeout, pool_timeout, release_conn, chunked, body_pos, **response_kw)\u001b[0m\n\u001b[1;32m    676\u001b[0m                 \u001b[0mheaders\u001b[0m\u001b[0;34m=\u001b[0m\u001b[0mheaders\u001b[0m\u001b[0;34m,\u001b[0m\u001b[0;34m\u001b[0m\u001b[0;34m\u001b[0m\u001b[0m\n\u001b[0;32m--> 677\u001b[0;31m                 \u001b[0mchunked\u001b[0m\u001b[0;34m=\u001b[0m\u001b[0mchunked\u001b[0m\u001b[0;34m,\u001b[0m\u001b[0;34m\u001b[0m\u001b[0;34m\u001b[0m\u001b[0m\n\u001b[0m\u001b[1;32m    678\u001b[0m             )\n",
      "\u001b[0;32m~/.local/lib/python3.6/site-packages/urllib3/connectionpool.py\u001b[0m in \u001b[0;36m_make_request\u001b[0;34m(self, conn, method, url, timeout, chunked, **httplib_request_kw)\u001b[0m\n\u001b[1;32m    391\u001b[0m         \u001b[0;32melse\u001b[0m\u001b[0;34m:\u001b[0m\u001b[0;34m\u001b[0m\u001b[0;34m\u001b[0m\u001b[0m\n\u001b[0;32m--> 392\u001b[0;31m             \u001b[0mconn\u001b[0m\u001b[0;34m.\u001b[0m\u001b[0mrequest\u001b[0m\u001b[0;34m(\u001b[0m\u001b[0mmethod\u001b[0m\u001b[0;34m,\u001b[0m \u001b[0murl\u001b[0m\u001b[0;34m,\u001b[0m \u001b[0;34m**\u001b[0m\u001b[0mhttplib_request_kw\u001b[0m\u001b[0;34m)\u001b[0m\u001b[0;34m\u001b[0m\u001b[0;34m\u001b[0m\u001b[0m\n\u001b[0m\u001b[1;32m    393\u001b[0m \u001b[0;34m\u001b[0m\u001b[0m\n",
      "\u001b[0;32m/usr/lib/python3.6/http/client.py\u001b[0m in \u001b[0;36mrequest\u001b[0;34m(self, method, url, body, headers, encode_chunked)\u001b[0m\n\u001b[1;32m   1284\u001b[0m         \u001b[0;34m\"\"\"Send a complete request to the server.\"\"\"\u001b[0m\u001b[0;34m\u001b[0m\u001b[0;34m\u001b[0m\u001b[0m\n\u001b[0;32m-> 1285\u001b[0;31m         \u001b[0mself\u001b[0m\u001b[0;34m.\u001b[0m\u001b[0m_send_request\u001b[0m\u001b[0;34m(\u001b[0m\u001b[0mmethod\u001b[0m\u001b[0;34m,\u001b[0m \u001b[0murl\u001b[0m\u001b[0;34m,\u001b[0m \u001b[0mbody\u001b[0m\u001b[0;34m,\u001b[0m \u001b[0mheaders\u001b[0m\u001b[0;34m,\u001b[0m \u001b[0mencode_chunked\u001b[0m\u001b[0;34m)\u001b[0m\u001b[0;34m\u001b[0m\u001b[0;34m\u001b[0m\u001b[0m\n\u001b[0m\u001b[1;32m   1286\u001b[0m \u001b[0;34m\u001b[0m\u001b[0m\n",
      "\u001b[0;32m/usr/lib/python3.6/http/client.py\u001b[0m in \u001b[0;36m_send_request\u001b[0;34m(self, method, url, body, headers, encode_chunked)\u001b[0m\n\u001b[1;32m   1330\u001b[0m             \u001b[0mbody\u001b[0m \u001b[0;34m=\u001b[0m \u001b[0m_encode\u001b[0m\u001b[0;34m(\u001b[0m\u001b[0mbody\u001b[0m\u001b[0;34m,\u001b[0m \u001b[0;34m'body'\u001b[0m\u001b[0;34m)\u001b[0m\u001b[0;34m\u001b[0m\u001b[0;34m\u001b[0m\u001b[0m\n\u001b[0;32m-> 1331\u001b[0;31m         \u001b[0mself\u001b[0m\u001b[0;34m.\u001b[0m\u001b[0mendheaders\u001b[0m\u001b[0;34m(\u001b[0m\u001b[0mbody\u001b[0m\u001b[0;34m,\u001b[0m \u001b[0mencode_chunked\u001b[0m\u001b[0;34m=\u001b[0m\u001b[0mencode_chunked\u001b[0m\u001b[0;34m)\u001b[0m\u001b[0;34m\u001b[0m\u001b[0;34m\u001b[0m\u001b[0m\n\u001b[0m\u001b[1;32m   1332\u001b[0m \u001b[0;34m\u001b[0m\u001b[0m\n",
      "\u001b[0;32m/usr/lib/python3.6/http/client.py\u001b[0m in \u001b[0;36mendheaders\u001b[0;34m(self, message_body, encode_chunked)\u001b[0m\n\u001b[1;32m   1279\u001b[0m             \u001b[0;32mraise\u001b[0m \u001b[0mCannotSendHeader\u001b[0m\u001b[0;34m(\u001b[0m\u001b[0;34m)\u001b[0m\u001b[0;34m\u001b[0m\u001b[0;34m\u001b[0m\u001b[0m\n\u001b[0;32m-> 1280\u001b[0;31m         \u001b[0mself\u001b[0m\u001b[0;34m.\u001b[0m\u001b[0m_send_output\u001b[0m\u001b[0;34m(\u001b[0m\u001b[0mmessage_body\u001b[0m\u001b[0;34m,\u001b[0m \u001b[0mencode_chunked\u001b[0m\u001b[0;34m=\u001b[0m\u001b[0mencode_chunked\u001b[0m\u001b[0;34m)\u001b[0m\u001b[0;34m\u001b[0m\u001b[0;34m\u001b[0m\u001b[0m\n\u001b[0m\u001b[1;32m   1281\u001b[0m \u001b[0;34m\u001b[0m\u001b[0m\n",
      "\u001b[0;32m/usr/lib/python3.6/http/client.py\u001b[0m in \u001b[0;36m_send_output\u001b[0;34m(self, message_body, encode_chunked)\u001b[0m\n\u001b[1;32m   1045\u001b[0m         \u001b[0;32mdel\u001b[0m \u001b[0mself\u001b[0m\u001b[0;34m.\u001b[0m\u001b[0m_buffer\u001b[0m\u001b[0;34m[\u001b[0m\u001b[0;34m:\u001b[0m\u001b[0;34m]\u001b[0m\u001b[0;34m\u001b[0m\u001b[0;34m\u001b[0m\u001b[0m\n\u001b[0;32m-> 1046\u001b[0;31m         \u001b[0mself\u001b[0m\u001b[0;34m.\u001b[0m\u001b[0msend\u001b[0m\u001b[0;34m(\u001b[0m\u001b[0mmsg\u001b[0m\u001b[0;34m)\u001b[0m\u001b[0;34m\u001b[0m\u001b[0;34m\u001b[0m\u001b[0m\n\u001b[0m\u001b[1;32m   1047\u001b[0m \u001b[0;34m\u001b[0m\u001b[0m\n",
      "\u001b[0;32m/usr/lib/python3.6/http/client.py\u001b[0m in \u001b[0;36msend\u001b[0;34m(self, data)\u001b[0m\n\u001b[1;32m    983\u001b[0m             \u001b[0;32mif\u001b[0m \u001b[0mself\u001b[0m\u001b[0;34m.\u001b[0m\u001b[0mauto_open\u001b[0m\u001b[0;34m:\u001b[0m\u001b[0;34m\u001b[0m\u001b[0;34m\u001b[0m\u001b[0m\n\u001b[0;32m--> 984\u001b[0;31m                 \u001b[0mself\u001b[0m\u001b[0;34m.\u001b[0m\u001b[0mconnect\u001b[0m\u001b[0;34m(\u001b[0m\u001b[0;34m)\u001b[0m\u001b[0;34m\u001b[0m\u001b[0;34m\u001b[0m\u001b[0m\n\u001b[0m\u001b[1;32m    985\u001b[0m             \u001b[0;32melse\u001b[0m\u001b[0;34m:\u001b[0m\u001b[0;34m\u001b[0m\u001b[0;34m\u001b[0m\u001b[0m\n",
      "\u001b[0;32m~/.local/lib/python3.6/site-packages/urllib3/connection.py\u001b[0m in \u001b[0;36mconnect\u001b[0;34m(self)\u001b[0m\n\u001b[1;32m    186\u001b[0m     \u001b[0;32mdef\u001b[0m \u001b[0mconnect\u001b[0m\u001b[0;34m(\u001b[0m\u001b[0mself\u001b[0m\u001b[0;34m)\u001b[0m\u001b[0;34m:\u001b[0m\u001b[0;34m\u001b[0m\u001b[0;34m\u001b[0m\u001b[0m\n\u001b[0;32m--> 187\u001b[0;31m         \u001b[0mconn\u001b[0m \u001b[0;34m=\u001b[0m \u001b[0mself\u001b[0m\u001b[0;34m.\u001b[0m\u001b[0m_new_conn\u001b[0m\u001b[0;34m(\u001b[0m\u001b[0;34m)\u001b[0m\u001b[0;34m\u001b[0m\u001b[0;34m\u001b[0m\u001b[0m\n\u001b[0m\u001b[1;32m    188\u001b[0m         \u001b[0mself\u001b[0m\u001b[0;34m.\u001b[0m\u001b[0m_prepare_conn\u001b[0m\u001b[0;34m(\u001b[0m\u001b[0mconn\u001b[0m\u001b[0;34m)\u001b[0m\u001b[0;34m\u001b[0m\u001b[0;34m\u001b[0m\u001b[0m\n",
      "\u001b[0;32m~/.local/lib/python3.6/site-packages/urllib3/connection.py\u001b[0m in \u001b[0;36m_new_conn\u001b[0;34m(self)\u001b[0m\n\u001b[1;32m    171\u001b[0m             raise NewConnectionError(\n\u001b[0;32m--> 172\u001b[0;31m                 \u001b[0mself\u001b[0m\u001b[0;34m,\u001b[0m \u001b[0;34m\"Failed to establish a new connection: %s\"\u001b[0m \u001b[0;34m%\u001b[0m \u001b[0me\u001b[0m\u001b[0;34m\u001b[0m\u001b[0;34m\u001b[0m\u001b[0m\n\u001b[0m\u001b[1;32m    173\u001b[0m             )\n",
      "\u001b[0;31mNewConnectionError\u001b[0m: <urllib3.connection.HTTPConnection object at 0xac7ddeec>: Failed to establish a new connection: [Errno 111] Connection refused",
      "\nDuring handling of the above exception, another exception occurred:\n",
      "\u001b[0;31mMaxRetryError\u001b[0m                             Traceback (most recent call last)",
      "\u001b[0;32m<ipython-input-278-6d041377551d>\u001b[0m in \u001b[0;36m<module>\u001b[0;34m()\u001b[0m\n\u001b[0;32m----> 1\u001b[0;31m \u001b[0mprice\u001b[0m \u001b[0;34m=\u001b[0m \u001b[0mbrowser\u001b[0m\u001b[0;34m.\u001b[0m\u001b[0mfind_element_by_xpath\u001b[0m\u001b[0;34m(\u001b[0m\u001b[0;34m'//strong[@aria-label=\"Cena\"]'\u001b[0m\u001b[0;34m)\u001b[0m\u001b[0;34m.\u001b[0m\u001b[0mtext\u001b[0m\u001b[0;34m\u001b[0m\u001b[0;34m\u001b[0m\u001b[0m\n\u001b[0m\u001b[1;32m      2\u001b[0m \u001b[0mhighlights\u001b[0m \u001b[0;34m=\u001b[0m \u001b[0mbrowser\u001b[0m\u001b[0;34m.\u001b[0m\u001b[0mfind_element_by_xpath\u001b[0m\u001b[0;34m(\u001b[0m\u001b[0;34m'//header/h1'\u001b[0m\u001b[0;34m)\u001b[0m\u001b[0;34m.\u001b[0m\u001b[0mtext\u001b[0m\u001b[0;34m\u001b[0m\u001b[0;34m\u001b[0m\u001b[0m\n\u001b[1;32m      3\u001b[0m \u001b[0maddress\u001b[0m \u001b[0;34m=\u001b[0m \u001b[0mbrowser\u001b[0m\u001b[0;34m.\u001b[0m\u001b[0mfind_element_by_xpath\u001b[0m\u001b[0;34m(\u001b[0m\u001b[0;34m'//a[@aria-label=\"Adres\"]'\u001b[0m\u001b[0;34m)\u001b[0m\u001b[0;34m.\u001b[0m\u001b[0mtext\u001b[0m\u001b[0;34m\u001b[0m\u001b[0;34m\u001b[0m\u001b[0m\n",
      "\u001b[0;32m~/.local/lib/python3.6/site-packages/selenium/webdriver/remote/webdriver.py\u001b[0m in \u001b[0;36mfind_element_by_xpath\u001b[0;34m(self, xpath)\u001b[0m\n\u001b[1;32m    392\u001b[0m             \u001b[0melement\u001b[0m \u001b[0;34m=\u001b[0m \u001b[0mdriver\u001b[0m\u001b[0;34m.\u001b[0m\u001b[0mfind_element_by_xpath\u001b[0m\u001b[0;34m(\u001b[0m\u001b[0;34m'//div/td[1]'\u001b[0m\u001b[0;34m)\u001b[0m\u001b[0;34m\u001b[0m\u001b[0;34m\u001b[0m\u001b[0m\n\u001b[1;32m    393\u001b[0m         \"\"\"\n\u001b[0;32m--> 394\u001b[0;31m         \u001b[0;32mreturn\u001b[0m \u001b[0mself\u001b[0m\u001b[0;34m.\u001b[0m\u001b[0mfind_element\u001b[0m\u001b[0;34m(\u001b[0m\u001b[0mby\u001b[0m\u001b[0;34m=\u001b[0m\u001b[0mBy\u001b[0m\u001b[0;34m.\u001b[0m\u001b[0mXPATH\u001b[0m\u001b[0;34m,\u001b[0m \u001b[0mvalue\u001b[0m\u001b[0;34m=\u001b[0m\u001b[0mxpath\u001b[0m\u001b[0;34m)\u001b[0m\u001b[0;34m\u001b[0m\u001b[0;34m\u001b[0m\u001b[0m\n\u001b[0m\u001b[1;32m    395\u001b[0m \u001b[0;34m\u001b[0m\u001b[0m\n\u001b[1;32m    396\u001b[0m     \u001b[0;32mdef\u001b[0m \u001b[0mfind_elements_by_xpath\u001b[0m\u001b[0;34m(\u001b[0m\u001b[0mself\u001b[0m\u001b[0;34m,\u001b[0m \u001b[0mxpath\u001b[0m\u001b[0;34m)\u001b[0m\u001b[0;34m:\u001b[0m\u001b[0;34m\u001b[0m\u001b[0;34m\u001b[0m\u001b[0m\n",
      "\u001b[0;32m~/.local/lib/python3.6/site-packages/selenium/webdriver/remote/webdriver.py\u001b[0m in \u001b[0;36mfind_element\u001b[0;34m(self, by, value)\u001b[0m\n\u001b[1;32m    976\u001b[0m         return self.execute(Command.FIND_ELEMENT, {\n\u001b[1;32m    977\u001b[0m             \u001b[0;34m'using'\u001b[0m\u001b[0;34m:\u001b[0m \u001b[0mby\u001b[0m\u001b[0;34m,\u001b[0m\u001b[0;34m\u001b[0m\u001b[0;34m\u001b[0m\u001b[0m\n\u001b[0;32m--> 978\u001b[0;31m             'value': value})['value']\n\u001b[0m\u001b[1;32m    979\u001b[0m \u001b[0;34m\u001b[0m\u001b[0m\n\u001b[1;32m    980\u001b[0m     \u001b[0;32mdef\u001b[0m \u001b[0mfind_elements\u001b[0m\u001b[0;34m(\u001b[0m\u001b[0mself\u001b[0m\u001b[0;34m,\u001b[0m \u001b[0mby\u001b[0m\u001b[0;34m=\u001b[0m\u001b[0mBy\u001b[0m\u001b[0;34m.\u001b[0m\u001b[0mID\u001b[0m\u001b[0;34m,\u001b[0m \u001b[0mvalue\u001b[0m\u001b[0;34m=\u001b[0m\u001b[0;32mNone\u001b[0m\u001b[0;34m)\u001b[0m\u001b[0;34m:\u001b[0m\u001b[0;34m\u001b[0m\u001b[0;34m\u001b[0m\u001b[0m\n",
      "\u001b[0;32m~/.local/lib/python3.6/site-packages/selenium/webdriver/remote/webdriver.py\u001b[0m in \u001b[0;36mexecute\u001b[0;34m(self, driver_command, params)\u001b[0m\n\u001b[1;32m    317\u001b[0m \u001b[0;34m\u001b[0m\u001b[0m\n\u001b[1;32m    318\u001b[0m         \u001b[0mparams\u001b[0m \u001b[0;34m=\u001b[0m \u001b[0mself\u001b[0m\u001b[0;34m.\u001b[0m\u001b[0m_wrap_value\u001b[0m\u001b[0;34m(\u001b[0m\u001b[0mparams\u001b[0m\u001b[0;34m)\u001b[0m\u001b[0;34m\u001b[0m\u001b[0;34m\u001b[0m\u001b[0m\n\u001b[0;32m--> 319\u001b[0;31m         \u001b[0mresponse\u001b[0m \u001b[0;34m=\u001b[0m \u001b[0mself\u001b[0m\u001b[0;34m.\u001b[0m\u001b[0mcommand_executor\u001b[0m\u001b[0;34m.\u001b[0m\u001b[0mexecute\u001b[0m\u001b[0;34m(\u001b[0m\u001b[0mdriver_command\u001b[0m\u001b[0;34m,\u001b[0m \u001b[0mparams\u001b[0m\u001b[0;34m)\u001b[0m\u001b[0;34m\u001b[0m\u001b[0;34m\u001b[0m\u001b[0m\n\u001b[0m\u001b[1;32m    320\u001b[0m         \u001b[0;32mif\u001b[0m \u001b[0mresponse\u001b[0m\u001b[0;34m:\u001b[0m\u001b[0;34m\u001b[0m\u001b[0;34m\u001b[0m\u001b[0m\n\u001b[1;32m    321\u001b[0m             \u001b[0mself\u001b[0m\u001b[0;34m.\u001b[0m\u001b[0merror_handler\u001b[0m\u001b[0;34m.\u001b[0m\u001b[0mcheck_response\u001b[0m\u001b[0;34m(\u001b[0m\u001b[0mresponse\u001b[0m\u001b[0;34m)\u001b[0m\u001b[0;34m\u001b[0m\u001b[0;34m\u001b[0m\u001b[0m\n",
      "\u001b[0;32m~/.local/lib/python3.6/site-packages/selenium/webdriver/remote/remote_connection.py\u001b[0m in \u001b[0;36mexecute\u001b[0;34m(self, command, params)\u001b[0m\n\u001b[1;32m    372\u001b[0m         \u001b[0mdata\u001b[0m \u001b[0;34m=\u001b[0m \u001b[0mutils\u001b[0m\u001b[0;34m.\u001b[0m\u001b[0mdump_json\u001b[0m\u001b[0;34m(\u001b[0m\u001b[0mparams\u001b[0m\u001b[0;34m)\u001b[0m\u001b[0;34m\u001b[0m\u001b[0;34m\u001b[0m\u001b[0m\n\u001b[1;32m    373\u001b[0m         \u001b[0murl\u001b[0m \u001b[0;34m=\u001b[0m \u001b[0;34m'%s%s'\u001b[0m \u001b[0;34m%\u001b[0m \u001b[0;34m(\u001b[0m\u001b[0mself\u001b[0m\u001b[0;34m.\u001b[0m\u001b[0m_url\u001b[0m\u001b[0;34m,\u001b[0m \u001b[0mpath\u001b[0m\u001b[0;34m)\u001b[0m\u001b[0;34m\u001b[0m\u001b[0;34m\u001b[0m\u001b[0m\n\u001b[0;32m--> 374\u001b[0;31m         \u001b[0;32mreturn\u001b[0m \u001b[0mself\u001b[0m\u001b[0;34m.\u001b[0m\u001b[0m_request\u001b[0m\u001b[0;34m(\u001b[0m\u001b[0mcommand_info\u001b[0m\u001b[0;34m[\u001b[0m\u001b[0;36m0\u001b[0m\u001b[0;34m]\u001b[0m\u001b[0;34m,\u001b[0m \u001b[0murl\u001b[0m\u001b[0;34m,\u001b[0m \u001b[0mbody\u001b[0m\u001b[0;34m=\u001b[0m\u001b[0mdata\u001b[0m\u001b[0;34m)\u001b[0m\u001b[0;34m\u001b[0m\u001b[0;34m\u001b[0m\u001b[0m\n\u001b[0m\u001b[1;32m    375\u001b[0m \u001b[0;34m\u001b[0m\u001b[0m\n\u001b[1;32m    376\u001b[0m     \u001b[0;32mdef\u001b[0m \u001b[0m_request\u001b[0m\u001b[0;34m(\u001b[0m\u001b[0mself\u001b[0m\u001b[0;34m,\u001b[0m \u001b[0mmethod\u001b[0m\u001b[0;34m,\u001b[0m \u001b[0murl\u001b[0m\u001b[0;34m,\u001b[0m \u001b[0mbody\u001b[0m\u001b[0;34m=\u001b[0m\u001b[0;32mNone\u001b[0m\u001b[0;34m)\u001b[0m\u001b[0;34m:\u001b[0m\u001b[0;34m\u001b[0m\u001b[0;34m\u001b[0m\u001b[0m\n",
      "\u001b[0;32m~/.local/lib/python3.6/site-packages/selenium/webdriver/remote/remote_connection.py\u001b[0m in \u001b[0;36m_request\u001b[0;34m(self, method, url, body)\u001b[0m\n\u001b[1;32m    395\u001b[0m \u001b[0;34m\u001b[0m\u001b[0m\n\u001b[1;32m    396\u001b[0m         \u001b[0;32mif\u001b[0m \u001b[0mself\u001b[0m\u001b[0;34m.\u001b[0m\u001b[0mkeep_alive\u001b[0m\u001b[0;34m:\u001b[0m\u001b[0;34m\u001b[0m\u001b[0;34m\u001b[0m\u001b[0m\n\u001b[0;32m--> 397\u001b[0;31m             \u001b[0mresp\u001b[0m \u001b[0;34m=\u001b[0m \u001b[0mself\u001b[0m\u001b[0;34m.\u001b[0m\u001b[0m_conn\u001b[0m\u001b[0;34m.\u001b[0m\u001b[0mrequest\u001b[0m\u001b[0;34m(\u001b[0m\u001b[0mmethod\u001b[0m\u001b[0;34m,\u001b[0m \u001b[0murl\u001b[0m\u001b[0;34m,\u001b[0m \u001b[0mbody\u001b[0m\u001b[0;34m=\u001b[0m\u001b[0mbody\u001b[0m\u001b[0;34m,\u001b[0m \u001b[0mheaders\u001b[0m\u001b[0;34m=\u001b[0m\u001b[0mheaders\u001b[0m\u001b[0;34m)\u001b[0m\u001b[0;34m\u001b[0m\u001b[0;34m\u001b[0m\u001b[0m\n\u001b[0m\u001b[1;32m    398\u001b[0m \u001b[0;34m\u001b[0m\u001b[0m\n\u001b[1;32m    399\u001b[0m             \u001b[0mstatuscode\u001b[0m \u001b[0;34m=\u001b[0m \u001b[0mresp\u001b[0m\u001b[0;34m.\u001b[0m\u001b[0mstatus\u001b[0m\u001b[0;34m\u001b[0m\u001b[0;34m\u001b[0m\u001b[0m\n",
      "\u001b[0;32m~/.local/lib/python3.6/site-packages/urllib3/request.py\u001b[0m in \u001b[0;36mrequest\u001b[0;34m(self, method, url, fields, headers, **urlopen_kw)\u001b[0m\n\u001b[1;32m     78\u001b[0m         \u001b[0;32melse\u001b[0m\u001b[0;34m:\u001b[0m\u001b[0;34m\u001b[0m\u001b[0;34m\u001b[0m\u001b[0m\n\u001b[1;32m     79\u001b[0m             return self.request_encode_body(\n\u001b[0;32m---> 80\u001b[0;31m                 \u001b[0mmethod\u001b[0m\u001b[0;34m,\u001b[0m \u001b[0murl\u001b[0m\u001b[0;34m,\u001b[0m \u001b[0mfields\u001b[0m\u001b[0;34m=\u001b[0m\u001b[0mfields\u001b[0m\u001b[0;34m,\u001b[0m \u001b[0mheaders\u001b[0m\u001b[0;34m=\u001b[0m\u001b[0mheaders\u001b[0m\u001b[0;34m,\u001b[0m \u001b[0;34m**\u001b[0m\u001b[0murlopen_kw\u001b[0m\u001b[0;34m\u001b[0m\u001b[0;34m\u001b[0m\u001b[0m\n\u001b[0m\u001b[1;32m     81\u001b[0m             )\n\u001b[1;32m     82\u001b[0m \u001b[0;34m\u001b[0m\u001b[0m\n",
      "\u001b[0;32m~/.local/lib/python3.6/site-packages/urllib3/request.py\u001b[0m in \u001b[0;36mrequest_encode_body\u001b[0;34m(self, method, url, fields, headers, encode_multipart, multipart_boundary, **urlopen_kw)\u001b[0m\n\u001b[1;32m    169\u001b[0m         \u001b[0mextra_kw\u001b[0m\u001b[0;34m.\u001b[0m\u001b[0mupdate\u001b[0m\u001b[0;34m(\u001b[0m\u001b[0murlopen_kw\u001b[0m\u001b[0;34m)\u001b[0m\u001b[0;34m\u001b[0m\u001b[0;34m\u001b[0m\u001b[0m\n\u001b[1;32m    170\u001b[0m \u001b[0;34m\u001b[0m\u001b[0m\n\u001b[0;32m--> 171\u001b[0;31m         \u001b[0;32mreturn\u001b[0m \u001b[0mself\u001b[0m\u001b[0;34m.\u001b[0m\u001b[0murlopen\u001b[0m\u001b[0;34m(\u001b[0m\u001b[0mmethod\u001b[0m\u001b[0;34m,\u001b[0m \u001b[0murl\u001b[0m\u001b[0;34m,\u001b[0m \u001b[0;34m**\u001b[0m\u001b[0mextra_kw\u001b[0m\u001b[0;34m)\u001b[0m\u001b[0;34m\u001b[0m\u001b[0;34m\u001b[0m\u001b[0m\n\u001b[0m",
      "\u001b[0;32m~/.local/lib/python3.6/site-packages/urllib3/poolmanager.py\u001b[0m in \u001b[0;36murlopen\u001b[0;34m(self, method, url, redirect, **kw)\u001b[0m\n\u001b[1;32m    334\u001b[0m             \u001b[0mresponse\u001b[0m \u001b[0;34m=\u001b[0m \u001b[0mconn\u001b[0m\u001b[0;34m.\u001b[0m\u001b[0murlopen\u001b[0m\u001b[0;34m(\u001b[0m\u001b[0mmethod\u001b[0m\u001b[0;34m,\u001b[0m \u001b[0murl\u001b[0m\u001b[0;34m,\u001b[0m \u001b[0;34m**\u001b[0m\u001b[0mkw\u001b[0m\u001b[0;34m)\u001b[0m\u001b[0;34m\u001b[0m\u001b[0;34m\u001b[0m\u001b[0m\n\u001b[1;32m    335\u001b[0m         \u001b[0;32melse\u001b[0m\u001b[0;34m:\u001b[0m\u001b[0;34m\u001b[0m\u001b[0;34m\u001b[0m\u001b[0m\n\u001b[0;32m--> 336\u001b[0;31m             \u001b[0mresponse\u001b[0m \u001b[0;34m=\u001b[0m \u001b[0mconn\u001b[0m\u001b[0;34m.\u001b[0m\u001b[0murlopen\u001b[0m\u001b[0;34m(\u001b[0m\u001b[0mmethod\u001b[0m\u001b[0;34m,\u001b[0m \u001b[0mu\u001b[0m\u001b[0;34m.\u001b[0m\u001b[0mrequest_uri\u001b[0m\u001b[0;34m,\u001b[0m \u001b[0;34m**\u001b[0m\u001b[0mkw\u001b[0m\u001b[0;34m)\u001b[0m\u001b[0;34m\u001b[0m\u001b[0;34m\u001b[0m\u001b[0m\n\u001b[0m\u001b[1;32m    337\u001b[0m \u001b[0;34m\u001b[0m\u001b[0m\n\u001b[1;32m    338\u001b[0m         \u001b[0mredirect_location\u001b[0m \u001b[0;34m=\u001b[0m \u001b[0mredirect\u001b[0m \u001b[0;32mand\u001b[0m \u001b[0mresponse\u001b[0m\u001b[0;34m.\u001b[0m\u001b[0mget_redirect_location\u001b[0m\u001b[0;34m(\u001b[0m\u001b[0;34m)\u001b[0m\u001b[0;34m\u001b[0m\u001b[0;34m\u001b[0m\u001b[0m\n",
      "\u001b[0;32m~/.local/lib/python3.6/site-packages/urllib3/connectionpool.py\u001b[0m in \u001b[0;36murlopen\u001b[0;34m(self, method, url, body, headers, retries, redirect, assert_same_host, timeout, pool_timeout, release_conn, chunked, body_pos, **response_kw)\u001b[0m\n\u001b[1;32m    763\u001b[0m                 \u001b[0mchunked\u001b[0m\u001b[0;34m=\u001b[0m\u001b[0mchunked\u001b[0m\u001b[0;34m,\u001b[0m\u001b[0;34m\u001b[0m\u001b[0;34m\u001b[0m\u001b[0m\n\u001b[1;32m    764\u001b[0m                 \u001b[0mbody_pos\u001b[0m\u001b[0;34m=\u001b[0m\u001b[0mbody_pos\u001b[0m\u001b[0;34m,\u001b[0m\u001b[0;34m\u001b[0m\u001b[0;34m\u001b[0m\u001b[0m\n\u001b[0;32m--> 765\u001b[0;31m                 \u001b[0;34m**\u001b[0m\u001b[0mresponse_kw\u001b[0m\u001b[0;34m\u001b[0m\u001b[0;34m\u001b[0m\u001b[0m\n\u001b[0m\u001b[1;32m    766\u001b[0m             )\n\u001b[1;32m    767\u001b[0m \u001b[0;34m\u001b[0m\u001b[0m\n",
      "\u001b[0;32m~/.local/lib/python3.6/site-packages/urllib3/connectionpool.py\u001b[0m in \u001b[0;36murlopen\u001b[0;34m(self, method, url, body, headers, retries, redirect, assert_same_host, timeout, pool_timeout, release_conn, chunked, body_pos, **response_kw)\u001b[0m\n\u001b[1;32m    763\u001b[0m                 \u001b[0mchunked\u001b[0m\u001b[0;34m=\u001b[0m\u001b[0mchunked\u001b[0m\u001b[0;34m,\u001b[0m\u001b[0;34m\u001b[0m\u001b[0;34m\u001b[0m\u001b[0m\n\u001b[1;32m    764\u001b[0m                 \u001b[0mbody_pos\u001b[0m\u001b[0;34m=\u001b[0m\u001b[0mbody_pos\u001b[0m\u001b[0;34m,\u001b[0m\u001b[0;34m\u001b[0m\u001b[0;34m\u001b[0m\u001b[0m\n\u001b[0;32m--> 765\u001b[0;31m                 \u001b[0;34m**\u001b[0m\u001b[0mresponse_kw\u001b[0m\u001b[0;34m\u001b[0m\u001b[0;34m\u001b[0m\u001b[0m\n\u001b[0m\u001b[1;32m    766\u001b[0m             )\n\u001b[1;32m    767\u001b[0m \u001b[0;34m\u001b[0m\u001b[0m\n",
      "\u001b[0;32m~/.local/lib/python3.6/site-packages/urllib3/connectionpool.py\u001b[0m in \u001b[0;36murlopen\u001b[0;34m(self, method, url, body, headers, retries, redirect, assert_same_host, timeout, pool_timeout, release_conn, chunked, body_pos, **response_kw)\u001b[0m\n\u001b[1;32m    763\u001b[0m                 \u001b[0mchunked\u001b[0m\u001b[0;34m=\u001b[0m\u001b[0mchunked\u001b[0m\u001b[0;34m,\u001b[0m\u001b[0;34m\u001b[0m\u001b[0;34m\u001b[0m\u001b[0m\n\u001b[1;32m    764\u001b[0m                 \u001b[0mbody_pos\u001b[0m\u001b[0;34m=\u001b[0m\u001b[0mbody_pos\u001b[0m\u001b[0;34m,\u001b[0m\u001b[0;34m\u001b[0m\u001b[0;34m\u001b[0m\u001b[0m\n\u001b[0;32m--> 765\u001b[0;31m                 \u001b[0;34m**\u001b[0m\u001b[0mresponse_kw\u001b[0m\u001b[0;34m\u001b[0m\u001b[0;34m\u001b[0m\u001b[0m\n\u001b[0m\u001b[1;32m    766\u001b[0m             )\n\u001b[1;32m    767\u001b[0m \u001b[0;34m\u001b[0m\u001b[0m\n",
      "\u001b[0;32m~/.local/lib/python3.6/site-packages/urllib3/connectionpool.py\u001b[0m in \u001b[0;36murlopen\u001b[0;34m(self, method, url, body, headers, retries, redirect, assert_same_host, timeout, pool_timeout, release_conn, chunked, body_pos, **response_kw)\u001b[0m\n\u001b[1;32m    723\u001b[0m \u001b[0;34m\u001b[0m\u001b[0m\n\u001b[1;32m    724\u001b[0m             retries = retries.increment(\n\u001b[0;32m--> 725\u001b[0;31m                 \u001b[0mmethod\u001b[0m\u001b[0;34m,\u001b[0m \u001b[0murl\u001b[0m\u001b[0;34m,\u001b[0m \u001b[0merror\u001b[0m\u001b[0;34m=\u001b[0m\u001b[0me\u001b[0m\u001b[0;34m,\u001b[0m \u001b[0m_pool\u001b[0m\u001b[0;34m=\u001b[0m\u001b[0mself\u001b[0m\u001b[0;34m,\u001b[0m \u001b[0m_stacktrace\u001b[0m\u001b[0;34m=\u001b[0m\u001b[0msys\u001b[0m\u001b[0;34m.\u001b[0m\u001b[0mexc_info\u001b[0m\u001b[0;34m(\u001b[0m\u001b[0;34m)\u001b[0m\u001b[0;34m[\u001b[0m\u001b[0;36m2\u001b[0m\u001b[0;34m]\u001b[0m\u001b[0;34m\u001b[0m\u001b[0;34m\u001b[0m\u001b[0m\n\u001b[0m\u001b[1;32m    726\u001b[0m             )\n\u001b[1;32m    727\u001b[0m             \u001b[0mretries\u001b[0m\u001b[0;34m.\u001b[0m\u001b[0msleep\u001b[0m\u001b[0;34m(\u001b[0m\u001b[0;34m)\u001b[0m\u001b[0;34m\u001b[0m\u001b[0;34m\u001b[0m\u001b[0m\n",
      "\u001b[0;32m~/.local/lib/python3.6/site-packages/urllib3/util/retry.py\u001b[0m in \u001b[0;36mincrement\u001b[0;34m(self, method, url, response, error, _pool, _stacktrace)\u001b[0m\n\u001b[1;32m    437\u001b[0m \u001b[0;34m\u001b[0m\u001b[0m\n\u001b[1;32m    438\u001b[0m         \u001b[0;32mif\u001b[0m \u001b[0mnew_retry\u001b[0m\u001b[0;34m.\u001b[0m\u001b[0mis_exhausted\u001b[0m\u001b[0;34m(\u001b[0m\u001b[0;34m)\u001b[0m\u001b[0;34m:\u001b[0m\u001b[0;34m\u001b[0m\u001b[0;34m\u001b[0m\u001b[0m\n\u001b[0;32m--> 439\u001b[0;31m             \u001b[0;32mraise\u001b[0m \u001b[0mMaxRetryError\u001b[0m\u001b[0;34m(\u001b[0m\u001b[0m_pool\u001b[0m\u001b[0;34m,\u001b[0m \u001b[0murl\u001b[0m\u001b[0;34m,\u001b[0m \u001b[0merror\u001b[0m \u001b[0;32mor\u001b[0m \u001b[0mResponseError\u001b[0m\u001b[0;34m(\u001b[0m\u001b[0mcause\u001b[0m\u001b[0;34m)\u001b[0m\u001b[0;34m)\u001b[0m\u001b[0;34m\u001b[0m\u001b[0;34m\u001b[0m\u001b[0m\n\u001b[0m\u001b[1;32m    440\u001b[0m \u001b[0;34m\u001b[0m\u001b[0m\n\u001b[1;32m    441\u001b[0m         \u001b[0mlog\u001b[0m\u001b[0;34m.\u001b[0m\u001b[0mdebug\u001b[0m\u001b[0;34m(\u001b[0m\u001b[0;34m\"Incremented Retry for (url='%s'): %r\"\u001b[0m\u001b[0;34m,\u001b[0m \u001b[0murl\u001b[0m\u001b[0;34m,\u001b[0m \u001b[0mnew_retry\u001b[0m\u001b[0;34m)\u001b[0m\u001b[0;34m\u001b[0m\u001b[0;34m\u001b[0m\u001b[0m\n",
      "\u001b[0;31mMaxRetryError\u001b[0m: HTTPConnectionPool(host='127.0.0.1', port=49551): Max retries exceeded with url: /session/6007d7ba-421e-4eea-8014-fd7cd068e61a/element (Caused by NewConnectionError('<urllib3.connection.HTTPConnection object at 0xac7ddeec>: Failed to establish a new connection: [Errno 111] Connection refused',))"
     ]
    }
   ],
   "source": [
    "price = browser.find_element_by_xpath('//strong[@aria-label=\"Cena\"]').text\n",
    "highlights = browser.find_element_by_xpath('//header/h1').text\n",
    "address = browser.find_element_by_xpath('//a[@aria-label=\"Adres\"]').text"
   ]
  },
  {
   "cell_type": "code",
   "execution_count": null,
   "id": "b2abf21f",
   "metadata": {},
   "outputs": [],
   "source": [
    "area = browser.find_element_by_xpath('//div[@aria-label=\"Powierzchnia\"]').text\n",
    "num_rooms = browser.find_element_by_xpath('//div[@aria-label=\"Liczba pokoi\"]').text\n",
    "floor = browser.find_element_by_xpath('//div[@aria-label=\"Piętro\"]').text\n",
    "rent = browser.find_element_by_xpath('//div[@aria-label=\"Czynsz\"]').text\n",
    "online_property_inspection = browser.find_element_by_xpath('//div[@aria-label=\"Obsługa zdalna\"]').text\n",
    "ownership_status = browser.find_element_by_xpath('//div[@aria-label=\"Forma własności\"]').text\n",
    "flat_condition = browser.find_element_by_xpath('//div[@aria-label=\"Stan wykończenia\"]').text\n",
    "perks = browser.find_element_by_xpath('//div[@aria-label=\"Balkon / ogród / taras\"]').text\n",
    "parking = browser.find_element_by_xpath('//div[@aria-label=\"Miejsce parkingowe\"]').text\n",
    "heating = browser.find_element_by_xpath('//div[@aria-label=\"Ogrzewanie\"]').text"
   ]
  },
  {
   "cell_type": "code",
   "execution_count": null,
   "id": "9e87799d",
   "metadata": {},
   "outputs": [],
   "source": [
    "potential_flat_descr_bullets = browser.find_elements_by_xpath('//section/div/div/div/ul[1]/li')\n",
    "\n",
    "if potential_flat_descr_bullets != [] :\n",
    "    flat_description_bullets = [b.text for b in potential_flat_descr_bullets if b.text != '']\n",
    "\n",
    "potential_neighborhood_bullets = browser.find_elements_by_xpath('//section/div/div/div/ul[2]/li')\n",
    "\n",
    "if potential_neighborhood_bullets != [] :\n",
    "    neighborhood_bullets = [b.text for b in potential_neighborhood_bullets if b.text != '']"
   ]
  },
  {
   "cell_type": "code",
   "execution_count": null,
   "id": "9a97d18c",
   "metadata": {},
   "outputs": [],
   "source": [
    "neighborhood_long_descr = ' '.join(\\\n",
    "                                   [b.text for b in\\\n",
    "                                    browser.find_elements_by_xpath('//section/div/div/div/p')]\\\n",
    "                                  ).strip()"
   ]
  },
  {
   "cell_type": "code",
   "execution_count": null,
   "id": "24f808bb",
   "metadata": {},
   "outputs": [],
   "source": [
    "neighborhood_long_descr"
   ]
  },
  {
   "cell_type": "code",
   "execution_count": null,
   "id": "4c8906fc",
   "metadata": {},
   "outputs": [],
   "source": []
  }
 ],
 "metadata": {
  "hide_input": false,
  "kernelspec": {
   "display_name": "Python 3",
   "language": "python",
   "name": "python3"
  },
  "language_info": {
   "codemirror_mode": {
    "name": "ipython",
    "version": 3
   },
   "file_extension": ".py",
   "mimetype": "text/x-python",
   "name": "python",
   "nbconvert_exporter": "python",
   "pygments_lexer": "ipython3",
   "version": "3.6.9"
  }
 },
 "nbformat": 4,
 "nbformat_minor": 5
}
