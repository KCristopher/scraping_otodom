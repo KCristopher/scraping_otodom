{
 "cells": [
  {
   "cell_type": "code",
   "execution_count": 43,
   "id": "176cdf60",
   "metadata": {},
   "outputs": [],
   "source": [
    "import selenium\n",
    "from selenium.webdriver import Firefox\n",
    "import time\n",
    "from selenium import webdriver\n",
    "from webdriver_manager.firefox import GeckoDriverManager"
   ]
  },
  {
   "cell_type": "code",
   "execution_count": 44,
   "id": "45e17426",
   "metadata": {},
   "outputs": [
    {
     "name": "stdout",
     "output_type": "stream",
     "text": [
      "\n"
     ]
    },
    {
     "name": "stderr",
     "output_type": "stream",
     "text": [
      "[WDM] - ====== WebDriver manager ======\n",
      "[WDM] - Current firefox version is 104.0\n",
      "[WDM] - Get LATEST geckodriver version for 104.0 firefox\n",
      "[WDM] - Driver [/home/krzysiek/.wdm/drivers/geckodriver/linux32/v0.33.0/geckodriver] found in cache\n"
     ]
    }
   ],
   "source": [
    "browser = webdriver.Firefox(executable_path=GeckoDriverManager().install())"
   ]
  },
  {
   "cell_type": "code",
   "execution_count": 45,
   "id": "1997c730",
   "metadata": {},
   "outputs": [],
   "source": [
    "browser.get('https://www.otodom.pl/')"
   ]
  },
  {
   "cell_type": "markdown",
   "id": "6086a83b",
   "metadata": {},
   "source": [
    "Baner z info o plikach cookie może zasłaniać elementy strony z interesującymi nas danymi, więc trzeba go zamknąć."
   ]
  },
  {
   "cell_type": "code",
   "execution_count": 46,
   "id": "493bde50",
   "metadata": {},
   "outputs": [],
   "source": [
    "time.sleep(1.5)"
   ]
  },
  {
   "cell_type": "code",
   "execution_count": 47,
   "id": "9907751c",
   "metadata": {},
   "outputs": [],
   "source": [
    "button = browser.find_element_by_id(\"onetrust-accept-btn-handler\")"
   ]
  },
  {
   "cell_type": "code",
   "execution_count": 48,
   "id": "96b3c122",
   "metadata": {},
   "outputs": [],
   "source": [
    "button.click()"
   ]
  },
  {
   "cell_type": "markdown",
   "id": "898acb24",
   "metadata": {},
   "source": [
    "Aby ustawić \"geograficzne\" filtry wyszukiwania musimy aktywować okno lokalizacji."
   ]
  },
  {
   "cell_type": "code",
   "execution_count": 49,
   "id": "ff2b91fc",
   "metadata": {},
   "outputs": [],
   "source": [
    "location_field = browser.find_element_by_xpath('//button[@id=\"location\"]')"
   ]
  },
  {
   "cell_type": "code",
   "execution_count": 50,
   "id": "9f6ede65",
   "metadata": {},
   "outputs": [],
   "source": [
    "time.sleep(1.5)"
   ]
  },
  {
   "cell_type": "code",
   "execution_count": 51,
   "id": "675433d1",
   "metadata": {},
   "outputs": [],
   "source": [
    "location_field.click()"
   ]
  },
  {
   "cell_type": "markdown",
   "id": "71213f5b",
   "metadata": {},
   "source": [
    "Wtedy możemy wyszukać konkretną lokalizację. Bez wcześniejszego kroku to by nie zadziałało."
   ]
  },
  {
   "cell_type": "code",
   "execution_count": 52,
   "id": "791e12ed",
   "metadata": {},
   "outputs": [],
   "source": [
    "low_silesia = browser.find_element_by_xpath('//label[@for=\"location-checkbox-dolnoslaskie\"]')"
   ]
  },
  {
   "cell_type": "code",
   "execution_count": 53,
   "id": "df9a9767",
   "metadata": {},
   "outputs": [],
   "source": [
    "time.sleep(1.5)"
   ]
  },
  {
   "cell_type": "code",
   "execution_count": 54,
   "id": "36d144fd",
   "metadata": {},
   "outputs": [],
   "source": [
    "low_silesia.click()"
   ]
  },
  {
   "cell_type": "code",
   "execution_count": 55,
   "id": "82ebc0f2",
   "metadata": {},
   "outputs": [],
   "source": [
    "results = browser.find_element_by_id(\"search-form-submit\")"
   ]
  },
  {
   "cell_type": "code",
   "execution_count": 56,
   "id": "12a8bdeb",
   "metadata": {},
   "outputs": [],
   "source": [
    "time.sleep(1.5)"
   ]
  },
  {
   "cell_type": "code",
   "execution_count": 57,
   "id": "8ee99cf0",
   "metadata": {},
   "outputs": [],
   "source": [
    "results.click()"
   ]
  },
  {
   "cell_type": "code",
   "execution_count": 58,
   "id": "e62cda15",
   "metadata": {},
   "outputs": [],
   "source": [
    "time.sleep(1.5)"
   ]
  },
  {
   "cell_type": "code",
   "execution_count": 59,
   "id": "90f8d511",
   "metadata": {},
   "outputs": [],
   "source": [
    "flats = browser.find_elements_by_xpath('//article/div/span')"
   ]
  },
  {
   "cell_type": "code",
   "execution_count": 60,
   "id": "f66f72a0",
   "metadata": {},
   "outputs": [],
   "source": [
    "time.sleep(1.5)"
   ]
  },
  {
   "cell_type": "code",
   "execution_count": 61,
   "id": "4fe814ed",
   "metadata": {},
   "outputs": [
    {
     "data": {
      "text/plain": [
       "195"
      ]
     },
     "execution_count": 61,
     "metadata": {},
     "output_type": "execute_result"
    }
   ],
   "source": [
    "len(flats)"
   ]
  },
  {
   "cell_type": "code",
   "execution_count": 42,
   "id": "977c8063",
   "metadata": {},
   "outputs": [
    {
     "data": {
      "text/plain": [
       "{'price': '399 000 zł',\n",
       " 'highlights': 'Mieszkanie w Centrum Miasta-Specjalna Oferta',\n",
       " 'address': 'ul. Grodzka, Legnica, dolnośląskie',\n",
       " 'area': 'Powierzchnia\\n45,39 m²',\n",
       " 'num_rooms': 'Liczba pokoi\\n2',\n",
       " 'floor': 'Piętro\\n1/4',\n",
       " 'rent': 'Czynsz\\nZapytaj',\n",
       " 'online_property_inspection': 'Obsługa zdalna\\nZapytaj',\n",
       " 'ownership_status': 'Forma własności\\npełna własność',\n",
       " 'flat_condition': 'Stan wykończenia\\ndo wykończenia',\n",
       " 'perks': 'Balkon / ogród / taras\\nZapytaj',\n",
       " 'parking': 'Miejsce parkingowe\\nZapytaj',\n",
       " 'heating': 'Ogrzewanie\\nZapytaj',\n",
       " 'potential_flat_descr_bullets': [<selenium.webdriver.firefox.webelement.FirefoxWebElement (session=\"923736a3-b4c1-4fac-b932-1789c3ff5617\", element=\"3089dbec-ffc2-485d-8570-48472d716275\")>,\n",
       "  <selenium.webdriver.firefox.webelement.FirefoxWebElement (session=\"923736a3-b4c1-4fac-b932-1789c3ff5617\", element=\"54b5bd98-fd15-4d6a-891d-50fdf17eee73\")>,\n",
       "  <selenium.webdriver.firefox.webelement.FirefoxWebElement (session=\"923736a3-b4c1-4fac-b932-1789c3ff5617\", element=\"cf2fa9ac-c6f7-4852-8f86-90932e930fe2\")>,\n",
       "  <selenium.webdriver.firefox.webelement.FirefoxWebElement (session=\"923736a3-b4c1-4fac-b932-1789c3ff5617\", element=\"a6c81344-7cb7-4321-9ffb-7b8fd56ab841\")>,\n",
       "  <selenium.webdriver.firefox.webelement.FirefoxWebElement (session=\"923736a3-b4c1-4fac-b932-1789c3ff5617\", element=\"c57df515-76f1-415a-8224-8b4b0a951a9b\")>,\n",
       "  <selenium.webdriver.firefox.webelement.FirefoxWebElement (session=\"923736a3-b4c1-4fac-b932-1789c3ff5617\", element=\"de643593-5f5c-4fa5-8c0d-804ceaa3297c\")>,\n",
       "  <selenium.webdriver.firefox.webelement.FirefoxWebElement (session=\"923736a3-b4c1-4fac-b932-1789c3ff5617\", element=\"cc24e5fa-6c76-475c-988c-d0486e5e9701\")>,\n",
       "  <selenium.webdriver.firefox.webelement.FirefoxWebElement (session=\"923736a3-b4c1-4fac-b932-1789c3ff5617\", element=\"1deeb556-3981-40ee-878a-56bb6e00c96f\")>,\n",
       "  <selenium.webdriver.firefox.webelement.FirefoxWebElement (session=\"923736a3-b4c1-4fac-b932-1789c3ff5617\", element=\"53608a9a-60d8-40cc-8454-333c9c781bd3\")>,\n",
       "  <selenium.webdriver.firefox.webelement.FirefoxWebElement (session=\"923736a3-b4c1-4fac-b932-1789c3ff5617\", element=\"562fdafd-eef7-4e79-bf9d-55c9b90d3ec0\")>,\n",
       "  <selenium.webdriver.firefox.webelement.FirefoxWebElement (session=\"923736a3-b4c1-4fac-b932-1789c3ff5617\", element=\"de00ec40-8f56-4cc5-8651-cbaab70d91ce\")>,\n",
       "  <selenium.webdriver.firefox.webelement.FirefoxWebElement (session=\"923736a3-b4c1-4fac-b932-1789c3ff5617\", element=\"88c7a2d7-a73f-4448-9db6-95b5265cde1e\")>,\n",
       "  <selenium.webdriver.firefox.webelement.FirefoxWebElement (session=\"923736a3-b4c1-4fac-b932-1789c3ff5617\", element=\"136989a5-b7de-491a-b9dd-e8678ff8fa77\")>],\n",
       " 'potential_neighborhood_bullets': 'The info was not provided'}"
      ]
     },
     "execution_count": 42,
     "metadata": {},
     "output_type": "execute_result"
    }
   ],
   "source": [
    "data_by_appartm_listing_url"
   ]
  },
  {
   "cell_type": "code",
   "execution_count": 41,
   "id": "d5f3600e",
   "metadata": {},
   "outputs": [
    {
     "name": "stdout",
     "output_type": "stream",
     "text": [
      "The length of refreshed_flats is 195\n",
      "The info was not provided\n",
      "The length of refreshed_flats is 195\n",
      "The info was not provided\n",
      "The length of refreshed_flats is 195\n",
      "The info was not provided\n",
      "The length of refreshed_flats is 195\n",
      "The info was not provided\n",
      "The length of refreshed_flats is 195\n",
      "The info was not provided\n",
      "The length of refreshed_flats is 195\n",
      "The info was not provided\n",
      "The length of refreshed_flats is 195\n",
      "The info was not provided\n",
      "The length of refreshed_flats is 195\n",
      "The info was not provided\n",
      "The length of refreshed_flats is 195\n",
      "The info was not provided\n",
      "The length of refreshed_flats is 195\n",
      "The info was not provided\n",
      "The length of refreshed_flats is 195\n",
      "The length of refreshed_flats is 195\n",
      "The length of refreshed_flats is 195\n",
      "The length of refreshed_flats is 195\n",
      "The info was not provided\n",
      "The length of refreshed_flats is 195\n",
      "The length of refreshed_flats is 195\n",
      "The info was not provided\n",
      "The length of refreshed_flats is 195\n",
      "The info was not provided\n",
      "The length of refreshed_flats is 195\n",
      "The info was not provided\n",
      "The length of refreshed_flats is 195\n",
      "The info was not provided\n",
      "The length of refreshed_flats is 195\n",
      "The info was not provided\n",
      "The length of refreshed_flats is 195\n",
      "The info was not provided\n",
      "The length of refreshed_flats is 195\n",
      "The info was not provided\n",
      "The length of refreshed_flats is 195\n",
      "The info was not provided\n",
      "The length of refreshed_flats is 195\n",
      "The info was not provided\n",
      "The length of refreshed_flats is 195\n",
      "The info was not provided\n",
      "The length of refreshed_flats is 195\n",
      "The info was not provided\n",
      "The length of refreshed_flats is 195\n",
      "The info was not provided\n",
      "The length of refreshed_flats is 195\n",
      "The info was not provided\n",
      "The length of refreshed_flats is 195\n",
      "The info was not provided\n",
      "The length of refreshed_flats is 195\n",
      "The info was not provided\n",
      "The length of refreshed_flats is 195\n",
      "The info was not provided\n",
      "The length of refreshed_flats is 195\n",
      "The info was not provided\n",
      "The length of refreshed_flats is 195\n",
      "The info was not provided\n",
      "The length of refreshed_flats is 195\n",
      "The info was not provided\n",
      "The length of refreshed_flats is 195\n"
     ]
    },
    {
     "ename": "WebDriverException",
     "evalue": "Message: Failed to decode response from marionette\n",
     "output_type": "error",
     "traceback": [
      "\u001b[0;31m---------------------------------------------------------------------------\u001b[0m",
      "\u001b[0;31mWebDriverException\u001b[0m                        Traceback (most recent call last)",
      "\u001b[0;32m<ipython-input-41-ad6b774ef05d>\u001b[0m in \u001b[0;36m<module>\u001b[0;34m()\u001b[0m\n\u001b[1;32m     10\u001b[0m     \u001b[0mbrowser\u001b[0m\u001b[0;34m.\u001b[0m\u001b[0mmaximize_window\u001b[0m\u001b[0;34m(\u001b[0m\u001b[0;34m)\u001b[0m\u001b[0;34m\u001b[0m\u001b[0;34m\u001b[0m\u001b[0m\n\u001b[1;32m     11\u001b[0m     \u001b[0mtime\u001b[0m\u001b[0;34m.\u001b[0m\u001b[0msleep\u001b[0m\u001b[0;34m(\u001b[0m\u001b[0;36m1.5\u001b[0m\u001b[0;34m)\u001b[0m\u001b[0;34m\u001b[0m\u001b[0;34m\u001b[0m\u001b[0m\n\u001b[0;32m---> 12\u001b[0;31m     \u001b[0mprice\u001b[0m \u001b[0;34m=\u001b[0m \u001b[0mbrowser\u001b[0m\u001b[0;34m.\u001b[0m\u001b[0mfind_element_by_xpath\u001b[0m\u001b[0;34m(\u001b[0m\u001b[0;34m'//strong[@aria-label=\"Cena\"]'\u001b[0m\u001b[0;34m)\u001b[0m\u001b[0;34m.\u001b[0m\u001b[0mtext\u001b[0m\u001b[0;34m\u001b[0m\u001b[0;34m\u001b[0m\u001b[0m\n\u001b[0m\u001b[1;32m     13\u001b[0m     \u001b[0mhighlights\u001b[0m \u001b[0;34m=\u001b[0m \u001b[0mbrowser\u001b[0m\u001b[0;34m.\u001b[0m\u001b[0mfind_element_by_xpath\u001b[0m\u001b[0;34m(\u001b[0m\u001b[0;34m'//header/h1'\u001b[0m\u001b[0;34m)\u001b[0m\u001b[0;34m.\u001b[0m\u001b[0mtext\u001b[0m\u001b[0;34m\u001b[0m\u001b[0;34m\u001b[0m\u001b[0m\n\u001b[1;32m     14\u001b[0m     \u001b[0maddress\u001b[0m \u001b[0;34m=\u001b[0m \u001b[0mbrowser\u001b[0m\u001b[0;34m.\u001b[0m\u001b[0mfind_element_by_xpath\u001b[0m\u001b[0;34m(\u001b[0m\u001b[0;34m'//a[@aria-label=\"Adres\"]'\u001b[0m\u001b[0;34m)\u001b[0m\u001b[0;34m.\u001b[0m\u001b[0mtext\u001b[0m\u001b[0;34m\u001b[0m\u001b[0;34m\u001b[0m\u001b[0m\n",
      "\u001b[0;32m~/.local/lib/python3.6/site-packages/selenium/webdriver/remote/webdriver.py\u001b[0m in \u001b[0;36mfind_element_by_xpath\u001b[0;34m(self, xpath)\u001b[0m\n\u001b[1;32m    392\u001b[0m             \u001b[0melement\u001b[0m \u001b[0;34m=\u001b[0m \u001b[0mdriver\u001b[0m\u001b[0;34m.\u001b[0m\u001b[0mfind_element_by_xpath\u001b[0m\u001b[0;34m(\u001b[0m\u001b[0;34m'//div/td[1]'\u001b[0m\u001b[0;34m)\u001b[0m\u001b[0;34m\u001b[0m\u001b[0;34m\u001b[0m\u001b[0m\n\u001b[1;32m    393\u001b[0m         \"\"\"\n\u001b[0;32m--> 394\u001b[0;31m         \u001b[0;32mreturn\u001b[0m \u001b[0mself\u001b[0m\u001b[0;34m.\u001b[0m\u001b[0mfind_element\u001b[0m\u001b[0;34m(\u001b[0m\u001b[0mby\u001b[0m\u001b[0;34m=\u001b[0m\u001b[0mBy\u001b[0m\u001b[0;34m.\u001b[0m\u001b[0mXPATH\u001b[0m\u001b[0;34m,\u001b[0m \u001b[0mvalue\u001b[0m\u001b[0;34m=\u001b[0m\u001b[0mxpath\u001b[0m\u001b[0;34m)\u001b[0m\u001b[0;34m\u001b[0m\u001b[0;34m\u001b[0m\u001b[0m\n\u001b[0m\u001b[1;32m    395\u001b[0m \u001b[0;34m\u001b[0m\u001b[0m\n\u001b[1;32m    396\u001b[0m     \u001b[0;32mdef\u001b[0m \u001b[0mfind_elements_by_xpath\u001b[0m\u001b[0;34m(\u001b[0m\u001b[0mself\u001b[0m\u001b[0;34m,\u001b[0m \u001b[0mxpath\u001b[0m\u001b[0;34m)\u001b[0m\u001b[0;34m:\u001b[0m\u001b[0;34m\u001b[0m\u001b[0;34m\u001b[0m\u001b[0m\n",
      "\u001b[0;32m~/.local/lib/python3.6/site-packages/selenium/webdriver/remote/webdriver.py\u001b[0m in \u001b[0;36mfind_element\u001b[0;34m(self, by, value)\u001b[0m\n\u001b[1;32m    976\u001b[0m         return self.execute(Command.FIND_ELEMENT, {\n\u001b[1;32m    977\u001b[0m             \u001b[0;34m'using'\u001b[0m\u001b[0;34m:\u001b[0m \u001b[0mby\u001b[0m\u001b[0;34m,\u001b[0m\u001b[0;34m\u001b[0m\u001b[0;34m\u001b[0m\u001b[0m\n\u001b[0;32m--> 978\u001b[0;31m             'value': value})['value']\n\u001b[0m\u001b[1;32m    979\u001b[0m \u001b[0;34m\u001b[0m\u001b[0m\n\u001b[1;32m    980\u001b[0m     \u001b[0;32mdef\u001b[0m \u001b[0mfind_elements\u001b[0m\u001b[0;34m(\u001b[0m\u001b[0mself\u001b[0m\u001b[0;34m,\u001b[0m \u001b[0mby\u001b[0m\u001b[0;34m=\u001b[0m\u001b[0mBy\u001b[0m\u001b[0;34m.\u001b[0m\u001b[0mID\u001b[0m\u001b[0;34m,\u001b[0m \u001b[0mvalue\u001b[0m\u001b[0;34m=\u001b[0m\u001b[0;32mNone\u001b[0m\u001b[0;34m)\u001b[0m\u001b[0;34m:\u001b[0m\u001b[0;34m\u001b[0m\u001b[0;34m\u001b[0m\u001b[0m\n",
      "\u001b[0;32m~/.local/lib/python3.6/site-packages/selenium/webdriver/remote/webdriver.py\u001b[0m in \u001b[0;36mexecute\u001b[0;34m(self, driver_command, params)\u001b[0m\n\u001b[1;32m    319\u001b[0m         \u001b[0mresponse\u001b[0m \u001b[0;34m=\u001b[0m \u001b[0mself\u001b[0m\u001b[0;34m.\u001b[0m\u001b[0mcommand_executor\u001b[0m\u001b[0;34m.\u001b[0m\u001b[0mexecute\u001b[0m\u001b[0;34m(\u001b[0m\u001b[0mdriver_command\u001b[0m\u001b[0;34m,\u001b[0m \u001b[0mparams\u001b[0m\u001b[0;34m)\u001b[0m\u001b[0;34m\u001b[0m\u001b[0;34m\u001b[0m\u001b[0m\n\u001b[1;32m    320\u001b[0m         \u001b[0;32mif\u001b[0m \u001b[0mresponse\u001b[0m\u001b[0;34m:\u001b[0m\u001b[0;34m\u001b[0m\u001b[0;34m\u001b[0m\u001b[0m\n\u001b[0;32m--> 321\u001b[0;31m             \u001b[0mself\u001b[0m\u001b[0;34m.\u001b[0m\u001b[0merror_handler\u001b[0m\u001b[0;34m.\u001b[0m\u001b[0mcheck_response\u001b[0m\u001b[0;34m(\u001b[0m\u001b[0mresponse\u001b[0m\u001b[0;34m)\u001b[0m\u001b[0;34m\u001b[0m\u001b[0;34m\u001b[0m\u001b[0m\n\u001b[0m\u001b[1;32m    322\u001b[0m             response['value'] = self._unwrap_value(\n\u001b[1;32m    323\u001b[0m                 response.get('value', None))\n",
      "\u001b[0;32m~/.local/lib/python3.6/site-packages/selenium/webdriver/remote/errorhandler.py\u001b[0m in \u001b[0;36mcheck_response\u001b[0;34m(self, response)\u001b[0m\n\u001b[1;32m    240\u001b[0m                 \u001b[0malert_text\u001b[0m \u001b[0;34m=\u001b[0m \u001b[0mvalue\u001b[0m\u001b[0;34m[\u001b[0m\u001b[0;34m'alert'\u001b[0m\u001b[0;34m]\u001b[0m\u001b[0;34m.\u001b[0m\u001b[0mget\u001b[0m\u001b[0;34m(\u001b[0m\u001b[0;34m'text'\u001b[0m\u001b[0;34m)\u001b[0m\u001b[0;34m\u001b[0m\u001b[0;34m\u001b[0m\u001b[0m\n\u001b[1;32m    241\u001b[0m             \u001b[0;32mraise\u001b[0m \u001b[0mexception_class\u001b[0m\u001b[0;34m(\u001b[0m\u001b[0mmessage\u001b[0m\u001b[0;34m,\u001b[0m \u001b[0mscreen\u001b[0m\u001b[0;34m,\u001b[0m \u001b[0mstacktrace\u001b[0m\u001b[0;34m,\u001b[0m \u001b[0malert_text\u001b[0m\u001b[0;34m)\u001b[0m\u001b[0;34m\u001b[0m\u001b[0;34m\u001b[0m\u001b[0m\n\u001b[0;32m--> 242\u001b[0;31m         \u001b[0;32mraise\u001b[0m \u001b[0mexception_class\u001b[0m\u001b[0;34m(\u001b[0m\u001b[0mmessage\u001b[0m\u001b[0;34m,\u001b[0m \u001b[0mscreen\u001b[0m\u001b[0;34m,\u001b[0m \u001b[0mstacktrace\u001b[0m\u001b[0;34m)\u001b[0m\u001b[0;34m\u001b[0m\u001b[0;34m\u001b[0m\u001b[0m\n\u001b[0m\u001b[1;32m    243\u001b[0m \u001b[0;34m\u001b[0m\u001b[0m\n\u001b[1;32m    244\u001b[0m     \u001b[0;32mdef\u001b[0m \u001b[0m_value_or_default\u001b[0m\u001b[0;34m(\u001b[0m\u001b[0mself\u001b[0m\u001b[0;34m,\u001b[0m \u001b[0mobj\u001b[0m\u001b[0;34m,\u001b[0m \u001b[0mkey\u001b[0m\u001b[0;34m,\u001b[0m \u001b[0mdefault\u001b[0m\u001b[0;34m)\u001b[0m\u001b[0;34m:\u001b[0m\u001b[0;34m\u001b[0m\u001b[0;34m\u001b[0m\u001b[0m\n",
      "\u001b[0;31mWebDriverException\u001b[0m: Message: Failed to decode response from marionette\n"
     ]
    }
   ],
   "source": [
    "data_by_appartm_listing_url = {}\n",
    "\n",
    "for i, f in enumerate(flats) :\n",
    "    \n",
    "    appartment_data = {}\n",
    "    \n",
    "    time.sleep(2.5)\n",
    "    refreshed_flats = browser.find_elements_by_xpath('//article/div/span')\n",
    "    time.sleep(2.5)\n",
    "    print('The length of refreshed_flats is {}'.format(len(refreshed_flats)))\n",
    "    refreshed_flats[i].click()\n",
    "    time.sleep(2.5)\n",
    "    browser.maximize_window()\n",
    "    time.sleep(1.5)\n",
    "    price = browser.find_element_by_xpath('//strong[@aria-label=\"Cena\"]').text\n",
    "    highlights = browser.find_element_by_xpath('//header/h1').text\n",
    "    address = browser.find_element_by_xpath('//a[@aria-label=\"Adres\"]').text\n",
    "    area = browser.find_element_by_xpath('//div[@aria-label=\"Powierzchnia\"]').text\n",
    "    num_rooms = browser.find_element_by_xpath('//div[@aria-label=\"Liczba pokoi\"]').text\n",
    "    floor = browser.find_element_by_xpath('//div[@aria-label=\"Piętro\"]').text\n",
    "    rent = browser.find_element_by_xpath('//div[@aria-label=\"Czynsz\"]').text\n",
    "    online_property_inspection = browser.find_element_by_xpath('//div[@aria-label=\"Obsługa zdalna\"]').text\n",
    "    ownership_status = browser.find_element_by_xpath('//div[@aria-label=\"Forma własności\"]').text\n",
    "    flat_condition = browser.find_element_by_xpath('//div[@aria-label=\"Stan wykończenia\"]').text\n",
    "    perks = browser.find_element_by_xpath('//div[@aria-label=\"Balkon / ogród / taras\"]').text\n",
    "    parking = browser.find_element_by_xpath('//div[@aria-label=\"Miejsce parkingowe\"]').text\n",
    "    heating = browser.find_element_by_xpath('//div[@aria-label=\"Ogrzewanie\"]').text\n",
    "    potential_flat_descr_bullets = browser.find_elements_by_xpath('//section/div/div/div/ul[1]/li')\n",
    "    \n",
    "    if potential_flat_descr_bullets != [] :\n",
    "        flat_description_bullets = [b.text for b in potential_flat_descr_bullets if b.text != '']\n",
    "    else :\n",
    "        del potential_flat_descr_bullets\n",
    "\n",
    "    potential_neighborhood_bullets = browser.find_elements_by_xpath('//section/div/div/div/ul[2]/li')\n",
    "\n",
    "    if potential_neighborhood_bullets != [] :\n",
    "        neighborhood_bullets = [b.text for b in potential_neighborhood_bullets if b.text != '']\n",
    "    else :\n",
    "        del potential_neighborhood_bullets\n",
    "    \n",
    "    pieces_info = [\n",
    "        'price',\n",
    "        'highlights',\n",
    "        'address',\n",
    "        'area',\n",
    "        'num_rooms',\n",
    "        'floor',\n",
    "        'rent',\n",
    "        'online_property_inspection',\n",
    "        'ownership_status',\n",
    "        'flat_condition',\n",
    "        'perks',\n",
    "        'parking',\n",
    "        'heating',\n",
    "        'flat_description_bullets',\n",
    "        'neighborhood_bullets',\n",
    "    ]\n",
    "    \n",
    "    for p in pieces_info :\n",
    "        try :\n",
    "            appartment_data[p] = eval(p)\n",
    "        except NameError :\n",
    "            notification = 'The info was not provided'\n",
    "            print(notification)\n",
    "            appartment_data[p] = notification\n",
    "    \n",
    "    url = browser.current_url\n",
    "    time.sleep(1)\n",
    "    data_by_appartm_listing_url[url] = appartment_data\n",
    "    \n",
    "    browser.back()\n",
    "    time.sleep(2.5)\n",
    "    "
   ]
  },
  {
   "cell_type": "code",
   "execution_count": null,
   "id": "e2464a9b",
   "metadata": {},
   "outputs": [],
   "source": [
    "price = browser.find_element_by_xpath('//strong[@aria-label=\"Cena\"]').text\n",
    "highlights = browser.find_element_by_xpath('//header/h1').text\n",
    "address = browser.find_element_by_xpath('//a[@aria-label=\"Adres\"]').text"
   ]
  },
  {
   "cell_type": "code",
   "execution_count": 17,
   "id": "b2abf21f",
   "metadata": {},
   "outputs": [],
   "source": [
    "area = browser.find_element_by_xpath('//div[@aria-label=\"Powierzchnia\"]').text\n",
    "num_rooms = browser.find_element_by_xpath('//div[@aria-label=\"Liczba pokoi\"]').text\n",
    "floor = browser.find_element_by_xpath('//div[@aria-label=\"Piętro\"]').text\n",
    "rent = browser.find_element_by_xpath('//div[@aria-label=\"Czynsz\"]').text\n",
    "online_property_inspection = browser.find_element_by_xpath('//div[@aria-label=\"Obsługa zdalna\"]').text\n",
    "ownership_status = browser.find_element_by_xpath('//div[@aria-label=\"Forma własności\"]').text\n",
    "flat_condition = browser.find_element_by_xpath('//div[@aria-label=\"Stan wykończenia\"]').text\n",
    "perks = browser.find_element_by_xpath('//div[@aria-label=\"Balkon / ogród / taras\"]').text\n",
    "parking = browser.find_element_by_xpath('//div[@aria-label=\"Miejsce parkingowe\"]').text\n",
    "heating = browser.find_element_by_xpath('//div[@aria-label=\"Ogrzewanie\"]').text"
   ]
  },
  {
   "cell_type": "code",
   "execution_count": 18,
   "id": "9e87799d",
   "metadata": {},
   "outputs": [],
   "source": [
    "potential_flat_descr_bullets = browser.find_elements_by_xpath('//section/div/div/div/ul[1]/li')\n",
    "\n",
    "if potential_flat_descr_bullets != [] :\n",
    "    flat_description_bullets = [b.text for b in potential_flat_descr_bullets if b.text != '']\n",
    "\n",
    "potential_neighborhood_bullets = browser.find_elements_by_xpath('//section/div/div/div/ul[2]/li')\n",
    "\n",
    "if potential_neighborhood_bullets != [] :\n",
    "    neighborhood_bullets = [b.text for b in potential_neighborhood_bullets if b.text != '']"
   ]
  },
  {
   "cell_type": "code",
   "execution_count": 19,
   "id": "9a97d18c",
   "metadata": {},
   "outputs": [],
   "source": [
    "neighborhood_long_descr = ' '.join(\\\n",
    "                                   [b.text for b in\\\n",
    "                                    browser.find_elements_by_xpath('//section/div/div/div/p')]\\\n",
    "                                  ).strip()"
   ]
  },
  {
   "cell_type": "code",
   "execution_count": 20,
   "id": "24f808bb",
   "metadata": {},
   "outputs": [
    {
     "data": {
      "text/plain": [
       "'Sprzedam mieszkanie w stanie deweloperskim na osiedlu Browary Wrocławskie  przy ulicy Jedności Narodowej, w  budynku oddanym do użytku w 2021 r. Nieruchomość jest położona na 5. piętrze budynku pięciopiętrowego, z ekspozycją okien na północny wschód i wschód południowy, co przy upalnych latach jest wielkim atutem. Mieszkanie o powierzchni 75,48 m2 i wysokości 270 cm składa się salonu o pow. 17,2 m2 z salonu z wyjściem na balkon o powierzchni 4,75 m2 , wydzielonej kuchni  o powierzchni 8,27 m3 z oknem, z sypialni z miejscem na dużą szafę wnękową , dwóch mniejszych pokoi , łazienki, WC, pomieszczenia gospodarczego( pralni) i holu z miejscami na 5 szaf wnękowych.. Do lokalu przynależy komórka lokatorska o powierzchni 5,25 m2 położona  na tej samej kondygnacji.'"
      ]
     },
     "execution_count": 20,
     "metadata": {},
     "output_type": "execute_result"
    }
   ],
   "source": [
    "neighborhood_long_descr"
   ]
  },
  {
   "cell_type": "code",
   "execution_count": null,
   "id": "4c8906fc",
   "metadata": {},
   "outputs": [],
   "source": []
  }
 ],
 "metadata": {
  "hide_input": false,
  "kernelspec": {
   "display_name": "Python 3",
   "language": "python",
   "name": "python3"
  },
  "language_info": {
   "codemirror_mode": {
    "name": "ipython",
    "version": 3
   },
   "file_extension": ".py",
   "mimetype": "text/x-python",
   "name": "python",
   "nbconvert_exporter": "python",
   "pygments_lexer": "ipython3",
   "version": "3.6.9"
  }
 },
 "nbformat": 4,
 "nbformat_minor": 5
}
