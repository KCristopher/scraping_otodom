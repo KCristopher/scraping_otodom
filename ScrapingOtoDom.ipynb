{
 "cells": [
  {
   "cell_type": "code",
   "execution_count": 88,
   "id": "176cdf60",
   "metadata": {},
   "outputs": [],
   "source": [
    "import selenium\n",
    "from selenium.webdriver import Firefox\n",
    "import time\n",
    "from selenium import webdriver\n",
    "from webdriver_manager.firefox import GeckoDriverManager\n",
    "import pandas as pd"
   ]
  },
  {
   "cell_type": "code",
   "execution_count": 65,
   "id": "45e17426",
   "metadata": {},
   "outputs": [
    {
     "name": "stdout",
     "output_type": "stream",
     "text": [
      "\n"
     ]
    },
    {
     "name": "stderr",
     "output_type": "stream",
     "text": [
      "[WDM] - ====== WebDriver manager ======\n",
      "[WDM] - Current firefox version is 104.0\n",
      "[WDM] - Get LATEST geckodriver version for 104.0 firefox\n",
      "[WDM] - Driver [/home/krzysiek/.wdm/drivers/geckodriver/linux32/v0.33.0/geckodriver] found in cache\n"
     ]
    }
   ],
   "source": [
    "browser = webdriver.Firefox(executable_path=GeckoDriverManager().install())"
   ]
  },
  {
   "cell_type": "code",
   "execution_count": 66,
   "id": "1997c730",
   "metadata": {},
   "outputs": [],
   "source": [
    "browser.get('https://www.otodom.pl/')"
   ]
  },
  {
   "cell_type": "markdown",
   "id": "6086a83b",
   "metadata": {},
   "source": [
    "Baner z info o plikach cookie może zasłaniać elementy strony z interesującymi nas danymi, więc trzeba go zamknąć."
   ]
  },
  {
   "cell_type": "code",
   "execution_count": 67,
   "id": "493bde50",
   "metadata": {},
   "outputs": [],
   "source": [
    "time.sleep(1.5)"
   ]
  },
  {
   "cell_type": "code",
   "execution_count": 68,
   "id": "9907751c",
   "metadata": {},
   "outputs": [],
   "source": [
    "button = browser.find_element_by_id(\"onetrust-accept-btn-handler\")"
   ]
  },
  {
   "cell_type": "code",
   "execution_count": 69,
   "id": "96b3c122",
   "metadata": {},
   "outputs": [],
   "source": [
    "button.click()"
   ]
  },
  {
   "cell_type": "markdown",
   "id": "898acb24",
   "metadata": {},
   "source": [
    "Aby ustawić \"geograficzne\" filtry wyszukiwania musimy aktywować okno lokalizacji."
   ]
  },
  {
   "cell_type": "code",
   "execution_count": 70,
   "id": "ff2b91fc",
   "metadata": {},
   "outputs": [],
   "source": [
    "location_field = browser.find_element_by_xpath('//button[@id=\"location\"]')"
   ]
  },
  {
   "cell_type": "code",
   "execution_count": 71,
   "id": "9f6ede65",
   "metadata": {},
   "outputs": [],
   "source": [
    "time.sleep(1.5)"
   ]
  },
  {
   "cell_type": "code",
   "execution_count": 72,
   "id": "675433d1",
   "metadata": {},
   "outputs": [],
   "source": [
    "location_field.click()"
   ]
  },
  {
   "cell_type": "markdown",
   "id": "71213f5b",
   "metadata": {},
   "source": [
    "Wtedy możemy wyszukać konkretną lokalizację. Bez wcześniejszego kroku to by nie zadziałało."
   ]
  },
  {
   "cell_type": "code",
   "execution_count": 73,
   "id": "791e12ed",
   "metadata": {},
   "outputs": [],
   "source": [
    "low_silesia = browser.find_element_by_xpath('//label[@for=\"location-checkbox-dolnoslaskie\"]')"
   ]
  },
  {
   "cell_type": "code",
   "execution_count": 74,
   "id": "df9a9767",
   "metadata": {},
   "outputs": [],
   "source": [
    "time.sleep(1.5)"
   ]
  },
  {
   "cell_type": "code",
   "execution_count": 75,
   "id": "36d144fd",
   "metadata": {},
   "outputs": [],
   "source": [
    "low_silesia.click()"
   ]
  },
  {
   "cell_type": "code",
   "execution_count": 76,
   "id": "82ebc0f2",
   "metadata": {},
   "outputs": [],
   "source": [
    "results = browser.find_element_by_id(\"search-form-submit\")"
   ]
  },
  {
   "cell_type": "code",
   "execution_count": 77,
   "id": "12a8bdeb",
   "metadata": {},
   "outputs": [],
   "source": [
    "time.sleep(1.5)"
   ]
  },
  {
   "cell_type": "code",
   "execution_count": 78,
   "id": "8ee99cf0",
   "metadata": {},
   "outputs": [],
   "source": [
    "results.click()"
   ]
  },
  {
   "cell_type": "code",
   "execution_count": 79,
   "id": "e62cda15",
   "metadata": {},
   "outputs": [],
   "source": [
    "time.sleep(1.5)"
   ]
  },
  {
   "cell_type": "code",
   "execution_count": 80,
   "id": "90f8d511",
   "metadata": {},
   "outputs": [],
   "source": [
    "flats = browser.find_elements_by_xpath('//article/div/span')"
   ]
  },
  {
   "cell_type": "code",
   "execution_count": 81,
   "id": "f66f72a0",
   "metadata": {},
   "outputs": [],
   "source": [
    "time.sleep(1.5)"
   ]
  },
  {
   "cell_type": "code",
   "execution_count": 82,
   "id": "4fe814ed",
   "metadata": {},
   "outputs": [
    {
     "data": {
      "text/plain": [
       "195"
      ]
     },
     "execution_count": 82,
     "metadata": {},
     "output_type": "execute_result"
    }
   ],
   "source": [
    "len(flats)"
   ]
  },
  {
   "cell_type": "code",
   "execution_count": 87,
   "id": "48389384",
   "metadata": {},
   "outputs": [
    {
     "name": "stdout",
     "output_type": "stream",
     "text": [
      "{'price': '245 000 zł', 'highlights': 'Świętoszów lokal na mieszkanie', 'address': 'ul. Świerkowa 10a, Świętoszów, Osiecznica, bolesławiecki, dolnośląskie', 'area': 'Powierzchnia\\n230 m²', 'num_rooms': 'Liczba pokoi\\n6', 'floor': 'Piętro\\nparter/1', 'rent': 'Czynsz\\n100 zł', 'online_property_inspection': 'Obsługa zdalna\\ntak', 'ownership_status': 'Forma własności\\npełna własność', 'flat_condition': 'Stan wykończenia\\ndo remontu', 'perks': 'Balkon / ogród / taras\\nogródek', 'parking': 'Miejsce parkingowe\\ngaraż/miejsce parkingowe', 'heating': 'Ogrzewanie\\nelektryczne', 'flat_description_bullets': [], 'neighborhood_bullets': []}\n",
      "{'price': '389 000 zł', 'highlights': 'Mieszkanie 70 m2 Chojnów', 'address': 'ul. Bolesława Chrobrego, Chojnów, legnicki, dolnośląskie', 'area': 'Powierzchnia\\n70 m²', 'num_rooms': 'Liczba pokoi\\n4', 'floor': 'Piętro\\n3/4', 'rent': 'Czynsz\\nZapytaj', 'online_property_inspection': 'Obsługa zdalna\\nZapytaj', 'ownership_status': 'Forma własności\\npełna własność', 'flat_condition': 'Stan wykończenia\\ndo zamieszkania', 'perks': 'Balkon / ogród / taras\\nbalkon', 'parking': 'Miejsce parkingowe\\nZapytaj', 'heating': 'Ogrzewanie\\nmiejskie', 'flat_description_bullets': [], 'neighborhood_bullets': []}\n",
      "{'price': '335 000 zł', 'highlights': 'Mieszkanie na osiedlu Piast', 'address': 'ul. Władysława Hermana, Lubań, lubański, dolnośląskie', 'area': 'Powierzchnia\\n61 m²', 'num_rooms': 'Liczba pokoi\\n3', 'floor': 'Piętro\\n4/4', 'rent': 'Czynsz\\nZapytaj', 'online_property_inspection': 'Obsługa zdalna\\nZapytaj', 'ownership_status': 'Forma własności\\npełna własność', 'flat_condition': 'Stan wykończenia\\ndo zamieszkania', 'perks': 'Balkon / ogród / taras\\nbalkon', 'parking': 'Miejsce parkingowe\\nZapytaj', 'heating': 'Ogrzewanie\\nZapytaj', 'flat_description_bullets': [], 'neighborhood_bullets': []}\n",
      "{'price': '600 000 zł', 'highlights': 'Mieszkanie 3-pok - Bielany Wrocławskie', 'address': 'ul. Konwaliowa, Bielany Wrocławskie, Kobierzyce, wrocławski, dolnośląskie', 'area': 'Powierzchnia\\n48,78 m²', 'num_rooms': 'Liczba pokoi\\n3', 'floor': 'Piętro\\n2/2', 'rent': 'Czynsz\\n450 zł', 'online_property_inspection': 'Obsługa zdalna\\nZapytaj', 'ownership_status': 'Forma własności\\npełna własność', 'flat_condition': 'Stan wykończenia\\ndo zamieszkania', 'perks': 'Balkon / ogród / taras\\nbalkon', 'parking': 'Miejsce parkingowe\\ngaraż/miejsce parkingowe', 'heating': 'Ogrzewanie\\ngazowe', 'flat_description_bullets': [], 'neighborhood_bullets': []}\n",
      "{'price': '474 012 zł', 'highlights': '☀️Słoneczny Nowy Otok☀️6/B1 - Mieszkanie z ogrodem', 'address': 'ul. Wesoła, Oława, oławski, dolnośląskie', 'area': 'Powierzchnia\\n56,43 m²', 'num_rooms': 'Liczba pokoi\\n3', 'floor': 'Piętro\\nparter/1', 'rent': 'Czynsz\\nZapytaj', 'online_property_inspection': 'Obsługa zdalna\\nZapytaj', 'ownership_status': 'Forma własności\\npełna własność', 'flat_condition': 'Stan wykończenia\\ndo wykończenia', 'perks': 'Balkon / ogród / taras\\nogródek, taras', 'parking': 'Miejsce parkingowe\\ngaraż/miejsce parkingowe', 'heating': 'Ogrzewanie\\ninne', 'flat_description_bullets': [], 'neighborhood_bullets': []}\n",
      "{'price': '339 000 zł', 'highlights': 'Bezpośrednio kawalerka wyposażona z sypialnią balk', 'address': 'ul. Boiskowa, Bieńkowice, Krzyki, Wrocław, dolnośląskie', 'area': 'Powierzchnia\\n24,34 m²', 'num_rooms': 'Liczba pokoi\\n1', 'floor': 'Piętro\\n2', 'rent': 'Czynsz\\nZapytaj', 'online_property_inspection': 'Obsługa zdalna\\nZapytaj', 'ownership_status': 'Forma własności\\nZapytaj', 'flat_condition': 'Stan wykończenia\\nZapytaj', 'perks': 'Balkon / ogród / taras\\nZapytaj', 'parking': 'Miejsce parkingowe\\nZapytaj', 'heating': 'Ogrzewanie\\nZapytaj', 'flat_description_bullets': [], 'neighborhood_bullets': []}\n",
      "{'price': '1 599 000 zł', 'highlights': 'Piękny apartament z widokiem na park, ogród, taras', 'address': 'Żerniki, Fabryczna, Wrocław, dolnośląskie', 'area': 'Powierzchnia\\n93,5 m²', 'num_rooms': 'Liczba pokoi\\n3', 'floor': 'Piętro\\n1/3', 'rent': 'Czynsz\\n700 zł', 'online_property_inspection': 'Obsługa zdalna\\ntak', 'ownership_status': 'Forma własności\\nZapytaj', 'flat_condition': 'Stan wykończenia\\nZapytaj', 'perks': 'Balkon / ogród / taras\\nbalkon, ogródek, taras', 'parking': 'Miejsce parkingowe\\nZapytaj', 'heating': 'Ogrzewanie\\ngazowe', 'flat_description_bullets': [], 'neighborhood_bullets': []}\n",
      "{'price': '999 000 zł', 'highlights': 'Inwestycyjne mieszkanie ul. Żelazna ROI 11,3%', 'address': 'Gajowice, Fabryczna, Wrocław, dolnośląskie', 'area': 'Powierzchnia\\n74,66 m²', 'num_rooms': 'Liczba pokoi\\n7', 'floor': 'Piętro\\n2/5', 'rent': 'Czynsz\\nZapytaj', 'online_property_inspection': 'Obsługa zdalna\\nZapytaj', 'ownership_status': 'Forma własności\\npełna własność', 'flat_condition': 'Stan wykończenia\\ndo zamieszkania', 'perks': 'Balkon / ogród / taras\\nbalkon', 'parking': 'Miejsce parkingowe\\nZapytaj', 'heating': 'Ogrzewanie\\nmiejskie', 'flat_description_bullets': [], 'neighborhood_bullets': []}\n",
      "{'price': '445 000 zł', 'highlights': 'Przytulne mieszkanie 2-pokojowe ul. Słowiańska', 'address': 'ul. Słowiańska, Nadodrze, Śródmieście, Wrocław, dolnośląskie', 'area': 'Powierzchnia\\n38,41 m²', 'num_rooms': 'Liczba pokoi\\n2', 'floor': 'Piętro\\n5/6', 'rent': 'Czynsz\\nZapytaj', 'online_property_inspection': 'Obsługa zdalna\\nZapytaj', 'ownership_status': 'Forma własności\\npełna własność', 'flat_condition': 'Stan wykończenia\\ndo zamieszkania', 'perks': 'Balkon / ogród / taras\\nZapytaj', 'parking': 'Miejsce parkingowe\\nZapytaj', 'heating': 'Ogrzewanie\\nelektryczne', 'flat_description_bullets': [], 'neighborhood_bullets': []}\n",
      "{'price': '899 000 zł', 'highlights': 'Mieszkanie 3 p balkon loggia Promenady Wrocławskie', 'address': 'Promenady Wrocławskie, Kleczków, Psie Pole, Wrocław, dolnośląskie', 'area': 'Powierzchnia\\n63,44 m²', 'num_rooms': 'Liczba pokoi\\n3', 'floor': 'Piętro\\n3/5', 'rent': 'Czynsz\\nZapytaj', 'online_property_inspection': 'Obsługa zdalna\\nZapytaj', 'ownership_status': 'Forma własności\\npełna własność', 'flat_condition': 'Stan wykończenia\\ndo zamieszkania', 'perks': 'Balkon / ogród / taras\\nbalkon', 'parking': 'Miejsce parkingowe\\nZapytaj', 'heating': 'Ogrzewanie\\nmiejskie', 'flat_description_bullets': [], 'neighborhood_bullets': []}\n",
      "{'price': '599 900 zł', 'highlights': 'Budynek mieszkalny 7 mieszkan z projektem na 12', 'address': 'Boguszów, Boguszów-Gorce, wałbrzyski, dolnośląskie', 'area': 'Powierzchnia\\n330 m²', 'num_rooms': 'Liczba pokoi\\nwięcej niż 10', 'floor': 'Piętro\\nZapytaj', 'rent': 'Czynsz\\n200 zł', 'online_property_inspection': 'Obsługa zdalna\\nZapytaj', 'ownership_status': 'Forma własności\\nZapytaj', 'flat_condition': 'Stan wykończenia\\ndo remontu', 'perks': 'Balkon / ogród / taras\\nZapytaj', 'parking': 'Miejsce parkingowe\\nZapytaj', 'heating': 'Ogrzewanie\\npiece kaflowe', 'flat_description_bullets': [], 'neighborhood_bullets': []}\n",
      "{'price': '190 000 zł', 'highlights': 'Na sprzedaż mieszkanie w Mrowinach, blisko Żarowa', 'address': 'ul. Wojska Polskiego, Mrowiny, Żarów, świdnicki, dolnośląskie', 'area': 'Powierzchnia\\n45,45 m²', 'num_rooms': 'Liczba pokoi\\n2', 'floor': 'Piętro\\n1', 'rent': 'Czynsz\\n250 zł', 'online_property_inspection': 'Obsługa zdalna\\nZapytaj', 'ownership_status': 'Forma własności\\npełna własność', 'flat_condition': 'Stan wykończenia\\ndo remontu', 'perks': 'Balkon / ogród / taras\\nogródek', 'parking': 'Miejsce parkingowe\\nZapytaj', 'heating': 'Ogrzewanie\\ngazowe', 'flat_description_bullets': [], 'neighborhood_bullets': []}\n",
      "{'price': '640 000 zł', 'highlights': 'Mieszkanie 3 pok. z osobną kuchnią, ul. Popowicka', 'address': 'ul. Popowicka 122, Popowice Północne, Fabryczna, Wrocław, dolnośląskie', 'area': 'Powierzchnia\\n54,1 m²', 'num_rooms': 'Liczba pokoi\\n3', 'floor': 'Piętro\\n3/4', 'rent': 'Czynsz\\n530 zł', 'online_property_inspection': 'Obsługa zdalna\\nZapytaj', 'ownership_status': 'Forma własności\\npełna własność', 'flat_condition': 'Stan wykończenia\\nZapytaj', 'perks': 'Balkon / ogród / taras\\nbalkon', 'parking': 'Miejsce parkingowe\\nZapytaj', 'heating': 'Ogrzewanie\\nmiejskie', 'flat_description_bullets': [], 'neighborhood_bullets': []}\n",
      "{'price': '720 000 zł', 'highlights': '2pok. 50 m, urządzone, 10 min od centrum Wrocław', 'address': 'ul. Chorwacka, Różanka, Psie Pole, Wrocław, dolnośląskie', 'area': 'Powierzchnia\\n50 m²', 'num_rooms': 'Liczba pokoi\\n2', 'floor': 'Piętro\\n1/4', 'rent': 'Czynsz\\n520 zł', 'online_property_inspection': 'Obsługa zdalna\\ntak', 'ownership_status': 'Forma własności\\npełna własność', 'flat_condition': 'Stan wykończenia\\ndo zamieszkania', 'perks': 'Balkon / ogród / taras\\nbalkon, taras', 'parking': 'Miejsce parkingowe\\nZapytaj', 'heating': 'Ogrzewanie\\nmiejskie', 'flat_description_bullets': [], 'neighborhood_bullets': []}\n",
      "{'price': '735 000 zł', 'highlights': '3 pok., 70 m2 Gądów Mały', 'address': 'Gądów, Fabryczna, Wrocław, dolnośląskie', 'area': 'Powierzchnia\\n70,2 m²', 'num_rooms': 'Liczba pokoi\\n3', 'floor': 'Piętro\\n2/10', 'rent': 'Czynsz\\n1 200 zł', 'online_property_inspection': 'Obsługa zdalna\\nZapytaj', 'ownership_status': 'Forma własności\\nspółdzielcze wł. prawo do lokalu', 'flat_condition': 'Stan wykończenia\\ndo zamieszkania', 'perks': 'Balkon / ogród / taras\\nbalkon', 'parking': 'Miejsce parkingowe\\nZapytaj', 'heating': 'Ogrzewanie\\nmiejskie', 'flat_description_bullets': [], 'neighborhood_bullets': []}\n",
      "{'price': '3 205 980 zł', 'highlights': 'Ovo, taras, widok, top wykończenie- spacer 3D', 'address': 'ul. Podwale, Przedmieście Oławskie, Krzyki, Wrocław, dolnośląskie', 'area': 'Powierzchnia\\n118,77 m²', 'num_rooms': 'Liczba pokoi\\n4', 'floor': 'Piętro\\n6/6', 'rent': 'Czynsz\\n1 500 zł', 'online_property_inspection': 'Obsługa zdalna\\nWirtualny spacer', 'ownership_status': 'Forma własności\\npełna własność', 'flat_condition': 'Stan wykończenia\\nZapytaj', 'perks': 'Balkon / ogród / taras\\ntaras', 'parking': 'Miejsce parkingowe\\ngaraż/miejsce parkingowe', 'heating': 'Ogrzewanie\\nmiejskie', 'flat_description_bullets': [], 'neighborhood_bullets': []}\n",
      "{'price': '679 000 zł', 'highlights': '4pok, dwa poziomy 114m² + fotowoltaika w centrum!', 'address': 'ul. Lwowska, Oleśnica, oleśnicki, dolnośląskie', 'area': 'Powierzchnia\\n114 m²', 'num_rooms': 'Liczba pokoi\\n4', 'floor': 'Piętro\\nZapytaj', 'rent': 'Czynsz\\nZapytaj', 'online_property_inspection': 'Obsługa zdalna\\nWirtualny spacer', 'ownership_status': 'Forma własności\\npełna własność', 'flat_condition': 'Stan wykończenia\\ndo zamieszkania', 'perks': 'Balkon / ogród / taras\\nZapytaj', 'parking': 'Miejsce parkingowe\\nZapytaj', 'heating': 'Ogrzewanie\\ngazowe', 'flat_description_bullets': [], 'neighborhood_bullets': []}\n",
      "{'price': '460 000 zł', 'highlights': 'Pilnie 2 pok mieszkanie Wrocław', 'address': 'ul. Rogowska, Nowy Dwór, Fabryczna, Wrocław, dolnośląskie', 'area': 'Powierzchnia\\n50 m²', 'num_rooms': 'Liczba pokoi\\n2', 'floor': 'Piętro\\n3/4', 'rent': 'Czynsz\\nZapytaj', 'online_property_inspection': 'Obsługa zdalna\\nZapytaj', 'ownership_status': 'Forma własności\\npełna własność', 'flat_condition': 'Stan wykończenia\\nZapytaj', 'perks': 'Balkon / ogród / taras\\nbalkon', 'parking': 'Miejsce parkingowe\\ngaraż/miejsce parkingowe', 'heating': 'Ogrzewanie\\nZapytaj', 'flat_description_bullets': [], 'neighborhood_bullets': []}\n"
     ]
    }
   ],
   "source": [
    "for v in data_by_appartm_listing_url.values() :\n",
    "    print(v)"
   ]
  },
  {
   "cell_type": "code",
   "execution_count": 92,
   "id": "63b423c3",
   "metadata": {},
   "outputs": [],
   "source": [
    "time = pd.to_datetime(\"now\").strftime('%Y-%m-%d %X')\n",
    "\n",
    "with open(r'first_18_observations_{}.txt'.format(time),'w+') as f :\n",
    "    f.write(str(data_by_appartm_listing_url))"
   ]
  },
  {
   "cell_type": "code",
   "execution_count": 83,
   "id": "d5f3600e",
   "metadata": {},
   "outputs": [
    {
     "name": "stdout",
     "output_type": "stream",
     "text": [
      "The length of refreshed_flats is 195\n",
      "The length of refreshed_flats is 195\n",
      "The length of refreshed_flats is 195\n",
      "The length of refreshed_flats is 195\n",
      "The length of refreshed_flats is 195\n",
      "The length of refreshed_flats is 195\n",
      "The length of refreshed_flats is 195\n",
      "The length of refreshed_flats is 195\n",
      "The length of refreshed_flats is 195\n",
      "The length of refreshed_flats is 195\n",
      "The length of refreshed_flats is 195\n",
      "The length of refreshed_flats is 195\n",
      "The length of refreshed_flats is 195\n",
      "The length of refreshed_flats is 195\n",
      "The length of refreshed_flats is 195\n",
      "The length of refreshed_flats is 195\n",
      "The length of refreshed_flats is 195\n",
      "The length of refreshed_flats is 195\n",
      "The length of refreshed_flats is 195\n",
      "The length of refreshed_flats is 195\n",
      "The length of refreshed_flats is 195\n",
      "The length of refreshed_flats is 195\n",
      "The length of refreshed_flats is 195\n",
      "The length of refreshed_flats is 195\n",
      "The length of refreshed_flats is 195\n",
      "The length of refreshed_flats is 195\n",
      "The length of refreshed_flats is 195\n",
      "The length of refreshed_flats is 0\n"
     ]
    },
    {
     "ename": "IndexError",
     "evalue": "list index out of range",
     "output_type": "error",
     "traceback": [
      "\u001b[0;31m---------------------------------------------------------------------------\u001b[0m",
      "\u001b[0;31mIndexError\u001b[0m                                Traceback (most recent call last)",
      "\u001b[0;32m<ipython-input-83-ca71fe87c750>\u001b[0m in \u001b[0;36m<module>\u001b[0;34m()\u001b[0m\n\u001b[1;32m      9\u001b[0m     \u001b[0mtime\u001b[0m\u001b[0;34m.\u001b[0m\u001b[0msleep\u001b[0m\u001b[0;34m(\u001b[0m\u001b[0;36m2.5\u001b[0m\u001b[0;34m)\u001b[0m\u001b[0;34m\u001b[0m\u001b[0;34m\u001b[0m\u001b[0m\n\u001b[1;32m     10\u001b[0m     \u001b[0mprint\u001b[0m\u001b[0;34m(\u001b[0m\u001b[0;34m'The length of refreshed_flats is {}'\u001b[0m\u001b[0;34m.\u001b[0m\u001b[0mformat\u001b[0m\u001b[0;34m(\u001b[0m\u001b[0mlen\u001b[0m\u001b[0;34m(\u001b[0m\u001b[0mrefreshed_flats\u001b[0m\u001b[0;34m)\u001b[0m\u001b[0;34m)\u001b[0m\u001b[0;34m)\u001b[0m\u001b[0;34m\u001b[0m\u001b[0;34m\u001b[0m\u001b[0m\n\u001b[0;32m---> 11\u001b[0;31m     \u001b[0mrefreshed_flats\u001b[0m\u001b[0;34m[\u001b[0m\u001b[0mi\u001b[0m\u001b[0;34m]\u001b[0m\u001b[0;34m.\u001b[0m\u001b[0mclick\u001b[0m\u001b[0;34m(\u001b[0m\u001b[0;34m)\u001b[0m\u001b[0;34m\u001b[0m\u001b[0;34m\u001b[0m\u001b[0m\n\u001b[0m\u001b[1;32m     12\u001b[0m     \u001b[0mtime\u001b[0m\u001b[0;34m.\u001b[0m\u001b[0msleep\u001b[0m\u001b[0;34m(\u001b[0m\u001b[0;36m2.5\u001b[0m\u001b[0;34m)\u001b[0m\u001b[0;34m\u001b[0m\u001b[0;34m\u001b[0m\u001b[0m\n\u001b[1;32m     13\u001b[0m     \u001b[0mbrowser\u001b[0m\u001b[0;34m.\u001b[0m\u001b[0mmaximize_window\u001b[0m\u001b[0;34m(\u001b[0m\u001b[0;34m)\u001b[0m\u001b[0;34m\u001b[0m\u001b[0;34m\u001b[0m\u001b[0m\n",
      "\u001b[0;31mIndexError\u001b[0m: list index out of range"
     ]
    }
   ],
   "source": [
    "data_by_appartm_listing_url = {}\n",
    "\n",
    "for i, f in enumerate(flats) :\n",
    "    if i < 18 :\n",
    "        continue\n",
    "    \n",
    "    appartment_data = {}\n",
    "    \n",
    "    time.sleep(2.5)\n",
    "    refreshed_flats = browser.find_elements_by_xpath('//article/div/span')\n",
    "    time.sleep(3.5)\n",
    "    print('The length of refreshed_flats is {}'.format(len(refreshed_flats)))\n",
    "    refreshed_flats[i].click()\n",
    "    time.sleep(2.5)\n",
    "    browser.maximize_window()\n",
    "    time.sleep(1.5)\n",
    "    price = browser.find_element_by_xpath('//strong[@aria-label=\"Cena\"]').text\n",
    "    highlights = browser.find_element_by_xpath('//header/h1').text\n",
    "    address = browser.find_element_by_xpath('//a[@aria-label=\"Adres\"]').text\n",
    "    area = browser.find_element_by_xpath('//div[@aria-label=\"Powierzchnia\"]').text\n",
    "    num_rooms = browser.find_element_by_xpath('//div[@aria-label=\"Liczba pokoi\"]').text\n",
    "    floor = browser.find_element_by_xpath('//div[@aria-label=\"Piętro\"]').text\n",
    "    rent = browser.find_element_by_xpath('//div[@aria-label=\"Czynsz\"]').text\n",
    "    online_property_inspection = browser.find_element_by_xpath('//div[@aria-label=\"Obsługa zdalna\"]').text\n",
    "    ownership_status = browser.find_element_by_xpath('//div[@aria-label=\"Forma własności\"]').text\n",
    "    flat_condition = browser.find_element_by_xpath('//div[@aria-label=\"Stan wykończenia\"]').text\n",
    "    perks = browser.find_element_by_xpath('//div[@aria-label=\"Balkon / ogród / taras\"]').text\n",
    "    parking = browser.find_element_by_xpath('//div[@aria-label=\"Miejsce parkingowe\"]').text\n",
    "    heating = browser.find_element_by_xpath('//div[@aria-label=\"Ogrzewanie\"]').text\n",
    "    potential_flat_descr_bullets = browser.find_elements_by_xpath('//section/div/div/div/ul[1]/li')\n",
    "    \n",
    "    if potential_flat_descr_bullets != [] :\n",
    "        flat_description_bullets = [b.text for b in potential_flat_descr_bullets if b.text != '']\n",
    "\n",
    "    potential_neighborhood_bullets = browser.find_elements_by_xpath('//section/div/div/div/ul[2]/li')\n",
    "\n",
    "    if potential_neighborhood_bullets != [] :\n",
    "        neighborhood_bullets = [b.text for b in potential_neighborhood_bullets if b.text != '']\n",
    "    \n",
    "    pieces_info = [\n",
    "        'price',\n",
    "        'highlights',\n",
    "        'address',\n",
    "        'area',\n",
    "        'num_rooms',\n",
    "        'floor',\n",
    "        'rent',\n",
    "        'online_property_inspection',\n",
    "        'ownership_status',\n",
    "        'flat_condition',\n",
    "        'perks',\n",
    "        'parking',\n",
    "        'heating',\n",
    "        'flat_description_bullets',\n",
    "        'neighborhood_bullets',\n",
    "    ]\n",
    "    \n",
    "    for p in pieces_info :\n",
    "        try :\n",
    "            appartment_data[p] = eval(p)\n",
    "        except NameError :\n",
    "            notification = 'The info was not provided'\n",
    "            print(notification)\n",
    "            appartment_data[p] = notification\n",
    "    \n",
    "    url = browser.current_url\n",
    "    time.sleep(1)\n",
    "    data_by_appartm_listing_url[url] = appartment_data\n",
    "    \n",
    "    browser.back()\n",
    "    time.sleep(2.5)\n",
    "    "
   ]
  },
  {
   "cell_type": "code",
   "execution_count": null,
   "id": "e2464a9b",
   "metadata": {},
   "outputs": [],
   "source": [
    "price = browser.find_element_by_xpath('//strong[@aria-label=\"Cena\"]').text\n",
    "highlights = browser.find_element_by_xpath('//header/h1').text\n",
    "address = browser.find_element_by_xpath('//a[@aria-label=\"Adres\"]').text"
   ]
  },
  {
   "cell_type": "code",
   "execution_count": 17,
   "id": "b2abf21f",
   "metadata": {},
   "outputs": [],
   "source": [
    "area = browser.find_element_by_xpath('//div[@aria-label=\"Powierzchnia\"]').text\n",
    "num_rooms = browser.find_element_by_xpath('//div[@aria-label=\"Liczba pokoi\"]').text\n",
    "floor = browser.find_element_by_xpath('//div[@aria-label=\"Piętro\"]').text\n",
    "rent = browser.find_element_by_xpath('//div[@aria-label=\"Czynsz\"]').text\n",
    "online_property_inspection = browser.find_element_by_xpath('//div[@aria-label=\"Obsługa zdalna\"]').text\n",
    "ownership_status = browser.find_element_by_xpath('//div[@aria-label=\"Forma własności\"]').text\n",
    "flat_condition = browser.find_element_by_xpath('//div[@aria-label=\"Stan wykończenia\"]').text\n",
    "perks = browser.find_element_by_xpath('//div[@aria-label=\"Balkon / ogród / taras\"]').text\n",
    "parking = browser.find_element_by_xpath('//div[@aria-label=\"Miejsce parkingowe\"]').text\n",
    "heating = browser.find_element_by_xpath('//div[@aria-label=\"Ogrzewanie\"]').text"
   ]
  },
  {
   "cell_type": "code",
   "execution_count": 18,
   "id": "9e87799d",
   "metadata": {},
   "outputs": [],
   "source": [
    "potential_flat_descr_bullets = browser.find_elements_by_xpath('//section/div/div/div/ul[1]/li')\n",
    "\n",
    "if potential_flat_descr_bullets != [] :\n",
    "    flat_description_bullets = [b.text for b in potential_flat_descr_bullets if b.text != '']\n",
    "\n",
    "potential_neighborhood_bullets = browser.find_elements_by_xpath('//section/div/div/div/ul[2]/li')\n",
    "\n",
    "if potential_neighborhood_bullets != [] :\n",
    "    neighborhood_bullets = [b.text for b in potential_neighborhood_bullets if b.text != '']"
   ]
  },
  {
   "cell_type": "code",
   "execution_count": 19,
   "id": "9a97d18c",
   "metadata": {},
   "outputs": [],
   "source": [
    "neighborhood_long_descr = ' '.join(\\\n",
    "                                   [b.text for b in\\\n",
    "                                    browser.find_elements_by_xpath('//section/div/div/div/p')]\\\n",
    "                                  ).strip()"
   ]
  },
  {
   "cell_type": "code",
   "execution_count": 20,
   "id": "24f808bb",
   "metadata": {},
   "outputs": [
    {
     "data": {
      "text/plain": [
       "'Sprzedam mieszkanie w stanie deweloperskim na osiedlu Browary Wrocławskie  przy ulicy Jedności Narodowej, w  budynku oddanym do użytku w 2021 r. Nieruchomość jest położona na 5. piętrze budynku pięciopiętrowego, z ekspozycją okien na północny wschód i wschód południowy, co przy upalnych latach jest wielkim atutem. Mieszkanie o powierzchni 75,48 m2 i wysokości 270 cm składa się salonu o pow. 17,2 m2 z salonu z wyjściem na balkon o powierzchni 4,75 m2 , wydzielonej kuchni  o powierzchni 8,27 m3 z oknem, z sypialni z miejscem na dużą szafę wnękową , dwóch mniejszych pokoi , łazienki, WC, pomieszczenia gospodarczego( pralni) i holu z miejscami na 5 szaf wnękowych.. Do lokalu przynależy komórka lokatorska o powierzchni 5,25 m2 położona  na tej samej kondygnacji.'"
      ]
     },
     "execution_count": 20,
     "metadata": {},
     "output_type": "execute_result"
    }
   ],
   "source": [
    "neighborhood_long_descr"
   ]
  },
  {
   "cell_type": "code",
   "execution_count": null,
   "id": "4c8906fc",
   "metadata": {},
   "outputs": [],
   "source": []
  }
 ],
 "metadata": {
  "hide_input": false,
  "kernelspec": {
   "display_name": "Python 3",
   "language": "python",
   "name": "python3"
  },
  "language_info": {
   "codemirror_mode": {
    "name": "ipython",
    "version": 3
   },
   "file_extension": ".py",
   "mimetype": "text/x-python",
   "name": "python",
   "nbconvert_exporter": "python",
   "pygments_lexer": "ipython3",
   "version": "3.6.9"
  }
 },
 "nbformat": 4,
 "nbformat_minor": 5
}
